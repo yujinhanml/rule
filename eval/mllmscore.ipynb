{
 "cells": [
  {
   "cell_type": "code",
   "execution_count": 1,
   "metadata": {},
   "outputs": [
    {
     "name": "stderr",
     "output_type": "stream",
     "text": [
      "/root/miniconda3/envs/yjenv/lib/python3.11/site-packages/tqdm/auto.py:21: TqdmWarning: IProgress not found. Please update jupyter and ipywidgets. See https://ipywidgets.readthedocs.io/en/stable/user_install.html\n",
      "  from .autonotebook import tqdm as notebook_tqdm\n"
     ]
    },
    {
     "name": "stderr",
     "output_type": "stream",
     "text": [
      "2025-03-28 11:36:03.408845: I tensorflow/core/util/port.cc:153] oneDNN custom operations are on. You may see slightly different numerical results due to floating-point round-off errors from different computation orders. To turn them off, set the environment variable `TF_ENABLE_ONEDNN_OPTS=0`.\n",
      "2025-03-28 11:36:03.422993: E external/local_xla/xla/stream_executor/cuda/cuda_fft.cc:467] Unable to register cuFFT factory: Attempting to register factory for plugin cuFFT when one has already been registered\n",
      "WARNING: All log messages before absl::InitializeLog() is called are written to STDERR\n",
      "E0000 00:00:1743132963.439145 1837107 cuda_dnn.cc:8579] Unable to register cuDNN factory: Attempting to register factory for plugin cuDNN when one has already been registered\n",
      "E0000 00:00:1743132963.443913 1837107 cuda_blas.cc:1407] Unable to register cuBLAS factory: Attempting to register factory for plugin cuBLAS when one has already been registered\n",
      "W0000 00:00:1743132963.456813 1837107 computation_placer.cc:177] computation placer already registered. Please check linkage and avoid linking the same target more than once.\n",
      "W0000 00:00:1743132963.456832 1837107 computation_placer.cc:177] computation placer already registered. Please check linkage and avoid linking the same target more than once.\n",
      "W0000 00:00:1743132963.456834 1837107 computation_placer.cc:177] computation placer already registered. Please check linkage and avoid linking the same target more than once.\n",
      "W0000 00:00:1743132963.456835 1837107 computation_placer.cc:177] computation placer already registered. Please check linkage and avoid linking the same target more than once.\n",
      "2025-03-28 11:36:03.461276: I tensorflow/core/platform/cpu_feature_guard.cc:210] This TensorFlow binary is optimized to use available CPU instructions in performance-critical operations.\n",
      "To enable the following instructions: AVX2 AVX512F AVX512_VNNI FMA, in other operations, rebuild TensorFlow with the appropriate compiler flags.\n",
      "Loading checkpoint shards: 100%|██████████| 5/5 [00:09<00:00,  1.99s/it]\n",
      "Using a slow image processor as `use_fast` is unset and a slow processor was saved with this model. `use_fast=True` will be the default behavior in v4.50, even if the model was saved with a slow processor. This will result in minor differences in outputs. You'll still be able to use a slow processor with `use_fast=False`.\n"
     ]
    }
   ],
   "source": [
    "from transformers import Qwen2_5_VLForConditionalGeneration, AutoTokenizer, AutoProcessor,Qwen2VLForConditionalGeneration\n",
    "# from transformers import AutoProcessor,Qwen2VLForConditionalGeneration\n",
    "import numpy as np\n",
    "from qwen_vl_utils import process_vision_info\n",
    "\n",
    "local_path = \"/cpfs04/shared/CausaLLMs/HuggingfaceModels/Qwen2.5-VL-7B-Instruct\"\n",
    "\n",
    "model = Qwen2_5_VLForConditionalGeneration.from_pretrained(\n",
    "    local_path, torch_dtype=\"auto\", device_map=\"auto\"\n",
    ")\n",
    "\n",
    "# local_path = \"/cpfs04/shared/CausaLLMs/HuggingfaceModels/QVQ-72B-Preview\"\n",
    "\n",
    "# model = Qwen2VLForConditionalGeneration.from_pretrained(\n",
    "#     local_path, torch_dtype=\"auto\", device_map=\"auto\"\n",
    "# )\n",
    "\n",
    "processor = AutoProcessor.from_pretrained(local_path)"
   ]
  },
  {
   "cell_type": "code",
   "execution_count": 17,
   "metadata": {},
   "outputs": [],
   "source": [
    "import re\n",
    "def evaluate_image(image_path,image_size) -> str:\n",
    "    \"\"\"\n",
    "    Evaluates the given image for internal visual consistency and returns a score.\n",
    "    \n",
    "    The evaluation is performed by prompting the model with a message asking to rate the image\n",
    "    from 0 (inconsistent) to 10 (completely harmonious and consistent), following the format:\n",
    "    \"The score is {your_score}. The reason is {your_reason}.\"\n",
    "    \n",
    "    Args:\n",
    "        image_path (str): The path to the image.\n",
    "    \n",
    "    Returns:\n",
    "        str: The generated output text containing the score and the reason.\n",
    "    \"\"\"\n",
    "    messages = [\n",
    "        {\n",
    "            \"role\": \"user\",\n",
    "            \"content\": [\n",
    "                {\"type\": \"image\", \"image\": image_path,\"resized_height\":image_size,\"resized_width\":image_size},\n",
    "                {\"type\": \"text\", \"text\": (\n",
    "                    \"You're an expert in understanding images. Each image can be divided into 4 numbers along the horizontal and vertical midlines. First, identify these 4 numbers separately, calculate their sum, and check if it's 24. If yes, label it as 1; otherwise, label it as 0.\"\n",
    "                    \"Please think this step by step and answer in the the format: The label is {your_label}. The reason is {your_reason}.\"\n",
    "                )},\n",
    "            ],\n",
    "        }\n",
    "    ]\n",
    "\n",
    "    # Preparation for inference\n",
    "    text = processor.apply_chat_template(\n",
    "        messages, tokenize=False, add_generation_prompt=True\n",
    "    )\n",
    "    image_inputs, video_inputs = process_vision_info(messages)\n",
    "    inputs = processor(\n",
    "        text=[text],\n",
    "        images=image_inputs,\n",
    "        videos=video_inputs,\n",
    "        padding=True,\n",
    "        return_tensors=\"pt\",\n",
    "    )\n",
    "    inputs = inputs.to(\"cuda\")\n",
    "\n",
    "    # Inference: Generation of the output\n",
    "    generated_ids = model.generate(**inputs, max_new_tokens=1000)\n",
    "    generated_ids_trimmed = [\n",
    "        out_ids[len(in_ids) :] for in_ids, out_ids in zip(inputs.input_ids, generated_ids)\n",
    "    ]\n",
    "    output_text = processor.batch_decode(\n",
    "        generated_ids_trimmed, skip_special_tokens=True, clean_up_tokenization_spaces=False\n",
    "    )\n",
    "    \n",
    "    # 返回生成的评分信息（例如字符串形式）\n",
    "\n",
    "    # print(\"image_path:\",image_path,\"output_text:\",output_text)\n",
    "    # return extract_score_after_final_answer(output_text) \n",
    "    pattern = r\"(?i)(?:The\\s+label is)[\\s:-]*(\\d+)\"\n",
    "    match = re.search(pattern, output_text[0])\n",
    "    if match:\n",
    "        return int(match.group(1))\n",
    "    else:\n",
    "        raise ValueError(f\"Score not found in output: {output_text[0]}\")\n",
    "\n",
    "import re\n",
    "\n",
    "def extract_score_after_final_answer(output_text):\n",
    "    \"\"\"\n",
    "    从给定文本中查找 **Final Answer** 后面出现的第一个数字，并返回其整数值。\n",
    "    如果未找到，则抛出 ValueError。\n",
    "    \"\"\"\n",
    "    # 若 output_text 是列表，则默认取第一个元素\n",
    "    if isinstance(output_text, list):\n",
    "        text_to_search = output_text[0]\n",
    "    else:\n",
    "        text_to_search = output_text\n",
    "\n",
    "    # 正则：匹配 \"**Final Answer**\" 后，任意字符(含换行)，再遇到数字(\\d+)\n",
    "    pattern = r\"\\*\\*Final Answer\\*\\*.*?(\\d+)\"\n",
    "    match = re.search(pattern, text_to_search, re.DOTALL)\n",
    "\n",
    "    if match:\n",
    "        return int(match.group(1))\n",
    "    else:\n",
    "        raise ValueError(f\"No number found after **Final Answer** in: {text_to_search}\")\n"
   ]
  },
  {
   "cell_type": "code",
   "execution_count": 13,
   "metadata": {},
   "outputs": [
    {
     "name": "stdout",
     "output_type": "stream",
     "text": [
      "1\n"
     ]
    }
   ],
   "source": [
    "import re\n",
    "\n",
    "def extract_label(text):\n",
    "    # 增强版正则表达式，处理多种文本格式\n",
    "    pattern = r\"(?i)(?:The\\s+label is)[\\s:-]*(\\d+)\"\n",
    "    match = re.search(pattern, text)\n",
    "    \n",
    "    if match:\n",
    "        return int(match.group(1))\n",
    "    else:\n",
    "        # 调试模式：显示所有潜在匹配\n",
    "        debug_matches = re.findall(r'\\d+', text)\n",
    "        raise ValueError(f\"未找到标签值，文本中所有数字：{debug_matches}\")\n",
    "\n",
    "# 测试用例\n",
    "test_text = \"Therefore, the label is 1 because the sum of the numbers is 24. The label is 1. The reason is the sum of the numbers 2, 8, 7, and 7 is 24.\"\n",
    "print(extract_label(test_text))  # 输出: 1"
   ]
  },
  {
   "cell_type": "code",
   "execution_count": 18,
   "metadata": {},
   "outputs": [],
   "source": [
    "import os\n",
    "import random\n",
    "import numpy as np\n",
    "from PIL import Image\n",
    "import torch\n",
    "from tqdm import tqdm\n",
    "import tempfile\n",
    "image_dir = \"/cpfs04/user/hanyujin/rule-gen/datasets/mnist-mnist/images\"\n",
    "image_dir_1 = \"/cpfs04/user/hanyujin/causal-dm/results/mnist-mnist_unet/vis/epoch_500_1743129768.0850055\"\n",
    "image_dir_2 = \"/cpfs04/user/hanyujin/causal-dm/AR_diff/results/mnist-mnist_parallelFalse_reverseFalse_patch32_dim480_depth6_mlpdepth3_noweightedlossTrue_trainsteps125000_mlp/generations/checkpoint.125000\"\n",
    "# 获取所有 PNG 文件\n",
    "image_files = [f for f in os.listdir(image_dir) if f.endswith(\".png\")]\n",
    "image_files_1 = [f for f in os.listdir(image_dir_1) if f.endswith(\".png\")]\n",
    "image_files_2 = [f for f in os.listdir(image_dir_2) if f.endswith(\".png\")]\n",
    "# 随机采样100张图片（如果图片总数不足，则全部使用）\n",
    "sample_size = min(10, len(image_files))\n",
    "sampled_files = random.sample(image_files, sample_size) #sorted(image_files)[:sample_size] #random.sample(image_files_1, sample_size)\n",
    "\n",
    "sample_size = min(10, len(image_files_1))\n",
    "sampled_files_1 = random.sample(image_files_1, sample_size) #sorted(image_files_1)[:sample_size] #random.sample(image_files_1, sample_size)\n",
    "\n",
    "sample_size = min(10, len(image_files_2))\n",
    "sampled_files_2 = random.sample(image_files_2, sample_size) #sorted(image_files_2)[:sample_size] #random.sample(image_files_2, sample_size)\n",
    "\n",
    "image_size = 256"
   ]
  },
  {
   "cell_type": "code",
   "execution_count": 19,
   "metadata": {},
   "outputs": [
    {
     "name": "stderr",
     "output_type": "stream",
     "text": [
      "Processing Raw Images:  10%|█         | 1/10 [00:05<00:46,  5.13s/it, avg_score=0.0000]"
     ]
    },
    {
     "name": "stdout",
     "output_type": "stream",
     "text": [
      "Error evaluating original image combined_0168.png: Score not found in output: Let's break down the image into its four numbers:\n",
      "\n",
      "1. The number at the top-left corner is \\(0\\).\n",
      "2. The number at the top-right corner is \\(7\\).\n",
      "3. The number at the bottom-left corner is \\(9\\).\n",
      "4. The number at the bottom-right corner is \\(8\\).\n",
      "\n",
      "Now, let's add these numbers together:\n",
      "\\[0 + 7 + 9 + 8 = 24\\]\n",
      "\n",
      "Since the sum of these numbers is indeed 24, we can conclude that the label should be 1.\n",
      "\n",
      "The label is \\(\\boxed{1}\\). The reason is that the sum of the numbers \\(0 + 7 + 9 + 8\\) equals 24.\n",
      "Train image scores: [None]\n"
     ]
    },
    {
     "name": "stderr",
     "output_type": "stream",
     "text": [
      "Processing Raw Images:  20%|██        | 2/10 [00:09<00:37,  4.68s/it, avg_score=0.0000]"
     ]
    },
    {
     "name": "stdout",
     "output_type": "stream",
     "text": [
      "Error evaluating original image combined_1857.png: Score not found in output: Let's break down the image into four numbers:\n",
      "\n",
      "1. Top left number: 4\n",
      "2. Top right number: 7\n",
      "3. Bottom left number: 2\n",
      "4. Bottom right number: 8\n",
      "\n",
      "Now, let's add these numbers together:\n",
      "\\[ 4 + 7 + 2 + 8 = 21 \\]\n",
      "\n",
      "The sum of these numbers is 21, which is not equal to 24.\n",
      "\n",
      "Therefore, the label is {0}. The reason is that the sum of the numbers (4 + 7 + 2 + 8) is 21, not 24.\n",
      "Train image scores: [None, None]\n"
     ]
    },
    {
     "name": "stderr",
     "output_type": "stream",
     "text": [
      "Processing Raw Images:  30%|███       | 3/10 [00:13<00:31,  4.51s/it, avg_score=1.0000]"
     ]
    },
    {
     "name": "stdout",
     "output_type": "stream",
     "text": [
      "Train image scores: [None, None, 1]\n"
     ]
    },
    {
     "name": "stderr",
     "output_type": "stream",
     "text": [
      "Processing Raw Images:  40%|████      | 4/10 [00:18<00:27,  4.60s/it, avg_score=1.0000]"
     ]
    },
    {
     "name": "stdout",
     "output_type": "stream",
     "text": [
      "Train image scores: [None, None, 1, 1]\n"
     ]
    },
    {
     "name": "stderr",
     "output_type": "stream",
     "text": [
      "Processing Raw Images:  50%|█████     | 5/10 [00:22<00:22,  4.47s/it, avg_score=1.0000]"
     ]
    },
    {
     "name": "stdout",
     "output_type": "stream",
     "text": [
      "Train image scores: [None, None, 1, 1, 1]\n"
     ]
    },
    {
     "name": "stderr",
     "output_type": "stream",
     "text": [
      "Processing Raw Images:  60%|██████    | 6/10 [00:27<00:17,  4.40s/it, avg_score=1.0000]"
     ]
    },
    {
     "name": "stdout",
     "output_type": "stream",
     "text": [
      "Train image scores: [None, None, 1, 1, 1, 1]\n"
     ]
    },
    {
     "name": "stderr",
     "output_type": "stream",
     "text": [
      "Processing Raw Images:  70%|███████   | 7/10 [00:31<00:13,  4.45s/it, avg_score=1.0000]"
     ]
    },
    {
     "name": "stdout",
     "output_type": "stream",
     "text": [
      "Error evaluating original image combined_0110.png: Score not found in output: Let's break down the image into the four numbers:\n",
      "\n",
      "1. Top left number: 6\n",
      "2. Top right number: 3\n",
      "3. Bottom left number: 4\n",
      "4. Bottom right number: 9\n",
      "\n",
      "Now, let's add these numbers together:\n",
      "\\[ 6 + 3 + 4 + 9 = 22 \\]\n",
      "\n",
      "The sum of the four numbers is 22, which is not equal to 24.\n",
      "\n",
      "Therefore, the label is {0}. The reason is that the sum of the four numbers (6 + 3 + 4 + 9) is 22, not 24.\n",
      "Train image scores: [None, None, 1, 1, 1, 1, None]\n"
     ]
    },
    {
     "name": "stderr",
     "output_type": "stream",
     "text": [
      "Processing Raw Images:  80%|████████  | 8/10 [00:36<00:08,  4.44s/it, avg_score=1.0000]"
     ]
    },
    {
     "name": "stdout",
     "output_type": "stream",
     "text": [
      "Error evaluating original image combined_0210.png: Score not found in output: Let's break down the image into four numbers:\n",
      "\n",
      "1. Top left number: 63\n",
      "2. Top right number: 9\n",
      "3. Bottom left number: 6\n",
      "4. Bottom right number: 6\n",
      "\n",
      "Now, let's add these numbers together:\n",
      "\\[ 63 + 9 + 6 + 6 = 84 \\]\n",
      "\n",
      "The sum of these numbers is 84, which is not equal to 24.\n",
      "\n",
      "Therefore, the label is {0}. The reason is that the sum of the numbers (63, 9, 6, 6) is 84, not 24.\n",
      "Train image scores: [None, None, 1, 1, 1, 1, None, None]\n"
     ]
    },
    {
     "name": "stderr",
     "output_type": "stream",
     "text": [
      "Processing Raw Images:  90%|█████████ | 9/10 [00:40<00:04,  4.54s/it, avg_score=1.0000]"
     ]
    },
    {
     "name": "stdout",
     "output_type": "stream",
     "text": [
      "Error evaluating original image combined_0969.png: Score not found in output: Let's break down the image into its four numbers:\n",
      "\n",
      "1. The number at the top left is 7.\n",
      "2. The number at the top right is 7.\n",
      "3. The number at the bottom left is 7.\n",
      "4. The number at the bottom right is 8.\n",
      "\n",
      "Now, let's add these numbers together:\n",
      "\\[ 7 + 7 + 7 + 8 = 29 \\]\n",
      "\n",
      "The sum of the four numbers is 29, which is not equal to 24.\n",
      "\n",
      "Therefore, the label is {0}. The reason is that the sum of the four numbers (7 + 7 + 7 + 8) is 29, not 24.\n",
      "Train image scores: [None, None, 1, 1, 1, 1, None, None, None]\n"
     ]
    },
    {
     "name": "stderr",
     "output_type": "stream",
     "text": [
      "Processing Raw Images: 100%|██████████| 10/10 [00:45<00:00,  4.51s/it, avg_score=1.0000]"
     ]
    },
    {
     "name": "stdout",
     "output_type": "stream",
     "text": [
      "Error evaluating original image combined_1109.png: Score not found in output: Let's break down the image into its four numbers:\n",
      "\n",
      "1. Top left number: 8\n",
      "2. Top right number: 6\n",
      "3. Bottom left number: 2\n",
      "4. Bottom right number: 9\n",
      "\n",
      "Now, let's add these numbers together:\n",
      "\\[ 8 + 6 + 2 + 9 = 25 \\]\n",
      "\n",
      "The sum of the four numbers is 25, which is not equal to 24.\n",
      "\n",
      "Therefore, the label is {0}. The reason is that the sum of the four numbers (8, 6, 2, 9) is 25, not 24.\n",
      "Train image scores: [None, None, 1, 1, 1, 1, None, None, None, None]\n",
      "Train image scores: [None, None, 1, 1, 1, 1, None, None, None, None]\n"
     ]
    },
    {
     "name": "stderr",
     "output_type": "stream",
     "text": [
      "\n"
     ]
    }
   ],
   "source": [
    "# image_size = 64\n",
    "scores_original = []\n",
    "running_sum = 0\n",
    "valid_count = 0\n",
    "pbar = tqdm(sampled_files, desc=\"Processing Raw Images\")\n",
    "for image_name in pbar:\n",
    "    image_path = os.path.join(image_dir, image_name)\n",
    "    try:\n",
    "        score = evaluate_image(image_path,image_size)\n",
    "    except Exception as e:\n",
    "        print(f\"Error evaluating original image {image_name}: {e}\")\n",
    "        score = None\n",
    "\n",
    "    if score is not None:\n",
    "        running_sum += score\n",
    "        valid_count += 1\n",
    "\n",
    "    scores_original.append(score)\n",
    "    print(\"Train image scores:\", scores_original)\n",
    "    avg_score = running_sum / valid_count if valid_count > 0 else 0\n",
    "    pbar.set_postfix(avg_score=f\"{avg_score:.4f}\")\n",
    "print(\"Train image scores:\", scores_original)"
   ]
  },
  {
   "cell_type": "code",
   "execution_count": 20,
   "metadata": {},
   "outputs": [
    {
     "name": "stderr",
     "output_type": "stream",
     "text": [
      "Processing DDPM Images:  10%|█         | 1/10 [00:04<00:44,  4.95s/it, avg_score=0.0000]"
     ]
    },
    {
     "name": "stdout",
     "output_type": "stream",
     "text": [
      "Error evaluating original image sunshadow_188.png: Score not found in output: Let's break down the image into four numbers:\n",
      "\n",
      "1. The number on the top left appears to be 2.\n",
      "2. The number on the top right appears to be 2.\n",
      "3. The number on the bottom left appears to be 4.\n",
      "4. The number on the bottom right appears to be 4.\n",
      "\n",
      "Now, let's add these numbers together:\n",
      "\\[ 2 + 2 + 4 + 4 = 12 \\]\n",
      "\n",
      "The sum of these numbers is 12, which is not equal to 24.\n",
      "\n",
      "Therefore, the label is {0}. The reason is that the sum of the numbers (2, 2, 4, 4) is 12, not 24.\n",
      "DDPM image scores: [None]\n"
     ]
    },
    {
     "name": "stderr",
     "output_type": "stream",
     "text": [
      "Processing DDPM Images:  20%|██        | 2/10 [00:09<00:36,  4.61s/it, avg_score=0.0000]"
     ]
    },
    {
     "name": "stdout",
     "output_type": "stream",
     "text": [
      "Error evaluating original image sunshadow_59.png: Score not found in output: Let's break down the image into four numbers:\n",
      "\n",
      "1. Top left number: 9\n",
      "2. Top right number: 8\n",
      "3. Bottom left number: 6\n",
      "4. Bottom right number: 5\n",
      "\n",
      "Now, let's add these numbers together:\n",
      "\\[ 9 + 8 + 6 + 5 = 28 \\]\n",
      "\n",
      "The sum of the four numbers is 28, which is not equal to 24.\n",
      "\n",
      "Therefore, the label is {0}. The reason is that the sum of the four numbers (9 + 8 + 6 + 5) is 28, not 24.\n",
      "DDPM image scores: [None, None]\n"
     ]
    },
    {
     "name": "stderr",
     "output_type": "stream",
     "text": [
      "Processing DDPM Images:  30%|███       | 3/10 [00:13<00:31,  4.47s/it, avg_score=0.0000]"
     ]
    },
    {
     "name": "stdout",
     "output_type": "stream",
     "text": [
      "Error evaluating original image sunshadow_105.png: Score not found in output: Let's break down the image into four numbers:\n",
      "\n",
      "1. Top left number: 6\n",
      "2. Top right number: 2\n",
      "3. Bottom left number: 9\n",
      "4. Bottom right number: 3\n",
      "\n",
      "Now, let's add these numbers together:\n",
      "\\[ 6 + 2 + 9 + 3 = 20 \\]\n",
      "\n",
      "The sum of the numbers is 20, which is not equal to 24.\n",
      "\n",
      "Therefore, the label is {0}. The reason is that the sum of the numbers (6 + 2 + 9 + 3) is 20, not 24.\n",
      "DDPM image scores: [None, None, None]\n"
     ]
    },
    {
     "name": "stderr",
     "output_type": "stream",
     "text": [
      "Processing DDPM Images:  40%|████      | 4/10 [00:17<00:26,  4.41s/it, avg_score=0.0000]"
     ]
    },
    {
     "name": "stdout",
     "output_type": "stream",
     "text": [
      "Error evaluating original image sunshadow_159.png: Score not found in output: Let's break down the image into its four numbers:\n",
      "\n",
      "1. Top-left number: 1\n",
      "2. Top-right number: 8\n",
      "3. Bottom-left number: 9\n",
      "4. Bottom-right number: 8\n",
      "\n",
      "Now, let's add these numbers together:\n",
      "\\[ 1 + 8 + 9 + 8 = 26 \\]\n",
      "\n",
      "The sum of the four numbers is 26, which is not equal to 24.\n",
      "\n",
      "Therefore, the label is {0}. The reason is that the sum of the four numbers (1 + 8 + 9 + 8) is 26, not 24.\n",
      "DDPM image scores: [None, None, None, None]\n"
     ]
    },
    {
     "name": "stderr",
     "output_type": "stream",
     "text": [
      "Processing DDPM Images:  50%|█████     | 5/10 [00:22<00:21,  4.40s/it, avg_score=0.0000]"
     ]
    },
    {
     "name": "stdout",
     "output_type": "stream",
     "text": [
      "Error evaluating original image sunshadow_135.png: Score not found in output: Let's break down the image into the four numbers:\n",
      "\n",
      "1. Top left number: 5\n",
      "2. Top right number: 4\n",
      "3. Bottom left number: 9\n",
      "4. Bottom right number: 9\n",
      "\n",
      "Now, let's add these numbers together:\n",
      "\\[ 5 + 4 + 9 + 9 = 27 \\]\n",
      "\n",
      "The sum of the four numbers is 27, which is not equal to 24.\n",
      "\n",
      "Therefore, the label is {0}. The reason is that the sum of the numbers (5 + 4 + 9 + 9) is 27, not 24.\n",
      "DDPM image scores: [None, None, None, None, None]\n"
     ]
    },
    {
     "name": "stderr",
     "output_type": "stream",
     "text": [
      "Processing DDPM Images:  60%|██████    | 6/10 [00:27<00:18,  4.58s/it, avg_score=0.0000]"
     ]
    },
    {
     "name": "stdout",
     "output_type": "stream",
     "text": [
      "Error evaluating original image sunshadow_150.png: Score not found in output: Let's break down the image into four numbers:\n",
      "\n",
      "1. The number at the top left appears to be '5'.\n",
      "2. The number at the top right appears to be '9'.\n",
      "3. The number at the bottom left appears to be '8'.\n",
      "4. The number at the bottom right appears to be '4'.\n",
      "\n",
      "Now, let's add these numbers together:\n",
      "\\[ 5 + 9 + 8 + 4 = 26 \\]\n",
      "\n",
      "The sum of these numbers is 26, not 24.\n",
      "\n",
      "Therefore, the label is {0}. The reason is that the sum of the numbers (5, 9, 8, 4) is 26, which does not equal 24.\n",
      "DDPM image scores: [None, None, None, None, None, None]\n"
     ]
    },
    {
     "name": "stderr",
     "output_type": "stream",
     "text": [
      "Processing DDPM Images:  70%|███████   | 7/10 [00:31<00:13,  4.63s/it, avg_score=0.0000]"
     ]
    },
    {
     "name": "stdout",
     "output_type": "stream",
     "text": [
      "Error evaluating original image sunshadow_56.png: Score not found in output: Let's break down the image into four numbers:\n",
      "\n",
      "1. The top left number appears to be 9.\n",
      "2. The top right number appears to be 6.\n",
      "3. The bottom left number appears to be 9.\n",
      "4. The bottom right number appears to be 7.\n",
      "\n",
      "Now, let's add these numbers together:\n",
      "\\[ 9 + 6 + 9 + 7 = 31 \\]\n",
      "\n",
      "The sum of the numbers is 31, which is not equal to 24.\n",
      "\n",
      "Therefore, the label is {0}. The reason is that the sum of the numbers (9 + 6 + 9 + 7) is 31, not 24.\n",
      "DDPM image scores: [None, None, None, None, None, None, None]\n"
     ]
    },
    {
     "name": "stderr",
     "output_type": "stream",
     "text": [
      "Processing DDPM Images:  80%|████████  | 8/10 [00:36<00:09,  4.55s/it, avg_score=0.0000]"
     ]
    },
    {
     "name": "stdout",
     "output_type": "stream",
     "text": [
      "Error evaluating original image sunshadow_109.png: Score not found in output: Let's break down the image into four numbers:\n",
      "\n",
      "1. Top left number: 6\n",
      "2. Top right number: 8\n",
      "3. Bottom left number: 9\n",
      "4. Bottom right number: 7\n",
      "\n",
      "Now, let's add these numbers together:\n",
      "\\[ 6 + 8 + 9 + 7 = 30 \\]\n",
      "\n",
      "The sum of the four numbers is 30, which is not equal to 24.\n",
      "\n",
      "Therefore, the label is {0}. The reason is that the sum of the four numbers (6 + 8 + 9 + 7) is 30, not 24.\n",
      "DDPM image scores: [None, None, None, None, None, None, None, None]\n"
     ]
    },
    {
     "name": "stderr",
     "output_type": "stream",
     "text": [
      "Processing DDPM Images:  90%|█████████ | 9/10 [00:40<00:04,  4.49s/it, avg_score=0.0000]"
     ]
    },
    {
     "name": "stdout",
     "output_type": "stream",
     "text": [
      "Error evaluating original image sunshadow_158.png: Score not found in output: Let's break down the image into four numbers:\n",
      "\n",
      "1. Top-left number: 2\n",
      "2. Top-right number: 4\n",
      "3. Bottom-left number: 6\n",
      "4. Bottom-right number: 6\n",
      "\n",
      "Now, let's add these numbers together:\n",
      "\\[ 2 + 4 + 6 + 6 = 18 \\]\n",
      "\n",
      "The sum of the numbers is 18, which is not equal to 24.\n",
      "\n",
      "Therefore, the label is {0}. The reason is that the sum of the numbers (2 + 4 + 6 + 6) is 18, not 24.\n",
      "DDPM image scores: [None, None, None, None, None, None, None, None, None]\n"
     ]
    },
    {
     "name": "stderr",
     "output_type": "stream",
     "text": [
      "Processing DDPM Images: 100%|██████████| 10/10 [00:45<00:00,  4.55s/it, avg_score=0.0000]"
     ]
    },
    {
     "name": "stdout",
     "output_type": "stream",
     "text": [
      "Error evaluating original image sunshadow_160.png: Score not found in output: Let's break down the image into four numbers:\n",
      "\n",
      "1. The top-left number appears to be 9.\n",
      "2. The top-right number appears to be 5.\n",
      "3. The bottom-left number appears to be 6.\n",
      "4. The bottom-right number appears to be 8.\n",
      "\n",
      "Now, let's add these numbers together:\n",
      "\\[ 9 + 5 + 6 + 8 = 28 \\]\n",
      "\n",
      "The sum of the numbers is 28, which is not equal to 24.\n",
      "\n",
      "Therefore, the label is {0}. The reason is that the sum of the numbers (9 + 5 + 6 + 8) is 28, not 24.\n",
      "DDPM image scores: [None, None, None, None, None, None, None, None, None, None]\n",
      "DDPM image scores: [None, None, None, None, None, None, None, None, None, None]\n"
     ]
    },
    {
     "name": "stderr",
     "output_type": "stream",
     "text": [
      "\n"
     ]
    }
   ],
   "source": [
    "# 用于存储 Qwen 得分\n",
    "scores_original_1 = []\n",
    "running_sum = 0\n",
    "valid_count = 0\n",
    "pbar = tqdm(sampled_files_1, desc=\"Processing DDPM Images\")\n",
    "for image_name in pbar:\n",
    "    image_path = os.path.join(image_dir_1, image_name)\n",
    "    try:\n",
    "        score = evaluate_image(image_path,image_size)\n",
    "    except Exception as e:\n",
    "        print(f\"Error evaluating original image {image_name}: {e}\")\n",
    "        score = None\n",
    "\n",
    "    if score is not None:\n",
    "        running_sum += score\n",
    "        valid_count += 1\n",
    "\n",
    "    scores_original_1.append(score)\n",
    "    print(\"DDPM image scores:\", scores_original_1)\n",
    "    avg_score = running_sum / valid_count if valid_count > 0 else 0\n",
    "    pbar.set_postfix(avg_score=f\"{avg_score:.4f}\")\n",
    "print(\"DDPM image scores:\", scores_original_1)\n",
    "# [2,]"
   ]
  },
  {
   "cell_type": "code",
   "execution_count": 21,
   "metadata": {},
   "outputs": [
    {
     "name": "stderr",
     "output_type": "stream",
     "text": [
      "Processing DDPM Images:  10%|█         | 1/10 [00:04<00:44,  4.93s/it, avg_score=0.0000]"
     ]
    },
    {
     "name": "stdout",
     "output_type": "stream",
     "text": [
      "Error evaluating original image sunshadow_188.png: Score not found in output: Let's break down the image into four numbers:\n",
      "\n",
      "1. The number on the top left appears to be 2.\n",
      "2. The number on the top right appears to be 2.\n",
      "3. The number on the bottom left appears to be 4.\n",
      "4. The number on the bottom right appears to be 4.\n",
      "\n",
      "Now, let's add these numbers together:\n",
      "\\[ 2 + 2 + 4 + 4 = 12 \\]\n",
      "\n",
      "The sum of these numbers is 12, which is not equal to 24.\n",
      "\n",
      "Therefore, the label is {0}. The reason is that the sum of the numbers (2, 2, 4, 4) is 12, not 24.\n",
      "AR image scores: [None]\n"
     ]
    },
    {
     "name": "stderr",
     "output_type": "stream",
     "text": [
      "Processing DDPM Images:  20%|██        | 2/10 [00:09<00:38,  4.75s/it, avg_score=0.0000]"
     ]
    },
    {
     "name": "stdout",
     "output_type": "stream",
     "text": [
      "Error evaluating original image sunshadow_59.png: Score not found in output: Let's break down the image into four numbers:\n",
      "\n",
      "1. Top left number: 9\n",
      "2. Top right number: 8\n",
      "3. Bottom left number: 6\n",
      "4. Bottom right number: 5\n",
      "\n",
      "Now, let's add these numbers together:\n",
      "\\[ 9 + 8 + 6 + 5 = 28 \\]\n",
      "\n",
      "The sum of the four numbers is 28, which is not equal to 24.\n",
      "\n",
      "Therefore, the label is {0}. The reason is that the sum of the four numbers (9 + 8 + 6 + 5) is 28, not 24.\n",
      "AR image scores: [None, None]\n"
     ]
    },
    {
     "name": "stderr",
     "output_type": "stream",
     "text": [
      "Processing DDPM Images:  30%|███       | 3/10 [00:13<00:31,  4.53s/it, avg_score=0.0000]"
     ]
    },
    {
     "name": "stdout",
     "output_type": "stream",
     "text": [
      "Error evaluating original image sunshadow_105.png: Score not found in output: Let's break down the image into four numbers:\n",
      "\n",
      "1. Top left number: 6\n",
      "2. Top right number: 2\n",
      "3. Bottom left number: 9\n",
      "4. Bottom right number: 3\n",
      "\n",
      "Now, let's add these numbers together:\n",
      "\\[ 6 + 2 + 9 + 3 = 20 \\]\n",
      "\n",
      "The sum of the numbers is 20, which is not equal to 24.\n",
      "\n",
      "Therefore, the label is {0}. The reason is that the sum of the numbers (6 + 2 + 9 + 3) is 20, not 24.\n",
      "AR image scores: [None, None, None]\n"
     ]
    },
    {
     "name": "stderr",
     "output_type": "stream",
     "text": [
      "Processing DDPM Images:  40%|████      | 4/10 [00:18<00:27,  4.56s/it, avg_score=0.0000]"
     ]
    },
    {
     "name": "stdout",
     "output_type": "stream",
     "text": [
      "Error evaluating original image sunshadow_159.png: Score not found in output: Let's break down the image into its four numbers:\n",
      "\n",
      "1. Top-left number: 1\n",
      "2. Top-right number: 8\n",
      "3. Bottom-left number: 9\n",
      "4. Bottom-right number: 8\n",
      "\n",
      "Now, let's add these numbers together:\n",
      "\\[ 1 + 8 + 9 + 8 = 26 \\]\n",
      "\n",
      "The sum of the four numbers is 26, which is not equal to 24.\n",
      "\n",
      "Therefore, the label is {0}. The reason is that the sum of the four numbers (1 + 8 + 9 + 8) is 26, not 24.\n",
      "AR image scores: [None, None, None, None]\n"
     ]
    },
    {
     "name": "stderr",
     "output_type": "stream",
     "text": [
      "Processing DDPM Images:  50%|█████     | 5/10 [00:22<00:22,  4.54s/it, avg_score=0.0000]"
     ]
    },
    {
     "name": "stdout",
     "output_type": "stream",
     "text": [
      "Error evaluating original image sunshadow_135.png: Score not found in output: Let's break down the image into the four numbers:\n",
      "\n",
      "1. Top left number: 5\n",
      "2. Top right number: 4\n",
      "3. Bottom left number: 9\n",
      "4. Bottom right number: 9\n",
      "\n",
      "Now, let's add these numbers together:\n",
      "\\[ 5 + 4 + 9 + 9 = 27 \\]\n",
      "\n",
      "The sum of the four numbers is 27, which is not equal to 24.\n",
      "\n",
      "Therefore, the label is {0}. The reason is that the sum of the numbers (5 + 4 + 9 + 9) is 27, not 24.\n",
      "AR image scores: [None, None, None, None, None]\n"
     ]
    },
    {
     "name": "stderr",
     "output_type": "stream",
     "text": [
      "Processing DDPM Images:  60%|██████    | 6/10 [00:27<00:18,  4.70s/it, avg_score=0.0000]"
     ]
    },
    {
     "name": "stdout",
     "output_type": "stream",
     "text": [
      "Error evaluating original image sunshadow_150.png: Score not found in output: Let's break down the image into four numbers:\n",
      "\n",
      "1. The number at the top left appears to be '5'.\n",
      "2. The number at the top right appears to be '9'.\n",
      "3. The number at the bottom left appears to be '8'.\n",
      "4. The number at the bottom right appears to be '4'.\n",
      "\n",
      "Now, let's add these numbers together:\n",
      "\\[ 5 + 9 + 8 + 4 = 26 \\]\n",
      "\n",
      "The sum of these numbers is 26, not 24.\n",
      "\n",
      "Therefore, the label is {0}. The reason is that the sum of the numbers (5, 9, 8, 4) is 26, which does not equal 24.\n",
      "AR image scores: [None, None, None, None, None, None]\n"
     ]
    },
    {
     "name": "stderr",
     "output_type": "stream",
     "text": [
      "Processing DDPM Images:  70%|███████   | 7/10 [00:32<00:14,  4.70s/it, avg_score=0.0000]"
     ]
    },
    {
     "name": "stdout",
     "output_type": "stream",
     "text": [
      "Error evaluating original image sunshadow_56.png: Score not found in output: Let's break down the image into four numbers:\n",
      "\n",
      "1. The top left number appears to be 9.\n",
      "2. The top right number appears to be 6.\n",
      "3. The bottom left number appears to be 9.\n",
      "4. The bottom right number appears to be 7.\n",
      "\n",
      "Now, let's add these numbers together:\n",
      "\\[ 9 + 6 + 9 + 7 = 31 \\]\n",
      "\n",
      "The sum of the numbers is 31, which is not equal to 24.\n",
      "\n",
      "Therefore, the label is {0}. The reason is that the sum of the numbers (9 + 6 + 9 + 7) is 31, not 24.\n",
      "AR image scores: [None, None, None, None, None, None, None]\n"
     ]
    },
    {
     "name": "stderr",
     "output_type": "stream",
     "text": [
      "Processing DDPM Images:  80%|████████  | 8/10 [00:37<00:09,  4.63s/it, avg_score=0.0000]"
     ]
    },
    {
     "name": "stdout",
     "output_type": "stream",
     "text": [
      "Error evaluating original image sunshadow_109.png: Score not found in output: Let's break down the image into four numbers:\n",
      "\n",
      "1. Top left number: 6\n",
      "2. Top right number: 8\n",
      "3. Bottom left number: 9\n",
      "4. Bottom right number: 7\n",
      "\n",
      "Now, let's add these numbers together:\n",
      "\\[ 6 + 8 + 9 + 7 = 30 \\]\n",
      "\n",
      "The sum of the four numbers is 30, which is not equal to 24.\n",
      "\n",
      "Therefore, the label is {0}. The reason is that the sum of the four numbers (6 + 8 + 9 + 7) is 30, not 24.\n",
      "AR image scores: [None, None, None, None, None, None, None, None]\n"
     ]
    },
    {
     "name": "stderr",
     "output_type": "stream",
     "text": [
      "Processing DDPM Images:  90%|█████████ | 9/10 [00:41<00:04,  4.55s/it, avg_score=0.0000]"
     ]
    },
    {
     "name": "stdout",
     "output_type": "stream",
     "text": [
      "Error evaluating original image sunshadow_158.png: Score not found in output: Let's break down the image into four numbers:\n",
      "\n",
      "1. Top-left number: 2\n",
      "2. Top-right number: 4\n",
      "3. Bottom-left number: 6\n",
      "4. Bottom-right number: 6\n",
      "\n",
      "Now, let's add these numbers together:\n",
      "\\[ 2 + 4 + 6 + 6 = 18 \\]\n",
      "\n",
      "The sum of the numbers is 18, which is not equal to 24.\n",
      "\n",
      "Therefore, the label is {0}. The reason is that the sum of the numbers (2 + 4 + 6 + 6) is 18, not 24.\n",
      "AR image scores: [None, None, None, None, None, None, None, None, None]\n"
     ]
    },
    {
     "name": "stderr",
     "output_type": "stream",
     "text": [
      "Processing DDPM Images: 100%|██████████| 10/10 [00:46<00:00,  4.64s/it, avg_score=0.0000]"
     ]
    },
    {
     "name": "stdout",
     "output_type": "stream",
     "text": [
      "Error evaluating original image sunshadow_160.png: Score not found in output: Let's break down the image into four numbers:\n",
      "\n",
      "1. The top-left number appears to be 9.\n",
      "2. The top-right number appears to be 5.\n",
      "3. The bottom-left number appears to be 6.\n",
      "4. The bottom-right number appears to be 8.\n",
      "\n",
      "Now, let's add these numbers together:\n",
      "\\[ 9 + 5 + 6 + 8 = 28 \\]\n",
      "\n",
      "The sum of the numbers is 28, which is not equal to 24.\n",
      "\n",
      "Therefore, the label is {0}. The reason is that the sum of the numbers (9 + 5 + 6 + 8) is 28, not 24.\n",
      "AR image scores: [None, None, None, None, None, None, None, None, None, None]\n",
      "AR image scores: [None, None, None, None, None, None, None, None, None, None]\n"
     ]
    },
    {
     "name": "stderr",
     "output_type": "stream",
     "text": [
      "\n"
     ]
    }
   ],
   "source": [
    "# 用于存储 Qwen 得分\n",
    "scores_original_1 = []\n",
    "running_sum = 0\n",
    "valid_count = 0\n",
    "pbar = tqdm(sampled_files_1, desc=\"Processing DDPM Images\")\n",
    "for image_name in pbar:\n",
    "    image_path = os.path.join(image_dir_1, image_name)\n",
    "    try:\n",
    "        score = evaluate_image(image_path,image_size)\n",
    "    except Exception as e:\n",
    "        print(f\"Error evaluating original image {image_name}: {e}\")\n",
    "        score = None\n",
    "\n",
    "    if score is not None:\n",
    "        running_sum += score\n",
    "        valid_count += 1\n",
    "\n",
    "    scores_original_1.append(score)\n",
    "    print(\"AR image scores:\", scores_original_1)\n",
    "    avg_score = running_sum / valid_count if valid_count > 0 else 0\n",
    "    pbar.set_postfix(avg_score=f\"{avg_score:.4f}\")\n",
    "print(\"AR image scores:\", scores_original_1)\n",
    "# [2,]"
   ]
  },
  {
   "cell_type": "code",
   "execution_count": 2,
   "metadata": {},
   "outputs": [],
   "source": [
    "import re\n",
    "def evaluate_image(image_path,image_size) -> str:\n",
    "    \"\"\"\n",
    "    Evaluates the given image for internal visual consistency and returns a score.\n",
    "    \n",
    "    The evaluation is performed by prompting the model with a message asking to rate the image\n",
    "    from 0 (inconsistent) to 10 (completely harmonious and consistent), following the format:\n",
    "    \"The score is {your_score}. The reason is {your_reason}.\"\n",
    "    \n",
    "    Args:\n",
    "        image_path (str): The path to the image.\n",
    "    \n",
    "    Returns:\n",
    "        str: The generated output text containing the score and the reason.\n",
    "    \"\"\"\n",
    "    messages = [\n",
    "        {\n",
    "            \"role\": \"user\",\n",
    "            \"content\": [\n",
    "                {\"type\": \"image\", \"image\": image_path,\"resized_height\":image_size,\"resized_width\":image_size},\n",
    "                {\"type\": \"text\", \"text\": (\n",
    "                    \"You are an expert in visual anomaly detection, focusing primarily on the shape and outline of objects. You will see images of an object in front of a mirror and its reflection. Specifically, please pay close attention to the outline and shape differences between the object in front of the mirror and its reflection, and consider whether they could reasonably be the front and back of the same object. If you think any inconsistency stems solely from color or texture design differences between the object and its reflection, please disregard it, since the front and back (or reflection) of an object may naturally vary in these aspects. Also keep in mind that perspective can cause some shape distortion in the reflection, but the overall outline should remain consistent.\"\n",
    "                    \"Please rate each image individually on a scale from 0 (inconsistent) to 10 (completely harmonious and consistent). The specific scoring criteria are as follows:\"\n",
    "                    \"Score 10: Perfect match in shape and outline, considering the mirror flip.\"  \n",
    "                    \"Score 9: Minor distortions due to perspective, but overall shape is recognizable.\"  \n",
    "                    \"Score 8: Slight inconsistencies in shape, possibly due to object positioning or minor defects.\"  \n",
    "                    \"Score 7: Moderate inconsistencies, where the general shape is similar but there are noticeable differences.\"  \n",
    "                    \"Score 6: Significant inconsistencies, making it hard to recognize the reflection as the object’s reflection.\"  \n",
    "                    \"Score 5: Equal parts consistent and inconsistent, borderline case.\"  \n",
    "                    \"Score 4: Reflection shows a completely different shape, but some elements are similar.\"  \n",
    "                    \"Score 3: Reflection bears little resemblance to the object.\"  \n",
    "                    \"Score 2: Only a few parts of the reflection match the object.\"  \n",
    "                    \"Score 1: Almost no similarity in shape and outline.\"  \n",
    "                    \"Score 0: Reflection is completely different, no similarity at all.\"\n",
    "                    \"Please think this step by step and answer in the the format: The score is {your_score}. The reason is {your_reason}.\"\n",
    "                    # \"You are an expert in visual anomaly detection, focusing primarily on the shape and outline of objects. You will see an image of an object in front of a mirror and its reflection.\" \n",
    "                    # \"Specifically, please pay close attention to the outline and shape differences between the object in front of the mirror and its reflection, and consider whether they could reasonably be the front and back of the same object. If you think any inconsistency stems solely from color or texture design differences between the object and its reflection, please disregard it, since the front and back (or reflection) of an object may naturally vary in these aspects. Also keep in mind that perspective can cause some shape distortion in the reflection, but the overall outline should remain consistent.\"\n",
    "                    # \"Please rate each image individually on a scale from 0 (inconsistent) to 10 (completely harmonious and consistent). \"\n",
    "                    # \"Please follow the format: The score is {your_score}. The reason is {your_reason}.\"\n",
    "                )},\n",
    "            ],\n",
    "        }\n",
    "    ]\n",
    "\n",
    "    # Preparation for inference\n",
    "    text = processor.apply_chat_template(\n",
    "        messages, tokenize=False, add_generation_prompt=True\n",
    "    )\n",
    "    image_inputs, video_inputs = process_vision_info(messages)\n",
    "    inputs = processor(\n",
    "        text=[text],\n",
    "        images=image_inputs,\n",
    "        videos=video_inputs,\n",
    "        padding=True,\n",
    "        return_tensors=\"pt\",\n",
    "    )\n",
    "    inputs = inputs.to(\"cuda\")\n",
    "\n",
    "    # Inference: Generation of the output\n",
    "    generated_ids = model.generate(**inputs, max_new_tokens=9000)\n",
    "    generated_ids_trimmed = [\n",
    "        out_ids[len(in_ids) :] for in_ids, out_ids in zip(inputs.input_ids, generated_ids)\n",
    "    ]\n",
    "    output_text = processor.batch_decode(\n",
    "        generated_ids_trimmed, skip_special_tokens=True, clean_up_tokenization_spaces=False\n",
    "    )\n",
    "    \n",
    "    # 返回生成的评分信息（例如字符串形式）\n",
    "\n",
    "    # print(\"image_path:\",image_path,\"output_text:\",output_text)\n",
    "    # return extract_score_after_final_answer(output_text) \n",
    "    pattern = r\"The score is (\\d+)\"\n",
    "    match = re.search(pattern, output_text[0])\n",
    "    if match:\n",
    "        return int(match.group(1))\n",
    "    else:\n",
    "        raise ValueError(f\"Score not found in output: {output_text[0]}\")\n",
    "\n",
    "import re\n",
    "\n",
    "def extract_score_after_final_answer(output_text):\n",
    "    \"\"\"\n",
    "    从给定文本中查找 **Final Answer** 后面出现的第一个数字，并返回其整数值。\n",
    "    如果未找到，则抛出 ValueError。\n",
    "    \"\"\"\n",
    "    # 若 output_text 是列表，则默认取第一个元素\n",
    "    if isinstance(output_text, list):\n",
    "        text_to_search = output_text[0]\n",
    "    else:\n",
    "        text_to_search = output_text\n",
    "\n",
    "    # 正则：匹配 \"**Final Answer**\" 后，任意字符(含换行)，再遇到数字(\\d+)\n",
    "    pattern = r\"\\*\\*Final Answer\\*\\*.*?(\\d+)\"\n",
    "    match = re.search(pattern, text_to_search, re.DOTALL)\n",
    "\n",
    "    if match:\n",
    "        return int(match.group(1))\n",
    "    else:\n",
    "        raise ValueError(f\"No number found after **Final Answer** in: {text_to_search}\")\n"
   ]
  },
  {
   "cell_type": "code",
   "execution_count": 3,
   "metadata": {},
   "outputs": [],
   "source": [
    "import os\n",
    "import random\n",
    "import numpy as np\n",
    "from PIL import Image\n",
    "import torch\n",
    "from tqdm import tqdm\n",
    "import tempfile\n",
    "image_dir = \"/cpfs04/user/hanyujin/rule-gen/datasets/mirrors/left\"\n",
    "image_dir_1 = \"/cpfs04/user/hanyujin/rule-gen/experiments/samples/AE-Diff-16-mirror-SiT-B-1-linear-vae0040000.pt-size-64cfg-4.0-seed-0\"\n",
    "image_dir_2 = \"/cpfs04/user/hanyujin/rule-gen/experiments/samples/AE-JEPA-Diff-16-mirror-SiT-B-1-linear-vae0040000.pt-size-64cfg-4.0-seed-0\"\n",
    "# 获取所有 PNG 文件\n",
    "image_files = [f for f in os.listdir(image_dir) if f.endswith(\".png\")]\n",
    "image_files_1 = [f for f in os.listdir(image_dir_1) if f.endswith(\".png\")]\n",
    "image_files_2 = [f for f in os.listdir(image_dir_2) if f.endswith(\".png\")]\n",
    "# 随机采样100张图片（如果图片总数不足，则全部使用）\n",
    "sample_size = min(10, len(image_files))\n",
    "sampled_files = random.sample(image_files, sample_size) #sorted(image_files)[:sample_size] #random.sample(image_files_1, sample_size)\n",
    "\n",
    "sample_size = min(10, len(image_files_1))\n",
    "sampled_files_1 = random.sample(image_files_1, sample_size) #sorted(image_files_1)[:sample_size] #random.sample(image_files_1, sample_size)\n",
    "\n",
    "sample_size = min(10, len(image_files_2))\n",
    "sampled_files_2 = random.sample(image_files_2, sample_size) #sorted(image_files_2)[:sample_size] #random.sample(image_files_2, sample_size)\n",
    "\n",
    "image_size = 256"
   ]
  },
  {
   "cell_type": "code",
   "execution_count": 4,
   "metadata": {},
   "outputs": [
    {
     "name": "stderr",
     "output_type": "stream",
     "text": [
      "Processing Raw Images:   0%|          | 0/10 [02:24<?, ?it/s]\n"
     ]
    },
    {
     "ename": "KeyboardInterrupt",
     "evalue": "",
     "output_type": "error",
     "traceback": [
      "\u001b[0;31m---------------------------------------------------------------------------\u001b[0m",
      "\u001b[0;31mKeyboardInterrupt\u001b[0m                         Traceback (most recent call last)",
      "Cell \u001b[0;32mIn[4], line 9\u001b[0m\n\u001b[1;32m      7\u001b[0m image_path \u001b[38;5;241m=\u001b[39m os\u001b[38;5;241m.\u001b[39mpath\u001b[38;5;241m.\u001b[39mjoin(image_dir, image_name)\n\u001b[1;32m      8\u001b[0m \u001b[38;5;28;01mtry\u001b[39;00m:\n\u001b[0;32m----> 9\u001b[0m     score \u001b[38;5;241m=\u001b[39m \u001b[43mevaluate_image\u001b[49m\u001b[43m(\u001b[49m\u001b[43mimage_path\u001b[49m\u001b[43m,\u001b[49m\u001b[43mimage_size\u001b[49m\u001b[43m)\u001b[49m\n\u001b[1;32m     10\u001b[0m \u001b[38;5;28;01mexcept\u001b[39;00m \u001b[38;5;167;01mException\u001b[39;00m \u001b[38;5;28;01mas\u001b[39;00m e:\n\u001b[1;32m     11\u001b[0m     \u001b[38;5;28mprint\u001b[39m(\u001b[38;5;124mf\u001b[39m\u001b[38;5;124m\"\u001b[39m\u001b[38;5;124mError evaluating original image \u001b[39m\u001b[38;5;132;01m{\u001b[39;00mimage_name\u001b[38;5;132;01m}\u001b[39;00m\u001b[38;5;124m: \u001b[39m\u001b[38;5;132;01m{\u001b[39;00me\u001b[38;5;132;01m}\u001b[39;00m\u001b[38;5;124m\"\u001b[39m)\n",
      "Cell \u001b[0;32mIn[2], line 60\u001b[0m, in \u001b[0;36mevaluate_image\u001b[0;34m(image_path, image_size)\u001b[0m\n\u001b[1;32m     57\u001b[0m inputs \u001b[38;5;241m=\u001b[39m inputs\u001b[38;5;241m.\u001b[39mto(\u001b[38;5;124m\"\u001b[39m\u001b[38;5;124mcuda\u001b[39m\u001b[38;5;124m\"\u001b[39m)\n\u001b[1;32m     59\u001b[0m \u001b[38;5;66;03m# Inference: Generation of the output\u001b[39;00m\n\u001b[0;32m---> 60\u001b[0m generated_ids \u001b[38;5;241m=\u001b[39m \u001b[43mmodel\u001b[49m\u001b[38;5;241;43m.\u001b[39;49m\u001b[43mgenerate\u001b[49m\u001b[43m(\u001b[49m\u001b[38;5;241;43m*\u001b[39;49m\u001b[38;5;241;43m*\u001b[39;49m\u001b[43minputs\u001b[49m\u001b[43m,\u001b[49m\u001b[43m \u001b[49m\u001b[43mmax_new_tokens\u001b[49m\u001b[38;5;241;43m=\u001b[39;49m\u001b[38;5;241;43m9000\u001b[39;49m\u001b[43m)\u001b[49m\n\u001b[1;32m     61\u001b[0m generated_ids_trimmed \u001b[38;5;241m=\u001b[39m [\n\u001b[1;32m     62\u001b[0m     out_ids[\u001b[38;5;28mlen\u001b[39m(in_ids) :] \u001b[38;5;28;01mfor\u001b[39;00m in_ids, out_ids \u001b[38;5;129;01min\u001b[39;00m \u001b[38;5;28mzip\u001b[39m(inputs\u001b[38;5;241m.\u001b[39minput_ids, generated_ids)\n\u001b[1;32m     63\u001b[0m ]\n\u001b[1;32m     64\u001b[0m output_text \u001b[38;5;241m=\u001b[39m processor\u001b[38;5;241m.\u001b[39mbatch_decode(\n\u001b[1;32m     65\u001b[0m     generated_ids_trimmed, skip_special_tokens\u001b[38;5;241m=\u001b[39m\u001b[38;5;28;01mTrue\u001b[39;00m, clean_up_tokenization_spaces\u001b[38;5;241m=\u001b[39m\u001b[38;5;28;01mFalse\u001b[39;00m\n\u001b[1;32m     66\u001b[0m )\n",
      "File \u001b[0;32m~/miniconda3/envs/yjenv/lib/python3.11/site-packages/torch/utils/_contextlib.py:115\u001b[0m, in \u001b[0;36mcontext_decorator.<locals>.decorate_context\u001b[0;34m(*args, **kwargs)\u001b[0m\n\u001b[1;32m    112\u001b[0m \u001b[38;5;129m@functools\u001b[39m\u001b[38;5;241m.\u001b[39mwraps(func)\n\u001b[1;32m    113\u001b[0m \u001b[38;5;28;01mdef\u001b[39;00m \u001b[38;5;21mdecorate_context\u001b[39m(\u001b[38;5;241m*\u001b[39margs, \u001b[38;5;241m*\u001b[39m\u001b[38;5;241m*\u001b[39mkwargs):\n\u001b[1;32m    114\u001b[0m     \u001b[38;5;28;01mwith\u001b[39;00m ctx_factory():\n\u001b[0;32m--> 115\u001b[0m         \u001b[38;5;28;01mreturn\u001b[39;00m \u001b[43mfunc\u001b[49m\u001b[43m(\u001b[49m\u001b[38;5;241;43m*\u001b[39;49m\u001b[43margs\u001b[49m\u001b[43m,\u001b[49m\u001b[43m \u001b[49m\u001b[38;5;241;43m*\u001b[39;49m\u001b[38;5;241;43m*\u001b[39;49m\u001b[43mkwargs\u001b[49m\u001b[43m)\u001b[49m\n",
      "File \u001b[0;32m~/miniconda3/envs/yjenv/lib/python3.11/site-packages/transformers/generation/utils.py:2326\u001b[0m, in \u001b[0;36mGenerationMixin.generate\u001b[0;34m(self, inputs, generation_config, logits_processor, stopping_criteria, prefix_allowed_tokens_fn, synced_gpus, assistant_model, streamer, negative_prompt_ids, negative_prompt_attention_mask, use_model_defaults, **kwargs)\u001b[0m\n\u001b[1;32m   2318\u001b[0m     input_ids, model_kwargs \u001b[38;5;241m=\u001b[39m \u001b[38;5;28mself\u001b[39m\u001b[38;5;241m.\u001b[39m_expand_inputs_for_generation(\n\u001b[1;32m   2319\u001b[0m         input_ids\u001b[38;5;241m=\u001b[39minput_ids,\n\u001b[1;32m   2320\u001b[0m         expand_size\u001b[38;5;241m=\u001b[39mgeneration_config\u001b[38;5;241m.\u001b[39mnum_return_sequences,\n\u001b[1;32m   2321\u001b[0m         is_encoder_decoder\u001b[38;5;241m=\u001b[39m\u001b[38;5;28mself\u001b[39m\u001b[38;5;241m.\u001b[39mconfig\u001b[38;5;241m.\u001b[39mis_encoder_decoder,\n\u001b[1;32m   2322\u001b[0m         \u001b[38;5;241m*\u001b[39m\u001b[38;5;241m*\u001b[39mmodel_kwargs,\n\u001b[1;32m   2323\u001b[0m     )\n\u001b[1;32m   2325\u001b[0m     \u001b[38;5;66;03m# 12. run sample (it degenerates to greedy search when `generation_config.do_sample=False`)\u001b[39;00m\n\u001b[0;32m-> 2326\u001b[0m     result \u001b[38;5;241m=\u001b[39m \u001b[38;5;28;43mself\u001b[39;49m\u001b[38;5;241;43m.\u001b[39;49m\u001b[43m_sample\u001b[49m\u001b[43m(\u001b[49m\n\u001b[1;32m   2327\u001b[0m \u001b[43m        \u001b[49m\u001b[43minput_ids\u001b[49m\u001b[43m,\u001b[49m\n\u001b[1;32m   2328\u001b[0m \u001b[43m        \u001b[49m\u001b[43mlogits_processor\u001b[49m\u001b[38;5;241;43m=\u001b[39;49m\u001b[43mprepared_logits_processor\u001b[49m\u001b[43m,\u001b[49m\n\u001b[1;32m   2329\u001b[0m \u001b[43m        \u001b[49m\u001b[43mstopping_criteria\u001b[49m\u001b[38;5;241;43m=\u001b[39;49m\u001b[43mprepared_stopping_criteria\u001b[49m\u001b[43m,\u001b[49m\n\u001b[1;32m   2330\u001b[0m \u001b[43m        \u001b[49m\u001b[43mgeneration_config\u001b[49m\u001b[38;5;241;43m=\u001b[39;49m\u001b[43mgeneration_config\u001b[49m\u001b[43m,\u001b[49m\n\u001b[1;32m   2331\u001b[0m \u001b[43m        \u001b[49m\u001b[43msynced_gpus\u001b[49m\u001b[38;5;241;43m=\u001b[39;49m\u001b[43msynced_gpus\u001b[49m\u001b[43m,\u001b[49m\n\u001b[1;32m   2332\u001b[0m \u001b[43m        \u001b[49m\u001b[43mstreamer\u001b[49m\u001b[38;5;241;43m=\u001b[39;49m\u001b[43mstreamer\u001b[49m\u001b[43m,\u001b[49m\n\u001b[1;32m   2333\u001b[0m \u001b[43m        \u001b[49m\u001b[38;5;241;43m*\u001b[39;49m\u001b[38;5;241;43m*\u001b[39;49m\u001b[43mmodel_kwargs\u001b[49m\u001b[43m,\u001b[49m\n\u001b[1;32m   2334\u001b[0m \u001b[43m    \u001b[49m\u001b[43m)\u001b[49m\n\u001b[1;32m   2336\u001b[0m \u001b[38;5;28;01melif\u001b[39;00m generation_mode \u001b[38;5;129;01min\u001b[39;00m (GenerationMode\u001b[38;5;241m.\u001b[39mBEAM_SAMPLE, GenerationMode\u001b[38;5;241m.\u001b[39mBEAM_SEARCH):\n\u001b[1;32m   2337\u001b[0m     \u001b[38;5;66;03m# 11. interleave input_ids with `num_beams` additional sequences per batch\u001b[39;00m\n\u001b[1;32m   2338\u001b[0m     input_ids, model_kwargs \u001b[38;5;241m=\u001b[39m \u001b[38;5;28mself\u001b[39m\u001b[38;5;241m.\u001b[39m_expand_inputs_for_generation(\n\u001b[1;32m   2339\u001b[0m         input_ids\u001b[38;5;241m=\u001b[39minput_ids,\n\u001b[1;32m   2340\u001b[0m         expand_size\u001b[38;5;241m=\u001b[39mgeneration_config\u001b[38;5;241m.\u001b[39mnum_beams,\n\u001b[1;32m   2341\u001b[0m         is_encoder_decoder\u001b[38;5;241m=\u001b[39m\u001b[38;5;28mself\u001b[39m\u001b[38;5;241m.\u001b[39mconfig\u001b[38;5;241m.\u001b[39mis_encoder_decoder,\n\u001b[1;32m   2342\u001b[0m         \u001b[38;5;241m*\u001b[39m\u001b[38;5;241m*\u001b[39mmodel_kwargs,\n\u001b[1;32m   2343\u001b[0m     )\n",
      "File \u001b[0;32m~/miniconda3/envs/yjenv/lib/python3.11/site-packages/transformers/generation/utils.py:3289\u001b[0m, in \u001b[0;36mGenerationMixin._sample\u001b[0;34m(self, input_ids, logits_processor, stopping_criteria, generation_config, synced_gpus, streamer, **model_kwargs)\u001b[0m\n\u001b[1;32m   3287\u001b[0m     is_prefill \u001b[38;5;241m=\u001b[39m \u001b[38;5;28;01mFalse\u001b[39;00m\n\u001b[1;32m   3288\u001b[0m \u001b[38;5;28;01melse\u001b[39;00m:\n\u001b[0;32m-> 3289\u001b[0m     outputs \u001b[38;5;241m=\u001b[39m \u001b[43mmodel_forward\u001b[49m\u001b[43m(\u001b[49m\u001b[38;5;241;43m*\u001b[39;49m\u001b[38;5;241;43m*\u001b[39;49m\u001b[43mmodel_inputs\u001b[49m\u001b[43m,\u001b[49m\u001b[43m \u001b[49m\u001b[43mreturn_dict\u001b[49m\u001b[38;5;241;43m=\u001b[39;49m\u001b[38;5;28;43;01mTrue\u001b[39;49;00m\u001b[43m)\u001b[49m\n\u001b[1;32m   3291\u001b[0m \u001b[38;5;66;03m# synced_gpus: don't waste resources running the code we don't need; kwargs must be updated before skipping\u001b[39;00m\n\u001b[1;32m   3292\u001b[0m model_kwargs \u001b[38;5;241m=\u001b[39m \u001b[38;5;28mself\u001b[39m\u001b[38;5;241m.\u001b[39m_update_model_kwargs_for_generation(\n\u001b[1;32m   3293\u001b[0m     outputs,\n\u001b[1;32m   3294\u001b[0m     model_kwargs,\n\u001b[1;32m   3295\u001b[0m     is_encoder_decoder\u001b[38;5;241m=\u001b[39m\u001b[38;5;28mself\u001b[39m\u001b[38;5;241m.\u001b[39mconfig\u001b[38;5;241m.\u001b[39mis_encoder_decoder,\n\u001b[1;32m   3296\u001b[0m )\n",
      "File \u001b[0;32m~/miniconda3/envs/yjenv/lib/python3.11/site-packages/torch/nn/modules/module.py:1532\u001b[0m, in \u001b[0;36mModule._wrapped_call_impl\u001b[0;34m(self, *args, **kwargs)\u001b[0m\n\u001b[1;32m   1530\u001b[0m     \u001b[38;5;28;01mreturn\u001b[39;00m \u001b[38;5;28mself\u001b[39m\u001b[38;5;241m.\u001b[39m_compiled_call_impl(\u001b[38;5;241m*\u001b[39margs, \u001b[38;5;241m*\u001b[39m\u001b[38;5;241m*\u001b[39mkwargs)  \u001b[38;5;66;03m# type: ignore[misc]\u001b[39;00m\n\u001b[1;32m   1531\u001b[0m \u001b[38;5;28;01melse\u001b[39;00m:\n\u001b[0;32m-> 1532\u001b[0m     \u001b[38;5;28;01mreturn\u001b[39;00m \u001b[38;5;28;43mself\u001b[39;49m\u001b[38;5;241;43m.\u001b[39;49m\u001b[43m_call_impl\u001b[49m\u001b[43m(\u001b[49m\u001b[38;5;241;43m*\u001b[39;49m\u001b[43margs\u001b[49m\u001b[43m,\u001b[49m\u001b[43m \u001b[49m\u001b[38;5;241;43m*\u001b[39;49m\u001b[38;5;241;43m*\u001b[39;49m\u001b[43mkwargs\u001b[49m\u001b[43m)\u001b[49m\n",
      "File \u001b[0;32m~/miniconda3/envs/yjenv/lib/python3.11/site-packages/torch/nn/modules/module.py:1541\u001b[0m, in \u001b[0;36mModule._call_impl\u001b[0;34m(self, *args, **kwargs)\u001b[0m\n\u001b[1;32m   1536\u001b[0m \u001b[38;5;66;03m# If we don't have any hooks, we want to skip the rest of the logic in\u001b[39;00m\n\u001b[1;32m   1537\u001b[0m \u001b[38;5;66;03m# this function, and just call forward.\u001b[39;00m\n\u001b[1;32m   1538\u001b[0m \u001b[38;5;28;01mif\u001b[39;00m \u001b[38;5;129;01mnot\u001b[39;00m (\u001b[38;5;28mself\u001b[39m\u001b[38;5;241m.\u001b[39m_backward_hooks \u001b[38;5;129;01mor\u001b[39;00m \u001b[38;5;28mself\u001b[39m\u001b[38;5;241m.\u001b[39m_backward_pre_hooks \u001b[38;5;129;01mor\u001b[39;00m \u001b[38;5;28mself\u001b[39m\u001b[38;5;241m.\u001b[39m_forward_hooks \u001b[38;5;129;01mor\u001b[39;00m \u001b[38;5;28mself\u001b[39m\u001b[38;5;241m.\u001b[39m_forward_pre_hooks\n\u001b[1;32m   1539\u001b[0m         \u001b[38;5;129;01mor\u001b[39;00m _global_backward_pre_hooks \u001b[38;5;129;01mor\u001b[39;00m _global_backward_hooks\n\u001b[1;32m   1540\u001b[0m         \u001b[38;5;129;01mor\u001b[39;00m _global_forward_hooks \u001b[38;5;129;01mor\u001b[39;00m _global_forward_pre_hooks):\n\u001b[0;32m-> 1541\u001b[0m     \u001b[38;5;28;01mreturn\u001b[39;00m \u001b[43mforward_call\u001b[49m\u001b[43m(\u001b[49m\u001b[38;5;241;43m*\u001b[39;49m\u001b[43margs\u001b[49m\u001b[43m,\u001b[49m\u001b[43m \u001b[49m\u001b[38;5;241;43m*\u001b[39;49m\u001b[38;5;241;43m*\u001b[39;49m\u001b[43mkwargs\u001b[49m\u001b[43m)\u001b[49m\n\u001b[1;32m   1543\u001b[0m \u001b[38;5;28;01mtry\u001b[39;00m:\n\u001b[1;32m   1544\u001b[0m     result \u001b[38;5;241m=\u001b[39m \u001b[38;5;28;01mNone\u001b[39;00m\n",
      "File \u001b[0;32m~/miniconda3/envs/yjenv/lib/python3.11/site-packages/accelerate/hooks.py:176\u001b[0m, in \u001b[0;36madd_hook_to_module.<locals>.new_forward\u001b[0;34m(module, *args, **kwargs)\u001b[0m\n\u001b[1;32m    174\u001b[0m         output \u001b[38;5;241m=\u001b[39m module\u001b[38;5;241m.\u001b[39m_old_forward(\u001b[38;5;241m*\u001b[39margs, \u001b[38;5;241m*\u001b[39m\u001b[38;5;241m*\u001b[39mkwargs)\n\u001b[1;32m    175\u001b[0m \u001b[38;5;28;01melse\u001b[39;00m:\n\u001b[0;32m--> 176\u001b[0m     output \u001b[38;5;241m=\u001b[39m \u001b[43mmodule\u001b[49m\u001b[38;5;241;43m.\u001b[39;49m\u001b[43m_old_forward\u001b[49m\u001b[43m(\u001b[49m\u001b[38;5;241;43m*\u001b[39;49m\u001b[43margs\u001b[49m\u001b[43m,\u001b[49m\u001b[43m \u001b[49m\u001b[38;5;241;43m*\u001b[39;49m\u001b[38;5;241;43m*\u001b[39;49m\u001b[43mkwargs\u001b[49m\u001b[43m)\u001b[49m\n\u001b[1;32m    177\u001b[0m \u001b[38;5;28;01mreturn\u001b[39;00m module\u001b[38;5;241m.\u001b[39m_hf_hook\u001b[38;5;241m.\u001b[39mpost_forward(module, output)\n",
      "File \u001b[0;32m~/miniconda3/envs/yjenv/lib/python3.11/site-packages/transformers/models/qwen2_vl/modeling_qwen2_vl.py:1731\u001b[0m, in \u001b[0;36mQwen2VLForConditionalGeneration.forward\u001b[0;34m(self, input_ids, attention_mask, position_ids, past_key_values, inputs_embeds, labels, use_cache, output_attentions, output_hidden_states, return_dict, pixel_values, pixel_values_videos, image_grid_thw, video_grid_thw, rope_deltas, cache_position)\u001b[0m\n\u001b[1;32m   1728\u001b[0m         position_ids \u001b[38;5;241m=\u001b[39m position_ids\u001b[38;5;241m.\u001b[39madd(delta)\n\u001b[1;32m   1729\u001b[0m         position_ids \u001b[38;5;241m=\u001b[39m position_ids\u001b[38;5;241m.\u001b[39munsqueeze(\u001b[38;5;241m0\u001b[39m)\u001b[38;5;241m.\u001b[39mexpand(\u001b[38;5;241m3\u001b[39m, \u001b[38;5;241m-\u001b[39m\u001b[38;5;241m1\u001b[39m, \u001b[38;5;241m-\u001b[39m\u001b[38;5;241m1\u001b[39m)\n\u001b[0;32m-> 1731\u001b[0m outputs \u001b[38;5;241m=\u001b[39m \u001b[38;5;28;43mself\u001b[39;49m\u001b[38;5;241;43m.\u001b[39;49m\u001b[43mmodel\u001b[49m\u001b[43m(\u001b[49m\n\u001b[1;32m   1732\u001b[0m \u001b[43m    \u001b[49m\u001b[43minput_ids\u001b[49m\u001b[38;5;241;43m=\u001b[39;49m\u001b[38;5;28;43;01mNone\u001b[39;49;00m\u001b[43m,\u001b[49m\n\u001b[1;32m   1733\u001b[0m \u001b[43m    \u001b[49m\u001b[43mposition_ids\u001b[49m\u001b[38;5;241;43m=\u001b[39;49m\u001b[43mposition_ids\u001b[49m\u001b[43m,\u001b[49m\n\u001b[1;32m   1734\u001b[0m \u001b[43m    \u001b[49m\u001b[43mattention_mask\u001b[49m\u001b[38;5;241;43m=\u001b[39;49m\u001b[43mattention_mask\u001b[49m\u001b[43m,\u001b[49m\n\u001b[1;32m   1735\u001b[0m \u001b[43m    \u001b[49m\u001b[43mpast_key_values\u001b[49m\u001b[38;5;241;43m=\u001b[39;49m\u001b[43mpast_key_values\u001b[49m\u001b[43m,\u001b[49m\n\u001b[1;32m   1736\u001b[0m \u001b[43m    \u001b[49m\u001b[43minputs_embeds\u001b[49m\u001b[38;5;241;43m=\u001b[39;49m\u001b[43minputs_embeds\u001b[49m\u001b[43m,\u001b[49m\n\u001b[1;32m   1737\u001b[0m \u001b[43m    \u001b[49m\u001b[43muse_cache\u001b[49m\u001b[38;5;241;43m=\u001b[39;49m\u001b[43muse_cache\u001b[49m\u001b[43m,\u001b[49m\n\u001b[1;32m   1738\u001b[0m \u001b[43m    \u001b[49m\u001b[43moutput_attentions\u001b[49m\u001b[38;5;241;43m=\u001b[39;49m\u001b[43moutput_attentions\u001b[49m\u001b[43m,\u001b[49m\n\u001b[1;32m   1739\u001b[0m \u001b[43m    \u001b[49m\u001b[43moutput_hidden_states\u001b[49m\u001b[38;5;241;43m=\u001b[39;49m\u001b[43moutput_hidden_states\u001b[49m\u001b[43m,\u001b[49m\n\u001b[1;32m   1740\u001b[0m \u001b[43m    \u001b[49m\u001b[43mreturn_dict\u001b[49m\u001b[38;5;241;43m=\u001b[39;49m\u001b[43mreturn_dict\u001b[49m\u001b[43m,\u001b[49m\n\u001b[1;32m   1741\u001b[0m \u001b[43m    \u001b[49m\u001b[43mcache_position\u001b[49m\u001b[38;5;241;43m=\u001b[39;49m\u001b[43mcache_position\u001b[49m\u001b[43m,\u001b[49m\n\u001b[1;32m   1742\u001b[0m \u001b[43m\u001b[49m\u001b[43m)\u001b[49m\n\u001b[1;32m   1744\u001b[0m hidden_states \u001b[38;5;241m=\u001b[39m outputs[\u001b[38;5;241m0\u001b[39m]\n\u001b[1;32m   1745\u001b[0m logits \u001b[38;5;241m=\u001b[39m \u001b[38;5;28mself\u001b[39m\u001b[38;5;241m.\u001b[39mlm_head(hidden_states)\n",
      "File \u001b[0;32m~/miniconda3/envs/yjenv/lib/python3.11/site-packages/torch/nn/modules/module.py:1532\u001b[0m, in \u001b[0;36mModule._wrapped_call_impl\u001b[0;34m(self, *args, **kwargs)\u001b[0m\n\u001b[1;32m   1530\u001b[0m     \u001b[38;5;28;01mreturn\u001b[39;00m \u001b[38;5;28mself\u001b[39m\u001b[38;5;241m.\u001b[39m_compiled_call_impl(\u001b[38;5;241m*\u001b[39margs, \u001b[38;5;241m*\u001b[39m\u001b[38;5;241m*\u001b[39mkwargs)  \u001b[38;5;66;03m# type: ignore[misc]\u001b[39;00m\n\u001b[1;32m   1531\u001b[0m \u001b[38;5;28;01melse\u001b[39;00m:\n\u001b[0;32m-> 1532\u001b[0m     \u001b[38;5;28;01mreturn\u001b[39;00m \u001b[38;5;28;43mself\u001b[39;49m\u001b[38;5;241;43m.\u001b[39;49m\u001b[43m_call_impl\u001b[49m\u001b[43m(\u001b[49m\u001b[38;5;241;43m*\u001b[39;49m\u001b[43margs\u001b[49m\u001b[43m,\u001b[49m\u001b[43m \u001b[49m\u001b[38;5;241;43m*\u001b[39;49m\u001b[38;5;241;43m*\u001b[39;49m\u001b[43mkwargs\u001b[49m\u001b[43m)\u001b[49m\n",
      "File \u001b[0;32m~/miniconda3/envs/yjenv/lib/python3.11/site-packages/torch/nn/modules/module.py:1541\u001b[0m, in \u001b[0;36mModule._call_impl\u001b[0;34m(self, *args, **kwargs)\u001b[0m\n\u001b[1;32m   1536\u001b[0m \u001b[38;5;66;03m# If we don't have any hooks, we want to skip the rest of the logic in\u001b[39;00m\n\u001b[1;32m   1537\u001b[0m \u001b[38;5;66;03m# this function, and just call forward.\u001b[39;00m\n\u001b[1;32m   1538\u001b[0m \u001b[38;5;28;01mif\u001b[39;00m \u001b[38;5;129;01mnot\u001b[39;00m (\u001b[38;5;28mself\u001b[39m\u001b[38;5;241m.\u001b[39m_backward_hooks \u001b[38;5;129;01mor\u001b[39;00m \u001b[38;5;28mself\u001b[39m\u001b[38;5;241m.\u001b[39m_backward_pre_hooks \u001b[38;5;129;01mor\u001b[39;00m \u001b[38;5;28mself\u001b[39m\u001b[38;5;241m.\u001b[39m_forward_hooks \u001b[38;5;129;01mor\u001b[39;00m \u001b[38;5;28mself\u001b[39m\u001b[38;5;241m.\u001b[39m_forward_pre_hooks\n\u001b[1;32m   1539\u001b[0m         \u001b[38;5;129;01mor\u001b[39;00m _global_backward_pre_hooks \u001b[38;5;129;01mor\u001b[39;00m _global_backward_hooks\n\u001b[1;32m   1540\u001b[0m         \u001b[38;5;129;01mor\u001b[39;00m _global_forward_hooks \u001b[38;5;129;01mor\u001b[39;00m _global_forward_pre_hooks):\n\u001b[0;32m-> 1541\u001b[0m     \u001b[38;5;28;01mreturn\u001b[39;00m \u001b[43mforward_call\u001b[49m\u001b[43m(\u001b[49m\u001b[38;5;241;43m*\u001b[39;49m\u001b[43margs\u001b[49m\u001b[43m,\u001b[49m\u001b[43m \u001b[49m\u001b[38;5;241;43m*\u001b[39;49m\u001b[38;5;241;43m*\u001b[39;49m\u001b[43mkwargs\u001b[49m\u001b[43m)\u001b[49m\n\u001b[1;32m   1543\u001b[0m \u001b[38;5;28;01mtry\u001b[39;00m:\n\u001b[1;32m   1544\u001b[0m     result \u001b[38;5;241m=\u001b[39m \u001b[38;5;28;01mNone\u001b[39;00m\n",
      "File \u001b[0;32m~/miniconda3/envs/yjenv/lib/python3.11/site-packages/accelerate/hooks.py:176\u001b[0m, in \u001b[0;36madd_hook_to_module.<locals>.new_forward\u001b[0;34m(module, *args, **kwargs)\u001b[0m\n\u001b[1;32m    174\u001b[0m         output \u001b[38;5;241m=\u001b[39m module\u001b[38;5;241m.\u001b[39m_old_forward(\u001b[38;5;241m*\u001b[39margs, \u001b[38;5;241m*\u001b[39m\u001b[38;5;241m*\u001b[39mkwargs)\n\u001b[1;32m    175\u001b[0m \u001b[38;5;28;01melse\u001b[39;00m:\n\u001b[0;32m--> 176\u001b[0m     output \u001b[38;5;241m=\u001b[39m \u001b[43mmodule\u001b[49m\u001b[38;5;241;43m.\u001b[39;49m\u001b[43m_old_forward\u001b[49m\u001b[43m(\u001b[49m\u001b[38;5;241;43m*\u001b[39;49m\u001b[43margs\u001b[49m\u001b[43m,\u001b[49m\u001b[43m \u001b[49m\u001b[38;5;241;43m*\u001b[39;49m\u001b[38;5;241;43m*\u001b[39;49m\u001b[43mkwargs\u001b[49m\u001b[43m)\u001b[49m\n\u001b[1;32m    177\u001b[0m \u001b[38;5;28;01mreturn\u001b[39;00m module\u001b[38;5;241m.\u001b[39m_hf_hook\u001b[38;5;241m.\u001b[39mpost_forward(module, output)\n",
      "File \u001b[0;32m~/miniconda3/envs/yjenv/lib/python3.11/site-packages/transformers/models/qwen2_vl/modeling_qwen2_vl.py:1152\u001b[0m, in \u001b[0;36mQwen2VLModel.forward\u001b[0;34m(self, input_ids, attention_mask, position_ids, past_key_values, inputs_embeds, use_cache, output_attentions, output_hidden_states, return_dict, cache_position)\u001b[0m\n\u001b[1;32m   1140\u001b[0m     layer_outputs \u001b[38;5;241m=\u001b[39m \u001b[38;5;28mself\u001b[39m\u001b[38;5;241m.\u001b[39m_gradient_checkpointing_func(\n\u001b[1;32m   1141\u001b[0m         decoder_layer\u001b[38;5;241m.\u001b[39m\u001b[38;5;21m__call__\u001b[39m,\n\u001b[1;32m   1142\u001b[0m         hidden_states,\n\u001b[0;32m   (...)\u001b[0m\n\u001b[1;32m   1149\u001b[0m         position_embeddings,\n\u001b[1;32m   1150\u001b[0m     )\n\u001b[1;32m   1151\u001b[0m \u001b[38;5;28;01melse\u001b[39;00m:\n\u001b[0;32m-> 1152\u001b[0m     layer_outputs \u001b[38;5;241m=\u001b[39m \u001b[43mdecoder_layer\u001b[49m\u001b[43m(\u001b[49m\n\u001b[1;32m   1153\u001b[0m \u001b[43m        \u001b[49m\u001b[43mhidden_states\u001b[49m\u001b[43m,\u001b[49m\n\u001b[1;32m   1154\u001b[0m \u001b[43m        \u001b[49m\u001b[43mattention_mask\u001b[49m\u001b[38;5;241;43m=\u001b[39;49m\u001b[43mcausal_mask\u001b[49m\u001b[43m,\u001b[49m\n\u001b[1;32m   1155\u001b[0m \u001b[43m        \u001b[49m\u001b[43mposition_ids\u001b[49m\u001b[38;5;241;43m=\u001b[39;49m\u001b[43mposition_ids\u001b[49m\u001b[43m,\u001b[49m\n\u001b[1;32m   1156\u001b[0m \u001b[43m        \u001b[49m\u001b[43mpast_key_value\u001b[49m\u001b[38;5;241;43m=\u001b[39;49m\u001b[43mpast_key_values\u001b[49m\u001b[43m,\u001b[49m\n\u001b[1;32m   1157\u001b[0m \u001b[43m        \u001b[49m\u001b[43moutput_attentions\u001b[49m\u001b[38;5;241;43m=\u001b[39;49m\u001b[43moutput_attentions\u001b[49m\u001b[43m,\u001b[49m\n\u001b[1;32m   1158\u001b[0m \u001b[43m        \u001b[49m\u001b[43muse_cache\u001b[49m\u001b[38;5;241;43m=\u001b[39;49m\u001b[43muse_cache\u001b[49m\u001b[43m,\u001b[49m\n\u001b[1;32m   1159\u001b[0m \u001b[43m        \u001b[49m\u001b[43mcache_position\u001b[49m\u001b[38;5;241;43m=\u001b[39;49m\u001b[43mcache_position\u001b[49m\u001b[43m,\u001b[49m\n\u001b[1;32m   1160\u001b[0m \u001b[43m        \u001b[49m\u001b[43mposition_embeddings\u001b[49m\u001b[38;5;241;43m=\u001b[39;49m\u001b[43mposition_embeddings\u001b[49m\u001b[43m,\u001b[49m\n\u001b[1;32m   1161\u001b[0m \u001b[43m    \u001b[49m\u001b[43m)\u001b[49m\n\u001b[1;32m   1163\u001b[0m hidden_states \u001b[38;5;241m=\u001b[39m layer_outputs[\u001b[38;5;241m0\u001b[39m]\n\u001b[1;32m   1165\u001b[0m \u001b[38;5;28;01mif\u001b[39;00m use_cache:\n",
      "File \u001b[0;32m~/miniconda3/envs/yjenv/lib/python3.11/site-packages/torch/nn/modules/module.py:1532\u001b[0m, in \u001b[0;36mModule._wrapped_call_impl\u001b[0;34m(self, *args, **kwargs)\u001b[0m\n\u001b[1;32m   1530\u001b[0m     \u001b[38;5;28;01mreturn\u001b[39;00m \u001b[38;5;28mself\u001b[39m\u001b[38;5;241m.\u001b[39m_compiled_call_impl(\u001b[38;5;241m*\u001b[39margs, \u001b[38;5;241m*\u001b[39m\u001b[38;5;241m*\u001b[39mkwargs)  \u001b[38;5;66;03m# type: ignore[misc]\u001b[39;00m\n\u001b[1;32m   1531\u001b[0m \u001b[38;5;28;01melse\u001b[39;00m:\n\u001b[0;32m-> 1532\u001b[0m     \u001b[38;5;28;01mreturn\u001b[39;00m \u001b[38;5;28;43mself\u001b[39;49m\u001b[38;5;241;43m.\u001b[39;49m\u001b[43m_call_impl\u001b[49m\u001b[43m(\u001b[49m\u001b[38;5;241;43m*\u001b[39;49m\u001b[43margs\u001b[49m\u001b[43m,\u001b[49m\u001b[43m \u001b[49m\u001b[38;5;241;43m*\u001b[39;49m\u001b[38;5;241;43m*\u001b[39;49m\u001b[43mkwargs\u001b[49m\u001b[43m)\u001b[49m\n",
      "File \u001b[0;32m~/miniconda3/envs/yjenv/lib/python3.11/site-packages/torch/nn/modules/module.py:1541\u001b[0m, in \u001b[0;36mModule._call_impl\u001b[0;34m(self, *args, **kwargs)\u001b[0m\n\u001b[1;32m   1536\u001b[0m \u001b[38;5;66;03m# If we don't have any hooks, we want to skip the rest of the logic in\u001b[39;00m\n\u001b[1;32m   1537\u001b[0m \u001b[38;5;66;03m# this function, and just call forward.\u001b[39;00m\n\u001b[1;32m   1538\u001b[0m \u001b[38;5;28;01mif\u001b[39;00m \u001b[38;5;129;01mnot\u001b[39;00m (\u001b[38;5;28mself\u001b[39m\u001b[38;5;241m.\u001b[39m_backward_hooks \u001b[38;5;129;01mor\u001b[39;00m \u001b[38;5;28mself\u001b[39m\u001b[38;5;241m.\u001b[39m_backward_pre_hooks \u001b[38;5;129;01mor\u001b[39;00m \u001b[38;5;28mself\u001b[39m\u001b[38;5;241m.\u001b[39m_forward_hooks \u001b[38;5;129;01mor\u001b[39;00m \u001b[38;5;28mself\u001b[39m\u001b[38;5;241m.\u001b[39m_forward_pre_hooks\n\u001b[1;32m   1539\u001b[0m         \u001b[38;5;129;01mor\u001b[39;00m _global_backward_pre_hooks \u001b[38;5;129;01mor\u001b[39;00m _global_backward_hooks\n\u001b[1;32m   1540\u001b[0m         \u001b[38;5;129;01mor\u001b[39;00m _global_forward_hooks \u001b[38;5;129;01mor\u001b[39;00m _global_forward_pre_hooks):\n\u001b[0;32m-> 1541\u001b[0m     \u001b[38;5;28;01mreturn\u001b[39;00m \u001b[43mforward_call\u001b[49m\u001b[43m(\u001b[49m\u001b[38;5;241;43m*\u001b[39;49m\u001b[43margs\u001b[49m\u001b[43m,\u001b[49m\u001b[43m \u001b[49m\u001b[38;5;241;43m*\u001b[39;49m\u001b[38;5;241;43m*\u001b[39;49m\u001b[43mkwargs\u001b[49m\u001b[43m)\u001b[49m\n\u001b[1;32m   1543\u001b[0m \u001b[38;5;28;01mtry\u001b[39;00m:\n\u001b[1;32m   1544\u001b[0m     result \u001b[38;5;241m=\u001b[39m \u001b[38;5;28;01mNone\u001b[39;00m\n",
      "File \u001b[0;32m~/miniconda3/envs/yjenv/lib/python3.11/site-packages/accelerate/hooks.py:176\u001b[0m, in \u001b[0;36madd_hook_to_module.<locals>.new_forward\u001b[0;34m(module, *args, **kwargs)\u001b[0m\n\u001b[1;32m    174\u001b[0m         output \u001b[38;5;241m=\u001b[39m module\u001b[38;5;241m.\u001b[39m_old_forward(\u001b[38;5;241m*\u001b[39margs, \u001b[38;5;241m*\u001b[39m\u001b[38;5;241m*\u001b[39mkwargs)\n\u001b[1;32m    175\u001b[0m \u001b[38;5;28;01melse\u001b[39;00m:\n\u001b[0;32m--> 176\u001b[0m     output \u001b[38;5;241m=\u001b[39m \u001b[43mmodule\u001b[49m\u001b[38;5;241;43m.\u001b[39;49m\u001b[43m_old_forward\u001b[49m\u001b[43m(\u001b[49m\u001b[38;5;241;43m*\u001b[39;49m\u001b[43margs\u001b[49m\u001b[43m,\u001b[49m\u001b[43m \u001b[49m\u001b[38;5;241;43m*\u001b[39;49m\u001b[38;5;241;43m*\u001b[39;49m\u001b[43mkwargs\u001b[49m\u001b[43m)\u001b[49m\n\u001b[1;32m    177\u001b[0m \u001b[38;5;28;01mreturn\u001b[39;00m module\u001b[38;5;241m.\u001b[39m_hf_hook\u001b[38;5;241m.\u001b[39mpost_forward(module, output)\n",
      "File \u001b[0;32m~/miniconda3/envs/yjenv/lib/python3.11/site-packages/transformers/models/qwen2_vl/modeling_qwen2_vl.py:897\u001b[0m, in \u001b[0;36mQwen2VLDecoderLayer.forward\u001b[0;34m(self, hidden_states, attention_mask, position_ids, past_key_value, output_attentions, use_cache, cache_position, position_embeddings, **kwargs)\u001b[0m\n\u001b[1;32m    895\u001b[0m residual \u001b[38;5;241m=\u001b[39m hidden_states\n\u001b[1;32m    896\u001b[0m hidden_states \u001b[38;5;241m=\u001b[39m \u001b[38;5;28mself\u001b[39m\u001b[38;5;241m.\u001b[39mpost_attention_layernorm(hidden_states)\n\u001b[0;32m--> 897\u001b[0m hidden_states \u001b[38;5;241m=\u001b[39m \u001b[38;5;28;43mself\u001b[39;49m\u001b[38;5;241;43m.\u001b[39;49m\u001b[43mmlp\u001b[49m\u001b[43m(\u001b[49m\u001b[43mhidden_states\u001b[49m\u001b[43m)\u001b[49m\n\u001b[1;32m    898\u001b[0m hidden_states \u001b[38;5;241m=\u001b[39m residual \u001b[38;5;241m+\u001b[39m hidden_states\n\u001b[1;32m    900\u001b[0m outputs \u001b[38;5;241m=\u001b[39m (hidden_states,)\n",
      "File \u001b[0;32m~/miniconda3/envs/yjenv/lib/python3.11/site-packages/torch/nn/modules/module.py:1532\u001b[0m, in \u001b[0;36mModule._wrapped_call_impl\u001b[0;34m(self, *args, **kwargs)\u001b[0m\n\u001b[1;32m   1530\u001b[0m     \u001b[38;5;28;01mreturn\u001b[39;00m \u001b[38;5;28mself\u001b[39m\u001b[38;5;241m.\u001b[39m_compiled_call_impl(\u001b[38;5;241m*\u001b[39margs, \u001b[38;5;241m*\u001b[39m\u001b[38;5;241m*\u001b[39mkwargs)  \u001b[38;5;66;03m# type: ignore[misc]\u001b[39;00m\n\u001b[1;32m   1531\u001b[0m \u001b[38;5;28;01melse\u001b[39;00m:\n\u001b[0;32m-> 1532\u001b[0m     \u001b[38;5;28;01mreturn\u001b[39;00m \u001b[38;5;28;43mself\u001b[39;49m\u001b[38;5;241;43m.\u001b[39;49m\u001b[43m_call_impl\u001b[49m\u001b[43m(\u001b[49m\u001b[38;5;241;43m*\u001b[39;49m\u001b[43margs\u001b[49m\u001b[43m,\u001b[49m\u001b[43m \u001b[49m\u001b[38;5;241;43m*\u001b[39;49m\u001b[38;5;241;43m*\u001b[39;49m\u001b[43mkwargs\u001b[49m\u001b[43m)\u001b[49m\n",
      "File \u001b[0;32m~/miniconda3/envs/yjenv/lib/python3.11/site-packages/torch/nn/modules/module.py:1541\u001b[0m, in \u001b[0;36mModule._call_impl\u001b[0;34m(self, *args, **kwargs)\u001b[0m\n\u001b[1;32m   1536\u001b[0m \u001b[38;5;66;03m# If we don't have any hooks, we want to skip the rest of the logic in\u001b[39;00m\n\u001b[1;32m   1537\u001b[0m \u001b[38;5;66;03m# this function, and just call forward.\u001b[39;00m\n\u001b[1;32m   1538\u001b[0m \u001b[38;5;28;01mif\u001b[39;00m \u001b[38;5;129;01mnot\u001b[39;00m (\u001b[38;5;28mself\u001b[39m\u001b[38;5;241m.\u001b[39m_backward_hooks \u001b[38;5;129;01mor\u001b[39;00m \u001b[38;5;28mself\u001b[39m\u001b[38;5;241m.\u001b[39m_backward_pre_hooks \u001b[38;5;129;01mor\u001b[39;00m \u001b[38;5;28mself\u001b[39m\u001b[38;5;241m.\u001b[39m_forward_hooks \u001b[38;5;129;01mor\u001b[39;00m \u001b[38;5;28mself\u001b[39m\u001b[38;5;241m.\u001b[39m_forward_pre_hooks\n\u001b[1;32m   1539\u001b[0m         \u001b[38;5;129;01mor\u001b[39;00m _global_backward_pre_hooks \u001b[38;5;129;01mor\u001b[39;00m _global_backward_hooks\n\u001b[1;32m   1540\u001b[0m         \u001b[38;5;129;01mor\u001b[39;00m _global_forward_hooks \u001b[38;5;129;01mor\u001b[39;00m _global_forward_pre_hooks):\n\u001b[0;32m-> 1541\u001b[0m     \u001b[38;5;28;01mreturn\u001b[39;00m \u001b[43mforward_call\u001b[49m\u001b[43m(\u001b[49m\u001b[38;5;241;43m*\u001b[39;49m\u001b[43margs\u001b[49m\u001b[43m,\u001b[49m\u001b[43m \u001b[49m\u001b[38;5;241;43m*\u001b[39;49m\u001b[38;5;241;43m*\u001b[39;49m\u001b[43mkwargs\u001b[49m\u001b[43m)\u001b[49m\n\u001b[1;32m   1543\u001b[0m \u001b[38;5;28;01mtry\u001b[39;00m:\n\u001b[1;32m   1544\u001b[0m     result \u001b[38;5;241m=\u001b[39m \u001b[38;5;28;01mNone\u001b[39;00m\n",
      "File \u001b[0;32m~/miniconda3/envs/yjenv/lib/python3.11/site-packages/accelerate/hooks.py:176\u001b[0m, in \u001b[0;36madd_hook_to_module.<locals>.new_forward\u001b[0;34m(module, *args, **kwargs)\u001b[0m\n\u001b[1;32m    174\u001b[0m         output \u001b[38;5;241m=\u001b[39m module\u001b[38;5;241m.\u001b[39m_old_forward(\u001b[38;5;241m*\u001b[39margs, \u001b[38;5;241m*\u001b[39m\u001b[38;5;241m*\u001b[39mkwargs)\n\u001b[1;32m    175\u001b[0m \u001b[38;5;28;01melse\u001b[39;00m:\n\u001b[0;32m--> 176\u001b[0m     output \u001b[38;5;241m=\u001b[39m \u001b[43mmodule\u001b[49m\u001b[38;5;241;43m.\u001b[39;49m\u001b[43m_old_forward\u001b[49m\u001b[43m(\u001b[49m\u001b[38;5;241;43m*\u001b[39;49m\u001b[43margs\u001b[49m\u001b[43m,\u001b[49m\u001b[43m \u001b[49m\u001b[38;5;241;43m*\u001b[39;49m\u001b[38;5;241;43m*\u001b[39;49m\u001b[43mkwargs\u001b[49m\u001b[43m)\u001b[49m\n\u001b[1;32m    177\u001b[0m \u001b[38;5;28;01mreturn\u001b[39;00m module\u001b[38;5;241m.\u001b[39m_hf_hook\u001b[38;5;241m.\u001b[39mpost_forward(module, output)\n",
      "File \u001b[0;32m~/miniconda3/envs/yjenv/lib/python3.11/site-packages/transformers/models/qwen2_vl/modeling_qwen2_vl.py:496\u001b[0m, in \u001b[0;36mQwen2MLP.forward\u001b[0;34m(self, x)\u001b[0m\n\u001b[1;32m    495\u001b[0m \u001b[38;5;28;01mdef\u001b[39;00m \u001b[38;5;21mforward\u001b[39m(\u001b[38;5;28mself\u001b[39m, x):\n\u001b[0;32m--> 496\u001b[0m     down_proj \u001b[38;5;241m=\u001b[39m \u001b[38;5;28mself\u001b[39m\u001b[38;5;241m.\u001b[39mdown_proj(\u001b[38;5;28mself\u001b[39m\u001b[38;5;241m.\u001b[39mact_fn(\u001b[38;5;28mself\u001b[39m\u001b[38;5;241m.\u001b[39mgate_proj(x)) \u001b[38;5;241m*\u001b[39m \u001b[38;5;28;43mself\u001b[39;49m\u001b[38;5;241;43m.\u001b[39;49m\u001b[43mup_proj\u001b[49m\u001b[43m(\u001b[49m\u001b[43mx\u001b[49m\u001b[43m)\u001b[49m)\n\u001b[1;32m    497\u001b[0m     \u001b[38;5;28;01mreturn\u001b[39;00m down_proj\n",
      "File \u001b[0;32m~/miniconda3/envs/yjenv/lib/python3.11/site-packages/torch/nn/modules/module.py:1532\u001b[0m, in \u001b[0;36mModule._wrapped_call_impl\u001b[0;34m(self, *args, **kwargs)\u001b[0m\n\u001b[1;32m   1530\u001b[0m     \u001b[38;5;28;01mreturn\u001b[39;00m \u001b[38;5;28mself\u001b[39m\u001b[38;5;241m.\u001b[39m_compiled_call_impl(\u001b[38;5;241m*\u001b[39margs, \u001b[38;5;241m*\u001b[39m\u001b[38;5;241m*\u001b[39mkwargs)  \u001b[38;5;66;03m# type: ignore[misc]\u001b[39;00m\n\u001b[1;32m   1531\u001b[0m \u001b[38;5;28;01melse\u001b[39;00m:\n\u001b[0;32m-> 1532\u001b[0m     \u001b[38;5;28;01mreturn\u001b[39;00m \u001b[38;5;28;43mself\u001b[39;49m\u001b[38;5;241;43m.\u001b[39;49m\u001b[43m_call_impl\u001b[49m\u001b[43m(\u001b[49m\u001b[38;5;241;43m*\u001b[39;49m\u001b[43margs\u001b[49m\u001b[43m,\u001b[49m\u001b[43m \u001b[49m\u001b[38;5;241;43m*\u001b[39;49m\u001b[38;5;241;43m*\u001b[39;49m\u001b[43mkwargs\u001b[49m\u001b[43m)\u001b[49m\n",
      "File \u001b[0;32m~/miniconda3/envs/yjenv/lib/python3.11/site-packages/torch/nn/modules/module.py:1541\u001b[0m, in \u001b[0;36mModule._call_impl\u001b[0;34m(self, *args, **kwargs)\u001b[0m\n\u001b[1;32m   1536\u001b[0m \u001b[38;5;66;03m# If we don't have any hooks, we want to skip the rest of the logic in\u001b[39;00m\n\u001b[1;32m   1537\u001b[0m \u001b[38;5;66;03m# this function, and just call forward.\u001b[39;00m\n\u001b[1;32m   1538\u001b[0m \u001b[38;5;28;01mif\u001b[39;00m \u001b[38;5;129;01mnot\u001b[39;00m (\u001b[38;5;28mself\u001b[39m\u001b[38;5;241m.\u001b[39m_backward_hooks \u001b[38;5;129;01mor\u001b[39;00m \u001b[38;5;28mself\u001b[39m\u001b[38;5;241m.\u001b[39m_backward_pre_hooks \u001b[38;5;129;01mor\u001b[39;00m \u001b[38;5;28mself\u001b[39m\u001b[38;5;241m.\u001b[39m_forward_hooks \u001b[38;5;129;01mor\u001b[39;00m \u001b[38;5;28mself\u001b[39m\u001b[38;5;241m.\u001b[39m_forward_pre_hooks\n\u001b[1;32m   1539\u001b[0m         \u001b[38;5;129;01mor\u001b[39;00m _global_backward_pre_hooks \u001b[38;5;129;01mor\u001b[39;00m _global_backward_hooks\n\u001b[1;32m   1540\u001b[0m         \u001b[38;5;129;01mor\u001b[39;00m _global_forward_hooks \u001b[38;5;129;01mor\u001b[39;00m _global_forward_pre_hooks):\n\u001b[0;32m-> 1541\u001b[0m     \u001b[38;5;28;01mreturn\u001b[39;00m \u001b[43mforward_call\u001b[49m\u001b[43m(\u001b[49m\u001b[38;5;241;43m*\u001b[39;49m\u001b[43margs\u001b[49m\u001b[43m,\u001b[49m\u001b[43m \u001b[49m\u001b[38;5;241;43m*\u001b[39;49m\u001b[38;5;241;43m*\u001b[39;49m\u001b[43mkwargs\u001b[49m\u001b[43m)\u001b[49m\n\u001b[1;32m   1543\u001b[0m \u001b[38;5;28;01mtry\u001b[39;00m:\n\u001b[1;32m   1544\u001b[0m     result \u001b[38;5;241m=\u001b[39m \u001b[38;5;28;01mNone\u001b[39;00m\n",
      "File \u001b[0;32m~/miniconda3/envs/yjenv/lib/python3.11/site-packages/accelerate/hooks.py:171\u001b[0m, in \u001b[0;36madd_hook_to_module.<locals>.new_forward\u001b[0;34m(module, *args, **kwargs)\u001b[0m\n\u001b[1;32m    170\u001b[0m \u001b[38;5;28;01mdef\u001b[39;00m \u001b[38;5;21mnew_forward\u001b[39m(module, \u001b[38;5;241m*\u001b[39margs, \u001b[38;5;241m*\u001b[39m\u001b[38;5;241m*\u001b[39mkwargs):\n\u001b[0;32m--> 171\u001b[0m     args, kwargs \u001b[38;5;241m=\u001b[39m \u001b[43mmodule\u001b[49m\u001b[38;5;241;43m.\u001b[39;49m\u001b[43m_hf_hook\u001b[49m\u001b[38;5;241;43m.\u001b[39;49m\u001b[43mpre_forward\u001b[49m\u001b[43m(\u001b[49m\u001b[43mmodule\u001b[49m\u001b[43m,\u001b[49m\u001b[43m \u001b[49m\u001b[38;5;241;43m*\u001b[39;49m\u001b[43margs\u001b[49m\u001b[43m,\u001b[49m\u001b[43m \u001b[49m\u001b[38;5;241;43m*\u001b[39;49m\u001b[38;5;241;43m*\u001b[39;49m\u001b[43mkwargs\u001b[49m\u001b[43m)\u001b[49m\n\u001b[1;32m    172\u001b[0m     \u001b[38;5;28;01mif\u001b[39;00m module\u001b[38;5;241m.\u001b[39m_hf_hook\u001b[38;5;241m.\u001b[39mno_grad:\n\u001b[1;32m    173\u001b[0m         \u001b[38;5;28;01mwith\u001b[39;00m torch\u001b[38;5;241m.\u001b[39mno_grad():\n",
      "File \u001b[0;32m~/miniconda3/envs/yjenv/lib/python3.11/site-packages/accelerate/hooks.py:361\u001b[0m, in \u001b[0;36mAlignDevicesHook.pre_forward\u001b[0;34m(self, module, *args, **kwargs)\u001b[0m\n\u001b[1;32m    353\u001b[0m         \u001b[38;5;28;01mif\u001b[39;00m (\n\u001b[1;32m    354\u001b[0m             value \u001b[38;5;129;01mis\u001b[39;00m \u001b[38;5;129;01mnot\u001b[39;00m \u001b[38;5;28;01mNone\u001b[39;00m\n\u001b[1;32m    355\u001b[0m             \u001b[38;5;129;01mand\u001b[39;00m \u001b[38;5;28mself\u001b[39m\u001b[38;5;241m.\u001b[39mtied_params_map \u001b[38;5;129;01mis\u001b[39;00m \u001b[38;5;129;01mnot\u001b[39;00m \u001b[38;5;28;01mNone\u001b[39;00m\n\u001b[1;32m    356\u001b[0m             \u001b[38;5;129;01mand\u001b[39;00m value\u001b[38;5;241m.\u001b[39mdata_ptr() \u001b[38;5;129;01min\u001b[39;00m \u001b[38;5;28mself\u001b[39m\u001b[38;5;241m.\u001b[39mtied_params_map\n\u001b[1;32m    357\u001b[0m             \u001b[38;5;129;01mand\u001b[39;00m \u001b[38;5;28mself\u001b[39m\u001b[38;5;241m.\u001b[39mexecution_device \u001b[38;5;129;01mnot\u001b[39;00m \u001b[38;5;129;01min\u001b[39;00m \u001b[38;5;28mself\u001b[39m\u001b[38;5;241m.\u001b[39mtied_params_map[value\u001b[38;5;241m.\u001b[39mdata_ptr()]\n\u001b[1;32m    358\u001b[0m         ):\n\u001b[1;32m    359\u001b[0m             \u001b[38;5;28mself\u001b[39m\u001b[38;5;241m.\u001b[39mtied_pointers_to_remove\u001b[38;5;241m.\u001b[39madd((value\u001b[38;5;241m.\u001b[39mdata_ptr(), \u001b[38;5;28mself\u001b[39m\u001b[38;5;241m.\u001b[39mexecution_device))\n\u001b[0;32m--> 361\u001b[0m         \u001b[43mset_module_tensor_to_device\u001b[49m\u001b[43m(\u001b[49m\n\u001b[1;32m    362\u001b[0m \u001b[43m            \u001b[49m\u001b[43mmodule\u001b[49m\u001b[43m,\u001b[49m\n\u001b[1;32m    363\u001b[0m \u001b[43m            \u001b[49m\u001b[43mname\u001b[49m\u001b[43m,\u001b[49m\n\u001b[1;32m    364\u001b[0m \u001b[43m            \u001b[49m\u001b[38;5;28;43mself\u001b[39;49m\u001b[38;5;241;43m.\u001b[39;49m\u001b[43mexecution_device\u001b[49m\u001b[43m,\u001b[49m\n\u001b[1;32m    365\u001b[0m \u001b[43m            \u001b[49m\u001b[43mvalue\u001b[49m\u001b[38;5;241;43m=\u001b[39;49m\u001b[43mvalue\u001b[49m\u001b[43m,\u001b[49m\n\u001b[1;32m    366\u001b[0m \u001b[43m            \u001b[49m\u001b[43mfp16_statistics\u001b[49m\u001b[38;5;241;43m=\u001b[39;49m\u001b[43mfp16_statistics\u001b[49m\u001b[43m,\u001b[49m\n\u001b[1;32m    367\u001b[0m \u001b[43m            \u001b[49m\u001b[43mtied_params_map\u001b[49m\u001b[38;5;241;43m=\u001b[39;49m\u001b[38;5;28;43mself\u001b[39;49m\u001b[38;5;241;43m.\u001b[39;49m\u001b[43mtied_params_map\u001b[49m\u001b[43m,\u001b[49m\n\u001b[1;32m    368\u001b[0m \u001b[43m        \u001b[49m\u001b[43m)\u001b[49m\n\u001b[1;32m    370\u001b[0m \u001b[38;5;28;01mreturn\u001b[39;00m send_to_device(args, \u001b[38;5;28mself\u001b[39m\u001b[38;5;241m.\u001b[39mexecution_device), send_to_device(\n\u001b[1;32m    371\u001b[0m     kwargs, \u001b[38;5;28mself\u001b[39m\u001b[38;5;241m.\u001b[39mexecution_device, skip_keys\u001b[38;5;241m=\u001b[39m\u001b[38;5;28mself\u001b[39m\u001b[38;5;241m.\u001b[39mskip_keys\n\u001b[1;32m    372\u001b[0m )\n",
      "File \u001b[0;32m~/miniconda3/envs/yjenv/lib/python3.11/site-packages/accelerate/utils/modeling.py:330\u001b[0m, in \u001b[0;36mset_module_tensor_to_device\u001b[0;34m(module, tensor_name, device, value, dtype, fp16_statistics, tied_params_map)\u001b[0m\n\u001b[1;32m    328\u001b[0m             module\u001b[38;5;241m.\u001b[39m_parameters[tensor_name] \u001b[38;5;241m=\u001b[39m param_cls(new_value, requires_grad\u001b[38;5;241m=\u001b[39mold_value\u001b[38;5;241m.\u001b[39mrequires_grad)\n\u001b[1;32m    329\u001b[0m \u001b[38;5;28;01melif\u001b[39;00m \u001b[38;5;28misinstance\u001b[39m(value, torch\u001b[38;5;241m.\u001b[39mTensor):\n\u001b[0;32m--> 330\u001b[0m     new_value \u001b[38;5;241m=\u001b[39m \u001b[43mvalue\u001b[49m\u001b[38;5;241;43m.\u001b[39;49m\u001b[43mto\u001b[49m\u001b[43m(\u001b[49m\u001b[43mdevice\u001b[49m\u001b[43m)\u001b[49m\n\u001b[1;32m    331\u001b[0m \u001b[38;5;28;01melse\u001b[39;00m:\n\u001b[1;32m    332\u001b[0m     new_value \u001b[38;5;241m=\u001b[39m torch\u001b[38;5;241m.\u001b[39mtensor(value, device\u001b[38;5;241m=\u001b[39mdevice)\n",
      "\u001b[0;31mKeyboardInterrupt\u001b[0m: "
     ]
    }
   ],
   "source": [
    "# image_size = 64\n",
    "scores_original = []\n",
    "running_sum = 0\n",
    "valid_count = 0\n",
    "pbar = tqdm(sampled_files, desc=\"Processing Raw Images\")\n",
    "for image_name in pbar:\n",
    "    image_path = os.path.join(image_dir, image_name)\n",
    "    try:\n",
    "        score = evaluate_image(image_path,image_size)\n",
    "    except Exception as e:\n",
    "        print(f\"Error evaluating original image {image_name}: {e}\")\n",
    "        score = None\n",
    "\n",
    "    if score is not None:\n",
    "        running_sum += score\n",
    "        valid_count += 1\n",
    "\n",
    "    scores_original.append(score)\n",
    "    print(\"Train image scores:\", scores_original)\n",
    "    avg_score = running_sum / valid_count if valid_count > 0 else 0\n",
    "    pbar.set_postfix(avg_score=f\"{avg_score:.4f}\")\n",
    "print(\"Train image scores:\", scores_original)"
   ]
  },
  {
   "cell_type": "code",
   "execution_count": 17,
   "metadata": {},
   "outputs": [
    {
     "name": "stdout",
     "output_type": "stream",
     "text": [
      "9.0 7.444444444444445 8.2\n"
     ]
    }
   ],
   "source": [
    "import numpy as np\n",
    "a = [10, 8, 10, 10, 10, 10,6,8]\n",
    "b = [9, 4, 6, 10, 8, 7, 7, 9, 7]\n",
    "c = [10, 9, 8, 10, 10, 2, 8, 9, 9, 7]\n",
    "print(np.mean(a),np.mean(b),np.mean(c))"
   ]
  },
  {
   "cell_type": "markdown",
   "metadata": {},
   "source": [
    "a = [10, 8, 10, 10, 10, 10,6,8]"
   ]
  },
  {
   "cell_type": "code",
   "execution_count": 11,
   "metadata": {},
   "outputs": [],
   "source": [
    "image_size = 256"
   ]
  },
  {
   "cell_type": "code",
   "execution_count": 25,
   "metadata": {},
   "outputs": [
    {
     "name": "stderr",
     "output_type": "stream",
     "text": [
      "Processing AE Images:  10%|█         | 1/10 [01:39<14:57, 99.68s/it, avg_score=0.0000]"
     ]
    },
    {
     "name": "stdout",
     "output_type": "stream",
     "text": [
      "image_path: /cpfs04/user/hanyujin/rule-gen/experiments/samples/AE-Diff-16-mirror-SiT-B-1-linear-vae0040000.pt-size-64cfg-4.0-seed-0/000001.png output_text: [\"The score is 9. The reason is that the object appears to be a long, thin rod with a small protrusion near one end. Its reflection in the mirror maintains the same elongated shape and the position of the protrusion seems consistent with what would be expected from a mirror flip. There are minor distortions likely due to perspective, but the overall shape and outline are recognizable as the reflection of the same object. The slight differences do not significantly alter the perception of the object's identity in its reflection.\"]\n",
      "Error evaluating original image 000001.png: No number found after **Final Answer** in: The score is 9. The reason is that the object appears to be a long, thin rod with a small protrusion near one end. Its reflection in the mirror maintains the same elongated shape and the position of the protrusion seems consistent with what would be expected from a mirror flip. There are minor distortions likely due to perspective, but the overall shape and outline are recognizable as the reflection of the same object. The slight differences do not significantly alter the perception of the object's identity in its reflection.\n",
      "AE image scores: [None]\n"
     ]
    },
    {
     "name": "stderr",
     "output_type": "stream",
     "text": [
      "Processing AE Images:  20%|██        | 2/10 [02:52<11:11, 83.95s/it, avg_score=0.0000]"
     ]
    },
    {
     "name": "stdout",
     "output_type": "stream",
     "text": [
      "image_path: /cpfs04/user/hanyujin/rule-gen/experiments/samples/AE-Diff-16-mirror-SiT-B-1-linear-vae0040000.pt-size-64cfg-4.0-seed-0/000973.png output_text: ['The score is 7. The reason is that while the general shape of the object and its reflection are similar, there are noticeable differences in the outline and details. The reflection appears slightly distorted, which might be due to the angle and perspective of the mirror. However, these inconsistencies are moderate enough to make the reflection recognizably related to the object, but not perfectly consistent.']\n",
      "Error evaluating original image 000973.png: No number found after **Final Answer** in: The score is 7. The reason is that while the general shape of the object and its reflection are similar, there are noticeable differences in the outline and details. The reflection appears slightly distorted, which might be due to the angle and perspective of the mirror. However, these inconsistencies are moderate enough to make the reflection recognizably related to the object, but not perfectly consistent.\n",
      "AE image scores: [None, None]\n"
     ]
    },
    {
     "name": "stderr",
     "output_type": "stream",
     "text": [
      "Processing AE Images:  30%|███       | 3/10 [04:02<09:04, 77.73s/it, avg_score=0.0000]"
     ]
    },
    {
     "name": "stdout",
     "output_type": "stream",
     "text": [
      "image_path: /cpfs04/user/hanyujin/rule-gen/experiments/samples/AE-Diff-16-mirror-SiT-B-1-linear-vae0040000.pt-size-64cfg-4.0-seed-0/000619.png output_text: ['The score is 7. The reason is that while the general shape of the motorcycle and its reflection are similar, there are noticeable differences in the details. The reflection appears slightly distorted, which could be due to the angle and perspective of the mirror. However, the overall outline is still recognizable as the same object, indicating a moderate level of consistency with some discrepancies.']\n",
      "Error evaluating original image 000619.png: No number found after **Final Answer** in: The score is 7. The reason is that while the general shape of the motorcycle and its reflection are similar, there are noticeable differences in the details. The reflection appears slightly distorted, which could be due to the angle and perspective of the mirror. However, the overall outline is still recognizable as the same object, indicating a moderate level of consistency with some discrepancies.\n",
      "AE image scores: [None, None, None]\n"
     ]
    },
    {
     "name": "stderr",
     "output_type": "stream",
     "text": [
      "Processing AE Images:  40%|████      | 4/10 [05:27<08:03, 80.58s/it, avg_score=0.0000]"
     ]
    },
    {
     "name": "stdout",
     "output_type": "stream",
     "text": [
      "image_path: /cpfs04/user/hanyujin/rule-gen/experiments/samples/AE-Diff-16-mirror-SiT-B-1-linear-vae0040000.pt-size-64cfg-4.0-seed-0/000900.png output_text: [\"The score is 7. The reason is that while the general shape and outline of the object and its reflection are similar, there are noticeable differences in the details. The reflection appears slightly distorted, which might be due to the angle and perspective of the mirror. However, these differences are not so significant as to make the reflection unrecognizable as the object's reflection. The overall consistency is moderate, with some discrepancies in the finer details.\"]\n",
      "Error evaluating original image 000900.png: No number found after **Final Answer** in: The score is 7. The reason is that while the general shape and outline of the object and its reflection are similar, there are noticeable differences in the details. The reflection appears slightly distorted, which might be due to the angle and perspective of the mirror. However, these differences are not so significant as to make the reflection unrecognizable as the object's reflection. The overall consistency is moderate, with some discrepancies in the finer details.\n",
      "AE image scores: [None, None, None, None]\n"
     ]
    },
    {
     "name": "stderr",
     "output_type": "stream",
     "text": [
      "Processing AE Images:  50%|█████     | 5/10 [06:51<06:48, 81.68s/it, avg_score=0.0000]"
     ]
    },
    {
     "name": "stdout",
     "output_type": "stream",
     "text": [
      "image_path: /cpfs04/user/hanyujin/rule-gen/experiments/samples/AE-Diff-16-mirror-SiT-B-1-linear-vae0040000.pt-size-64cfg-4.0-seed-0/000314.png output_text: ['The score is 9. The reason is that the object and its reflection show a high degree of consistency in shape and outline, with only minor distortions likely caused by perspective. The reflection accurately represents the flipped version of the object, maintaining the essential features such as the rectangular body and the protruding elements. Any slight discrepancies appear to be within the range expected due to the angle of reflection and the surface characteristics of the mirror.']\n",
      "Error evaluating original image 000314.png: No number found after **Final Answer** in: The score is 9. The reason is that the object and its reflection show a high degree of consistency in shape and outline, with only minor distortions likely caused by perspective. The reflection accurately represents the flipped version of the object, maintaining the essential features such as the rectangular body and the protruding elements. Any slight discrepancies appear to be within the range expected due to the angle of reflection and the surface characteristics of the mirror.\n",
      "AE image scores: [None, None, None, None, None]\n"
     ]
    },
    {
     "name": "stderr",
     "output_type": "stream",
     "text": [
      "Processing AE Images:  50%|█████     | 5/10 [08:08<08:08, 97.80s/it, avg_score=0.0000]\n"
     ]
    },
    {
     "ename": "KeyboardInterrupt",
     "evalue": "",
     "output_type": "error",
     "traceback": [
      "\u001b[0;31m---------------------------------------------------------------------------\u001b[0m",
      "\u001b[0;31mKeyboardInterrupt\u001b[0m                         Traceback (most recent call last)",
      "Cell \u001b[0;32mIn[25], line 9\u001b[0m\n\u001b[1;32m      7\u001b[0m image_path \u001b[38;5;241m=\u001b[39m os\u001b[38;5;241m.\u001b[39mpath\u001b[38;5;241m.\u001b[39mjoin(image_dir_1, image_name)\n\u001b[1;32m      8\u001b[0m \u001b[38;5;28;01mtry\u001b[39;00m:\n\u001b[0;32m----> 9\u001b[0m     score \u001b[38;5;241m=\u001b[39m \u001b[43mevaluate_image\u001b[49m\u001b[43m(\u001b[49m\u001b[43mimage_path\u001b[49m\u001b[43m,\u001b[49m\u001b[43mimage_size\u001b[49m\u001b[43m)\u001b[49m\n\u001b[1;32m     10\u001b[0m \u001b[38;5;28;01mexcept\u001b[39;00m \u001b[38;5;167;01mException\u001b[39;00m \u001b[38;5;28;01mas\u001b[39;00m e:\n\u001b[1;32m     11\u001b[0m     \u001b[38;5;28mprint\u001b[39m(\u001b[38;5;124mf\u001b[39m\u001b[38;5;124m\"\u001b[39m\u001b[38;5;124mError evaluating original image \u001b[39m\u001b[38;5;132;01m{\u001b[39;00mimage_name\u001b[38;5;132;01m}\u001b[39;00m\u001b[38;5;124m: \u001b[39m\u001b[38;5;132;01m{\u001b[39;00me\u001b[38;5;132;01m}\u001b[39;00m\u001b[38;5;124m\"\u001b[39m)\n",
      "Cell \u001b[0;32mIn[20], line 60\u001b[0m, in \u001b[0;36mevaluate_image\u001b[0;34m(image_path, image_size)\u001b[0m\n\u001b[1;32m     57\u001b[0m inputs \u001b[38;5;241m=\u001b[39m inputs\u001b[38;5;241m.\u001b[39mto(\u001b[38;5;124m\"\u001b[39m\u001b[38;5;124mcuda\u001b[39m\u001b[38;5;124m\"\u001b[39m)\n\u001b[1;32m     59\u001b[0m \u001b[38;5;66;03m# Inference: Generation of the output\u001b[39;00m\n\u001b[0;32m---> 60\u001b[0m generated_ids \u001b[38;5;241m=\u001b[39m \u001b[43mmodel\u001b[49m\u001b[38;5;241;43m.\u001b[39;49m\u001b[43mgenerate\u001b[49m\u001b[43m(\u001b[49m\u001b[38;5;241;43m*\u001b[39;49m\u001b[38;5;241;43m*\u001b[39;49m\u001b[43minputs\u001b[49m\u001b[43m,\u001b[49m\u001b[43m \u001b[49m\u001b[43mmax_new_tokens\u001b[49m\u001b[38;5;241;43m=\u001b[39;49m\u001b[38;5;241;43m9000\u001b[39;49m\u001b[43m)\u001b[49m\n\u001b[1;32m     61\u001b[0m generated_ids_trimmed \u001b[38;5;241m=\u001b[39m [\n\u001b[1;32m     62\u001b[0m     out_ids[\u001b[38;5;28mlen\u001b[39m(in_ids) :] \u001b[38;5;28;01mfor\u001b[39;00m in_ids, out_ids \u001b[38;5;129;01min\u001b[39;00m \u001b[38;5;28mzip\u001b[39m(inputs\u001b[38;5;241m.\u001b[39minput_ids, generated_ids)\n\u001b[1;32m     63\u001b[0m ]\n\u001b[1;32m     64\u001b[0m output_text \u001b[38;5;241m=\u001b[39m processor\u001b[38;5;241m.\u001b[39mbatch_decode(\n\u001b[1;32m     65\u001b[0m     generated_ids_trimmed, skip_special_tokens\u001b[38;5;241m=\u001b[39m\u001b[38;5;28;01mTrue\u001b[39;00m, clean_up_tokenization_spaces\u001b[38;5;241m=\u001b[39m\u001b[38;5;28;01mFalse\u001b[39;00m\n\u001b[1;32m     66\u001b[0m )\n",
      "File \u001b[0;32m~/miniconda3/envs/yjenv/lib/python3.11/site-packages/torch/utils/_contextlib.py:115\u001b[0m, in \u001b[0;36mcontext_decorator.<locals>.decorate_context\u001b[0;34m(*args, **kwargs)\u001b[0m\n\u001b[1;32m    112\u001b[0m \u001b[38;5;129m@functools\u001b[39m\u001b[38;5;241m.\u001b[39mwraps(func)\n\u001b[1;32m    113\u001b[0m \u001b[38;5;28;01mdef\u001b[39;00m \u001b[38;5;21mdecorate_context\u001b[39m(\u001b[38;5;241m*\u001b[39margs, \u001b[38;5;241m*\u001b[39m\u001b[38;5;241m*\u001b[39mkwargs):\n\u001b[1;32m    114\u001b[0m     \u001b[38;5;28;01mwith\u001b[39;00m ctx_factory():\n\u001b[0;32m--> 115\u001b[0m         \u001b[38;5;28;01mreturn\u001b[39;00m \u001b[43mfunc\u001b[49m\u001b[43m(\u001b[49m\u001b[38;5;241;43m*\u001b[39;49m\u001b[43margs\u001b[49m\u001b[43m,\u001b[49m\u001b[43m \u001b[49m\u001b[38;5;241;43m*\u001b[39;49m\u001b[38;5;241;43m*\u001b[39;49m\u001b[43mkwargs\u001b[49m\u001b[43m)\u001b[49m\n",
      "File \u001b[0;32m~/miniconda3/envs/yjenv/lib/python3.11/site-packages/transformers/generation/utils.py:2326\u001b[0m, in \u001b[0;36mGenerationMixin.generate\u001b[0;34m(self, inputs, generation_config, logits_processor, stopping_criteria, prefix_allowed_tokens_fn, synced_gpus, assistant_model, streamer, negative_prompt_ids, negative_prompt_attention_mask, use_model_defaults, **kwargs)\u001b[0m\n\u001b[1;32m   2318\u001b[0m     input_ids, model_kwargs \u001b[38;5;241m=\u001b[39m \u001b[38;5;28mself\u001b[39m\u001b[38;5;241m.\u001b[39m_expand_inputs_for_generation(\n\u001b[1;32m   2319\u001b[0m         input_ids\u001b[38;5;241m=\u001b[39minput_ids,\n\u001b[1;32m   2320\u001b[0m         expand_size\u001b[38;5;241m=\u001b[39mgeneration_config\u001b[38;5;241m.\u001b[39mnum_return_sequences,\n\u001b[1;32m   2321\u001b[0m         is_encoder_decoder\u001b[38;5;241m=\u001b[39m\u001b[38;5;28mself\u001b[39m\u001b[38;5;241m.\u001b[39mconfig\u001b[38;5;241m.\u001b[39mis_encoder_decoder,\n\u001b[1;32m   2322\u001b[0m         \u001b[38;5;241m*\u001b[39m\u001b[38;5;241m*\u001b[39mmodel_kwargs,\n\u001b[1;32m   2323\u001b[0m     )\n\u001b[1;32m   2325\u001b[0m     \u001b[38;5;66;03m# 12. run sample (it degenerates to greedy search when `generation_config.do_sample=False`)\u001b[39;00m\n\u001b[0;32m-> 2326\u001b[0m     result \u001b[38;5;241m=\u001b[39m \u001b[38;5;28;43mself\u001b[39;49m\u001b[38;5;241;43m.\u001b[39;49m\u001b[43m_sample\u001b[49m\u001b[43m(\u001b[49m\n\u001b[1;32m   2327\u001b[0m \u001b[43m        \u001b[49m\u001b[43minput_ids\u001b[49m\u001b[43m,\u001b[49m\n\u001b[1;32m   2328\u001b[0m \u001b[43m        \u001b[49m\u001b[43mlogits_processor\u001b[49m\u001b[38;5;241;43m=\u001b[39;49m\u001b[43mprepared_logits_processor\u001b[49m\u001b[43m,\u001b[49m\n\u001b[1;32m   2329\u001b[0m \u001b[43m        \u001b[49m\u001b[43mstopping_criteria\u001b[49m\u001b[38;5;241;43m=\u001b[39;49m\u001b[43mprepared_stopping_criteria\u001b[49m\u001b[43m,\u001b[49m\n\u001b[1;32m   2330\u001b[0m \u001b[43m        \u001b[49m\u001b[43mgeneration_config\u001b[49m\u001b[38;5;241;43m=\u001b[39;49m\u001b[43mgeneration_config\u001b[49m\u001b[43m,\u001b[49m\n\u001b[1;32m   2331\u001b[0m \u001b[43m        \u001b[49m\u001b[43msynced_gpus\u001b[49m\u001b[38;5;241;43m=\u001b[39;49m\u001b[43msynced_gpus\u001b[49m\u001b[43m,\u001b[49m\n\u001b[1;32m   2332\u001b[0m \u001b[43m        \u001b[49m\u001b[43mstreamer\u001b[49m\u001b[38;5;241;43m=\u001b[39;49m\u001b[43mstreamer\u001b[49m\u001b[43m,\u001b[49m\n\u001b[1;32m   2333\u001b[0m \u001b[43m        \u001b[49m\u001b[38;5;241;43m*\u001b[39;49m\u001b[38;5;241;43m*\u001b[39;49m\u001b[43mmodel_kwargs\u001b[49m\u001b[43m,\u001b[49m\n\u001b[1;32m   2334\u001b[0m \u001b[43m    \u001b[49m\u001b[43m)\u001b[49m\n\u001b[1;32m   2336\u001b[0m \u001b[38;5;28;01melif\u001b[39;00m generation_mode \u001b[38;5;129;01min\u001b[39;00m (GenerationMode\u001b[38;5;241m.\u001b[39mBEAM_SAMPLE, GenerationMode\u001b[38;5;241m.\u001b[39mBEAM_SEARCH):\n\u001b[1;32m   2337\u001b[0m     \u001b[38;5;66;03m# 11. interleave input_ids with `num_beams` additional sequences per batch\u001b[39;00m\n\u001b[1;32m   2338\u001b[0m     input_ids, model_kwargs \u001b[38;5;241m=\u001b[39m \u001b[38;5;28mself\u001b[39m\u001b[38;5;241m.\u001b[39m_expand_inputs_for_generation(\n\u001b[1;32m   2339\u001b[0m         input_ids\u001b[38;5;241m=\u001b[39minput_ids,\n\u001b[1;32m   2340\u001b[0m         expand_size\u001b[38;5;241m=\u001b[39mgeneration_config\u001b[38;5;241m.\u001b[39mnum_beams,\n\u001b[1;32m   2341\u001b[0m         is_encoder_decoder\u001b[38;5;241m=\u001b[39m\u001b[38;5;28mself\u001b[39m\u001b[38;5;241m.\u001b[39mconfig\u001b[38;5;241m.\u001b[39mis_encoder_decoder,\n\u001b[1;32m   2342\u001b[0m         \u001b[38;5;241m*\u001b[39m\u001b[38;5;241m*\u001b[39mmodel_kwargs,\n\u001b[1;32m   2343\u001b[0m     )\n",
      "File \u001b[0;32m~/miniconda3/envs/yjenv/lib/python3.11/site-packages/transformers/generation/utils.py:3289\u001b[0m, in \u001b[0;36mGenerationMixin._sample\u001b[0;34m(self, input_ids, logits_processor, stopping_criteria, generation_config, synced_gpus, streamer, **model_kwargs)\u001b[0m\n\u001b[1;32m   3287\u001b[0m     is_prefill \u001b[38;5;241m=\u001b[39m \u001b[38;5;28;01mFalse\u001b[39;00m\n\u001b[1;32m   3288\u001b[0m \u001b[38;5;28;01melse\u001b[39;00m:\n\u001b[0;32m-> 3289\u001b[0m     outputs \u001b[38;5;241m=\u001b[39m \u001b[43mmodel_forward\u001b[49m\u001b[43m(\u001b[49m\u001b[38;5;241;43m*\u001b[39;49m\u001b[38;5;241;43m*\u001b[39;49m\u001b[43mmodel_inputs\u001b[49m\u001b[43m,\u001b[49m\u001b[43m \u001b[49m\u001b[43mreturn_dict\u001b[49m\u001b[38;5;241;43m=\u001b[39;49m\u001b[38;5;28;43;01mTrue\u001b[39;49;00m\u001b[43m)\u001b[49m\n\u001b[1;32m   3291\u001b[0m \u001b[38;5;66;03m# synced_gpus: don't waste resources running the code we don't need; kwargs must be updated before skipping\u001b[39;00m\n\u001b[1;32m   3292\u001b[0m model_kwargs \u001b[38;5;241m=\u001b[39m \u001b[38;5;28mself\u001b[39m\u001b[38;5;241m.\u001b[39m_update_model_kwargs_for_generation(\n\u001b[1;32m   3293\u001b[0m     outputs,\n\u001b[1;32m   3294\u001b[0m     model_kwargs,\n\u001b[1;32m   3295\u001b[0m     is_encoder_decoder\u001b[38;5;241m=\u001b[39m\u001b[38;5;28mself\u001b[39m\u001b[38;5;241m.\u001b[39mconfig\u001b[38;5;241m.\u001b[39mis_encoder_decoder,\n\u001b[1;32m   3296\u001b[0m )\n",
      "File \u001b[0;32m~/miniconda3/envs/yjenv/lib/python3.11/site-packages/torch/nn/modules/module.py:1532\u001b[0m, in \u001b[0;36mModule._wrapped_call_impl\u001b[0;34m(self, *args, **kwargs)\u001b[0m\n\u001b[1;32m   1530\u001b[0m     \u001b[38;5;28;01mreturn\u001b[39;00m \u001b[38;5;28mself\u001b[39m\u001b[38;5;241m.\u001b[39m_compiled_call_impl(\u001b[38;5;241m*\u001b[39margs, \u001b[38;5;241m*\u001b[39m\u001b[38;5;241m*\u001b[39mkwargs)  \u001b[38;5;66;03m# type: ignore[misc]\u001b[39;00m\n\u001b[1;32m   1531\u001b[0m \u001b[38;5;28;01melse\u001b[39;00m:\n\u001b[0;32m-> 1532\u001b[0m     \u001b[38;5;28;01mreturn\u001b[39;00m \u001b[38;5;28;43mself\u001b[39;49m\u001b[38;5;241;43m.\u001b[39;49m\u001b[43m_call_impl\u001b[49m\u001b[43m(\u001b[49m\u001b[38;5;241;43m*\u001b[39;49m\u001b[43margs\u001b[49m\u001b[43m,\u001b[49m\u001b[43m \u001b[49m\u001b[38;5;241;43m*\u001b[39;49m\u001b[38;5;241;43m*\u001b[39;49m\u001b[43mkwargs\u001b[49m\u001b[43m)\u001b[49m\n",
      "File \u001b[0;32m~/miniconda3/envs/yjenv/lib/python3.11/site-packages/torch/nn/modules/module.py:1541\u001b[0m, in \u001b[0;36mModule._call_impl\u001b[0;34m(self, *args, **kwargs)\u001b[0m\n\u001b[1;32m   1536\u001b[0m \u001b[38;5;66;03m# If we don't have any hooks, we want to skip the rest of the logic in\u001b[39;00m\n\u001b[1;32m   1537\u001b[0m \u001b[38;5;66;03m# this function, and just call forward.\u001b[39;00m\n\u001b[1;32m   1538\u001b[0m \u001b[38;5;28;01mif\u001b[39;00m \u001b[38;5;129;01mnot\u001b[39;00m (\u001b[38;5;28mself\u001b[39m\u001b[38;5;241m.\u001b[39m_backward_hooks \u001b[38;5;129;01mor\u001b[39;00m \u001b[38;5;28mself\u001b[39m\u001b[38;5;241m.\u001b[39m_backward_pre_hooks \u001b[38;5;129;01mor\u001b[39;00m \u001b[38;5;28mself\u001b[39m\u001b[38;5;241m.\u001b[39m_forward_hooks \u001b[38;5;129;01mor\u001b[39;00m \u001b[38;5;28mself\u001b[39m\u001b[38;5;241m.\u001b[39m_forward_pre_hooks\n\u001b[1;32m   1539\u001b[0m         \u001b[38;5;129;01mor\u001b[39;00m _global_backward_pre_hooks \u001b[38;5;129;01mor\u001b[39;00m _global_backward_hooks\n\u001b[1;32m   1540\u001b[0m         \u001b[38;5;129;01mor\u001b[39;00m _global_forward_hooks \u001b[38;5;129;01mor\u001b[39;00m _global_forward_pre_hooks):\n\u001b[0;32m-> 1541\u001b[0m     \u001b[38;5;28;01mreturn\u001b[39;00m \u001b[43mforward_call\u001b[49m\u001b[43m(\u001b[49m\u001b[38;5;241;43m*\u001b[39;49m\u001b[43margs\u001b[49m\u001b[43m,\u001b[49m\u001b[43m \u001b[49m\u001b[38;5;241;43m*\u001b[39;49m\u001b[38;5;241;43m*\u001b[39;49m\u001b[43mkwargs\u001b[49m\u001b[43m)\u001b[49m\n\u001b[1;32m   1543\u001b[0m \u001b[38;5;28;01mtry\u001b[39;00m:\n\u001b[1;32m   1544\u001b[0m     result \u001b[38;5;241m=\u001b[39m \u001b[38;5;28;01mNone\u001b[39;00m\n",
      "File \u001b[0;32m~/miniconda3/envs/yjenv/lib/python3.11/site-packages/accelerate/hooks.py:176\u001b[0m, in \u001b[0;36madd_hook_to_module.<locals>.new_forward\u001b[0;34m(module, *args, **kwargs)\u001b[0m\n\u001b[1;32m    174\u001b[0m         output \u001b[38;5;241m=\u001b[39m module\u001b[38;5;241m.\u001b[39m_old_forward(\u001b[38;5;241m*\u001b[39margs, \u001b[38;5;241m*\u001b[39m\u001b[38;5;241m*\u001b[39mkwargs)\n\u001b[1;32m    175\u001b[0m \u001b[38;5;28;01melse\u001b[39;00m:\n\u001b[0;32m--> 176\u001b[0m     output \u001b[38;5;241m=\u001b[39m \u001b[43mmodule\u001b[49m\u001b[38;5;241;43m.\u001b[39;49m\u001b[43m_old_forward\u001b[49m\u001b[43m(\u001b[49m\u001b[38;5;241;43m*\u001b[39;49m\u001b[43margs\u001b[49m\u001b[43m,\u001b[49m\u001b[43m \u001b[49m\u001b[38;5;241;43m*\u001b[39;49m\u001b[38;5;241;43m*\u001b[39;49m\u001b[43mkwargs\u001b[49m\u001b[43m)\u001b[49m\n\u001b[1;32m    177\u001b[0m \u001b[38;5;28;01mreturn\u001b[39;00m module\u001b[38;5;241m.\u001b[39m_hf_hook\u001b[38;5;241m.\u001b[39mpost_forward(module, output)\n",
      "File \u001b[0;32m~/miniconda3/envs/yjenv/lib/python3.11/site-packages/transformers/models/qwen2_5_vl/modeling_qwen2_5_vl.py:1861\u001b[0m, in \u001b[0;36mQwen2_5_VLForConditionalGeneration.forward\u001b[0;34m(self, input_ids, attention_mask, position_ids, past_key_values, inputs_embeds, labels, use_cache, output_attentions, output_hidden_states, return_dict, pixel_values, pixel_values_videos, image_grid_thw, video_grid_thw, rope_deltas, cache_position, second_per_grid_ts)\u001b[0m\n\u001b[1;32m   1858\u001b[0m         position_ids \u001b[38;5;241m=\u001b[39m position_ids\u001b[38;5;241m.\u001b[39madd(delta)\n\u001b[1;32m   1859\u001b[0m         position_ids \u001b[38;5;241m=\u001b[39m position_ids\u001b[38;5;241m.\u001b[39munsqueeze(\u001b[38;5;241m0\u001b[39m)\u001b[38;5;241m.\u001b[39mexpand(\u001b[38;5;241m3\u001b[39m, \u001b[38;5;241m-\u001b[39m\u001b[38;5;241m1\u001b[39m, \u001b[38;5;241m-\u001b[39m\u001b[38;5;241m1\u001b[39m)\n\u001b[0;32m-> 1861\u001b[0m outputs \u001b[38;5;241m=\u001b[39m \u001b[38;5;28;43mself\u001b[39;49m\u001b[38;5;241;43m.\u001b[39;49m\u001b[43mmodel\u001b[49m\u001b[43m(\u001b[49m\n\u001b[1;32m   1862\u001b[0m \u001b[43m    \u001b[49m\u001b[43minput_ids\u001b[49m\u001b[38;5;241;43m=\u001b[39;49m\u001b[38;5;28;43;01mNone\u001b[39;49;00m\u001b[43m,\u001b[49m\n\u001b[1;32m   1863\u001b[0m \u001b[43m    \u001b[49m\u001b[43mposition_ids\u001b[49m\u001b[38;5;241;43m=\u001b[39;49m\u001b[43mposition_ids\u001b[49m\u001b[43m,\u001b[49m\n\u001b[1;32m   1864\u001b[0m \u001b[43m    \u001b[49m\u001b[43mattention_mask\u001b[49m\u001b[38;5;241;43m=\u001b[39;49m\u001b[43mattention_mask\u001b[49m\u001b[43m,\u001b[49m\n\u001b[1;32m   1865\u001b[0m \u001b[43m    \u001b[49m\u001b[43mpast_key_values\u001b[49m\u001b[38;5;241;43m=\u001b[39;49m\u001b[43mpast_key_values\u001b[49m\u001b[43m,\u001b[49m\n\u001b[1;32m   1866\u001b[0m \u001b[43m    \u001b[49m\u001b[43minputs_embeds\u001b[49m\u001b[38;5;241;43m=\u001b[39;49m\u001b[43minputs_embeds\u001b[49m\u001b[43m,\u001b[49m\n\u001b[1;32m   1867\u001b[0m \u001b[43m    \u001b[49m\u001b[43muse_cache\u001b[49m\u001b[38;5;241;43m=\u001b[39;49m\u001b[43muse_cache\u001b[49m\u001b[43m,\u001b[49m\n\u001b[1;32m   1868\u001b[0m \u001b[43m    \u001b[49m\u001b[43moutput_attentions\u001b[49m\u001b[38;5;241;43m=\u001b[39;49m\u001b[43moutput_attentions\u001b[49m\u001b[43m,\u001b[49m\n\u001b[1;32m   1869\u001b[0m \u001b[43m    \u001b[49m\u001b[43moutput_hidden_states\u001b[49m\u001b[38;5;241;43m=\u001b[39;49m\u001b[43moutput_hidden_states\u001b[49m\u001b[43m,\u001b[49m\n\u001b[1;32m   1870\u001b[0m \u001b[43m    \u001b[49m\u001b[43mreturn_dict\u001b[49m\u001b[38;5;241;43m=\u001b[39;49m\u001b[43mreturn_dict\u001b[49m\u001b[43m,\u001b[49m\n\u001b[1;32m   1871\u001b[0m \u001b[43m    \u001b[49m\u001b[43mcache_position\u001b[49m\u001b[38;5;241;43m=\u001b[39;49m\u001b[43mcache_position\u001b[49m\u001b[43m,\u001b[49m\n\u001b[1;32m   1872\u001b[0m \u001b[43m\u001b[49m\u001b[43m)\u001b[49m\n\u001b[1;32m   1874\u001b[0m hidden_states \u001b[38;5;241m=\u001b[39m outputs[\u001b[38;5;241m0\u001b[39m]\n\u001b[1;32m   1875\u001b[0m logits \u001b[38;5;241m=\u001b[39m \u001b[38;5;28mself\u001b[39m\u001b[38;5;241m.\u001b[39mlm_head(hidden_states)\n",
      "File \u001b[0;32m~/miniconda3/envs/yjenv/lib/python3.11/site-packages/torch/nn/modules/module.py:1532\u001b[0m, in \u001b[0;36mModule._wrapped_call_impl\u001b[0;34m(self, *args, **kwargs)\u001b[0m\n\u001b[1;32m   1530\u001b[0m     \u001b[38;5;28;01mreturn\u001b[39;00m \u001b[38;5;28mself\u001b[39m\u001b[38;5;241m.\u001b[39m_compiled_call_impl(\u001b[38;5;241m*\u001b[39margs, \u001b[38;5;241m*\u001b[39m\u001b[38;5;241m*\u001b[39mkwargs)  \u001b[38;5;66;03m# type: ignore[misc]\u001b[39;00m\n\u001b[1;32m   1531\u001b[0m \u001b[38;5;28;01melse\u001b[39;00m:\n\u001b[0;32m-> 1532\u001b[0m     \u001b[38;5;28;01mreturn\u001b[39;00m \u001b[38;5;28;43mself\u001b[39;49m\u001b[38;5;241;43m.\u001b[39;49m\u001b[43m_call_impl\u001b[49m\u001b[43m(\u001b[49m\u001b[38;5;241;43m*\u001b[39;49m\u001b[43margs\u001b[49m\u001b[43m,\u001b[49m\u001b[43m \u001b[49m\u001b[38;5;241;43m*\u001b[39;49m\u001b[38;5;241;43m*\u001b[39;49m\u001b[43mkwargs\u001b[49m\u001b[43m)\u001b[49m\n",
      "File \u001b[0;32m~/miniconda3/envs/yjenv/lib/python3.11/site-packages/torch/nn/modules/module.py:1541\u001b[0m, in \u001b[0;36mModule._call_impl\u001b[0;34m(self, *args, **kwargs)\u001b[0m\n\u001b[1;32m   1536\u001b[0m \u001b[38;5;66;03m# If we don't have any hooks, we want to skip the rest of the logic in\u001b[39;00m\n\u001b[1;32m   1537\u001b[0m \u001b[38;5;66;03m# this function, and just call forward.\u001b[39;00m\n\u001b[1;32m   1538\u001b[0m \u001b[38;5;28;01mif\u001b[39;00m \u001b[38;5;129;01mnot\u001b[39;00m (\u001b[38;5;28mself\u001b[39m\u001b[38;5;241m.\u001b[39m_backward_hooks \u001b[38;5;129;01mor\u001b[39;00m \u001b[38;5;28mself\u001b[39m\u001b[38;5;241m.\u001b[39m_backward_pre_hooks \u001b[38;5;129;01mor\u001b[39;00m \u001b[38;5;28mself\u001b[39m\u001b[38;5;241m.\u001b[39m_forward_hooks \u001b[38;5;129;01mor\u001b[39;00m \u001b[38;5;28mself\u001b[39m\u001b[38;5;241m.\u001b[39m_forward_pre_hooks\n\u001b[1;32m   1539\u001b[0m         \u001b[38;5;129;01mor\u001b[39;00m _global_backward_pre_hooks \u001b[38;5;129;01mor\u001b[39;00m _global_backward_hooks\n\u001b[1;32m   1540\u001b[0m         \u001b[38;5;129;01mor\u001b[39;00m _global_forward_hooks \u001b[38;5;129;01mor\u001b[39;00m _global_forward_pre_hooks):\n\u001b[0;32m-> 1541\u001b[0m     \u001b[38;5;28;01mreturn\u001b[39;00m \u001b[43mforward_call\u001b[49m\u001b[43m(\u001b[49m\u001b[38;5;241;43m*\u001b[39;49m\u001b[43margs\u001b[49m\u001b[43m,\u001b[49m\u001b[43m \u001b[49m\u001b[38;5;241;43m*\u001b[39;49m\u001b[38;5;241;43m*\u001b[39;49m\u001b[43mkwargs\u001b[49m\u001b[43m)\u001b[49m\n\u001b[1;32m   1543\u001b[0m \u001b[38;5;28;01mtry\u001b[39;00m:\n\u001b[1;32m   1544\u001b[0m     result \u001b[38;5;241m=\u001b[39m \u001b[38;5;28;01mNone\u001b[39;00m\n",
      "File \u001b[0;32m~/miniconda3/envs/yjenv/lib/python3.11/site-packages/transformers/models/qwen2_5_vl/modeling_qwen2_5_vl.py:1207\u001b[0m, in \u001b[0;36mQwen2_5_VLModel.forward\u001b[0;34m(self, input_ids, attention_mask, position_ids, past_key_values, inputs_embeds, use_cache, output_attentions, output_hidden_states, return_dict, cache_position)\u001b[0m\n\u001b[1;32m   1195\u001b[0m     layer_outputs \u001b[38;5;241m=\u001b[39m \u001b[38;5;28mself\u001b[39m\u001b[38;5;241m.\u001b[39m_gradient_checkpointing_func(\n\u001b[1;32m   1196\u001b[0m         decoder_layer\u001b[38;5;241m.\u001b[39m\u001b[38;5;21m__call__\u001b[39m,\n\u001b[1;32m   1197\u001b[0m         hidden_states,\n\u001b[0;32m   (...)\u001b[0m\n\u001b[1;32m   1204\u001b[0m         position_embeddings,\n\u001b[1;32m   1205\u001b[0m     )\n\u001b[1;32m   1206\u001b[0m \u001b[38;5;28;01melse\u001b[39;00m:\n\u001b[0;32m-> 1207\u001b[0m     layer_outputs \u001b[38;5;241m=\u001b[39m \u001b[43mdecoder_layer\u001b[49m\u001b[43m(\u001b[49m\n\u001b[1;32m   1208\u001b[0m \u001b[43m        \u001b[49m\u001b[43mhidden_states\u001b[49m\u001b[43m,\u001b[49m\n\u001b[1;32m   1209\u001b[0m \u001b[43m        \u001b[49m\u001b[43mattention_mask\u001b[49m\u001b[38;5;241;43m=\u001b[39;49m\u001b[43mcausal_mask\u001b[49m\u001b[43m,\u001b[49m\n\u001b[1;32m   1210\u001b[0m \u001b[43m        \u001b[49m\u001b[43mposition_ids\u001b[49m\u001b[38;5;241;43m=\u001b[39;49m\u001b[43mposition_ids\u001b[49m\u001b[43m,\u001b[49m\n\u001b[1;32m   1211\u001b[0m \u001b[43m        \u001b[49m\u001b[43mpast_key_value\u001b[49m\u001b[38;5;241;43m=\u001b[39;49m\u001b[43mpast_key_values\u001b[49m\u001b[43m,\u001b[49m\n\u001b[1;32m   1212\u001b[0m \u001b[43m        \u001b[49m\u001b[43moutput_attentions\u001b[49m\u001b[38;5;241;43m=\u001b[39;49m\u001b[43moutput_attentions\u001b[49m\u001b[43m,\u001b[49m\n\u001b[1;32m   1213\u001b[0m \u001b[43m        \u001b[49m\u001b[43muse_cache\u001b[49m\u001b[38;5;241;43m=\u001b[39;49m\u001b[43muse_cache\u001b[49m\u001b[43m,\u001b[49m\n\u001b[1;32m   1214\u001b[0m \u001b[43m        \u001b[49m\u001b[43mcache_position\u001b[49m\u001b[38;5;241;43m=\u001b[39;49m\u001b[43mcache_position\u001b[49m\u001b[43m,\u001b[49m\n\u001b[1;32m   1215\u001b[0m \u001b[43m        \u001b[49m\u001b[43mposition_embeddings\u001b[49m\u001b[38;5;241;43m=\u001b[39;49m\u001b[43mposition_embeddings\u001b[49m\u001b[43m,\u001b[49m\n\u001b[1;32m   1216\u001b[0m \u001b[43m    \u001b[49m\u001b[43m)\u001b[49m\n\u001b[1;32m   1218\u001b[0m hidden_states \u001b[38;5;241m=\u001b[39m layer_outputs[\u001b[38;5;241m0\u001b[39m]\n\u001b[1;32m   1220\u001b[0m \u001b[38;5;28;01mif\u001b[39;00m use_cache:\n",
      "File \u001b[0;32m~/miniconda3/envs/yjenv/lib/python3.11/site-packages/torch/nn/modules/module.py:1532\u001b[0m, in \u001b[0;36mModule._wrapped_call_impl\u001b[0;34m(self, *args, **kwargs)\u001b[0m\n\u001b[1;32m   1530\u001b[0m     \u001b[38;5;28;01mreturn\u001b[39;00m \u001b[38;5;28mself\u001b[39m\u001b[38;5;241m.\u001b[39m_compiled_call_impl(\u001b[38;5;241m*\u001b[39margs, \u001b[38;5;241m*\u001b[39m\u001b[38;5;241m*\u001b[39mkwargs)  \u001b[38;5;66;03m# type: ignore[misc]\u001b[39;00m\n\u001b[1;32m   1531\u001b[0m \u001b[38;5;28;01melse\u001b[39;00m:\n\u001b[0;32m-> 1532\u001b[0m     \u001b[38;5;28;01mreturn\u001b[39;00m \u001b[38;5;28;43mself\u001b[39;49m\u001b[38;5;241;43m.\u001b[39;49m\u001b[43m_call_impl\u001b[49m\u001b[43m(\u001b[49m\u001b[38;5;241;43m*\u001b[39;49m\u001b[43margs\u001b[49m\u001b[43m,\u001b[49m\u001b[43m \u001b[49m\u001b[38;5;241;43m*\u001b[39;49m\u001b[38;5;241;43m*\u001b[39;49m\u001b[43mkwargs\u001b[49m\u001b[43m)\u001b[49m\n",
      "File \u001b[0;32m~/miniconda3/envs/yjenv/lib/python3.11/site-packages/torch/nn/modules/module.py:1541\u001b[0m, in \u001b[0;36mModule._call_impl\u001b[0;34m(self, *args, **kwargs)\u001b[0m\n\u001b[1;32m   1536\u001b[0m \u001b[38;5;66;03m# If we don't have any hooks, we want to skip the rest of the logic in\u001b[39;00m\n\u001b[1;32m   1537\u001b[0m \u001b[38;5;66;03m# this function, and just call forward.\u001b[39;00m\n\u001b[1;32m   1538\u001b[0m \u001b[38;5;28;01mif\u001b[39;00m \u001b[38;5;129;01mnot\u001b[39;00m (\u001b[38;5;28mself\u001b[39m\u001b[38;5;241m.\u001b[39m_backward_hooks \u001b[38;5;129;01mor\u001b[39;00m \u001b[38;5;28mself\u001b[39m\u001b[38;5;241m.\u001b[39m_backward_pre_hooks \u001b[38;5;129;01mor\u001b[39;00m \u001b[38;5;28mself\u001b[39m\u001b[38;5;241m.\u001b[39m_forward_hooks \u001b[38;5;129;01mor\u001b[39;00m \u001b[38;5;28mself\u001b[39m\u001b[38;5;241m.\u001b[39m_forward_pre_hooks\n\u001b[1;32m   1539\u001b[0m         \u001b[38;5;129;01mor\u001b[39;00m _global_backward_pre_hooks \u001b[38;5;129;01mor\u001b[39;00m _global_backward_hooks\n\u001b[1;32m   1540\u001b[0m         \u001b[38;5;129;01mor\u001b[39;00m _global_forward_hooks \u001b[38;5;129;01mor\u001b[39;00m _global_forward_pre_hooks):\n\u001b[0;32m-> 1541\u001b[0m     \u001b[38;5;28;01mreturn\u001b[39;00m \u001b[43mforward_call\u001b[49m\u001b[43m(\u001b[49m\u001b[38;5;241;43m*\u001b[39;49m\u001b[43margs\u001b[49m\u001b[43m,\u001b[49m\u001b[43m \u001b[49m\u001b[38;5;241;43m*\u001b[39;49m\u001b[38;5;241;43m*\u001b[39;49m\u001b[43mkwargs\u001b[49m\u001b[43m)\u001b[49m\n\u001b[1;32m   1543\u001b[0m \u001b[38;5;28;01mtry\u001b[39;00m:\n\u001b[1;32m   1544\u001b[0m     result \u001b[38;5;241m=\u001b[39m \u001b[38;5;28;01mNone\u001b[39;00m\n",
      "File \u001b[0;32m~/miniconda3/envs/yjenv/lib/python3.11/site-packages/accelerate/hooks.py:176\u001b[0m, in \u001b[0;36madd_hook_to_module.<locals>.new_forward\u001b[0;34m(module, *args, **kwargs)\u001b[0m\n\u001b[1;32m    174\u001b[0m         output \u001b[38;5;241m=\u001b[39m module\u001b[38;5;241m.\u001b[39m_old_forward(\u001b[38;5;241m*\u001b[39margs, \u001b[38;5;241m*\u001b[39m\u001b[38;5;241m*\u001b[39mkwargs)\n\u001b[1;32m    175\u001b[0m \u001b[38;5;28;01melse\u001b[39;00m:\n\u001b[0;32m--> 176\u001b[0m     output \u001b[38;5;241m=\u001b[39m \u001b[43mmodule\u001b[49m\u001b[38;5;241;43m.\u001b[39;49m\u001b[43m_old_forward\u001b[49m\u001b[43m(\u001b[49m\u001b[38;5;241;43m*\u001b[39;49m\u001b[43margs\u001b[49m\u001b[43m,\u001b[49m\u001b[43m \u001b[49m\u001b[38;5;241;43m*\u001b[39;49m\u001b[38;5;241;43m*\u001b[39;49m\u001b[43mkwargs\u001b[49m\u001b[43m)\u001b[49m\n\u001b[1;32m    177\u001b[0m \u001b[38;5;28;01mreturn\u001b[39;00m module\u001b[38;5;241m.\u001b[39m_hf_hook\u001b[38;5;241m.\u001b[39mpost_forward(module, output)\n",
      "File \u001b[0;32m~/miniconda3/envs/yjenv/lib/python3.11/site-packages/transformers/models/qwen2_5_vl/modeling_qwen2_5_vl.py:1084\u001b[0m, in \u001b[0;36mQwen2_5_VLDecoderLayer.forward\u001b[0;34m(self, hidden_states, attention_mask, position_ids, past_key_value, output_attentions, use_cache, cache_position, position_embeddings, **kwargs)\u001b[0m\n\u001b[1;32m   1082\u001b[0m residual \u001b[38;5;241m=\u001b[39m hidden_states\n\u001b[1;32m   1083\u001b[0m hidden_states \u001b[38;5;241m=\u001b[39m \u001b[38;5;28mself\u001b[39m\u001b[38;5;241m.\u001b[39mpost_attention_layernorm(hidden_states)\n\u001b[0;32m-> 1084\u001b[0m hidden_states \u001b[38;5;241m=\u001b[39m \u001b[38;5;28;43mself\u001b[39;49m\u001b[38;5;241;43m.\u001b[39;49m\u001b[43mmlp\u001b[49m\u001b[43m(\u001b[49m\u001b[43mhidden_states\u001b[49m\u001b[43m)\u001b[49m\n\u001b[1;32m   1085\u001b[0m hidden_states \u001b[38;5;241m=\u001b[39m residual \u001b[38;5;241m+\u001b[39m hidden_states\n\u001b[1;32m   1087\u001b[0m outputs \u001b[38;5;241m=\u001b[39m (hidden_states,)\n",
      "File \u001b[0;32m~/miniconda3/envs/yjenv/lib/python3.11/site-packages/torch/nn/modules/module.py:1532\u001b[0m, in \u001b[0;36mModule._wrapped_call_impl\u001b[0;34m(self, *args, **kwargs)\u001b[0m\n\u001b[1;32m   1530\u001b[0m     \u001b[38;5;28;01mreturn\u001b[39;00m \u001b[38;5;28mself\u001b[39m\u001b[38;5;241m.\u001b[39m_compiled_call_impl(\u001b[38;5;241m*\u001b[39margs, \u001b[38;5;241m*\u001b[39m\u001b[38;5;241m*\u001b[39mkwargs)  \u001b[38;5;66;03m# type: ignore[misc]\u001b[39;00m\n\u001b[1;32m   1531\u001b[0m \u001b[38;5;28;01melse\u001b[39;00m:\n\u001b[0;32m-> 1532\u001b[0m     \u001b[38;5;28;01mreturn\u001b[39;00m \u001b[38;5;28;43mself\u001b[39;49m\u001b[38;5;241;43m.\u001b[39;49m\u001b[43m_call_impl\u001b[49m\u001b[43m(\u001b[49m\u001b[38;5;241;43m*\u001b[39;49m\u001b[43margs\u001b[49m\u001b[43m,\u001b[49m\u001b[43m \u001b[49m\u001b[38;5;241;43m*\u001b[39;49m\u001b[38;5;241;43m*\u001b[39;49m\u001b[43mkwargs\u001b[49m\u001b[43m)\u001b[49m\n",
      "File \u001b[0;32m~/miniconda3/envs/yjenv/lib/python3.11/site-packages/torch/nn/modules/module.py:1541\u001b[0m, in \u001b[0;36mModule._call_impl\u001b[0;34m(self, *args, **kwargs)\u001b[0m\n\u001b[1;32m   1536\u001b[0m \u001b[38;5;66;03m# If we don't have any hooks, we want to skip the rest of the logic in\u001b[39;00m\n\u001b[1;32m   1537\u001b[0m \u001b[38;5;66;03m# this function, and just call forward.\u001b[39;00m\n\u001b[1;32m   1538\u001b[0m \u001b[38;5;28;01mif\u001b[39;00m \u001b[38;5;129;01mnot\u001b[39;00m (\u001b[38;5;28mself\u001b[39m\u001b[38;5;241m.\u001b[39m_backward_hooks \u001b[38;5;129;01mor\u001b[39;00m \u001b[38;5;28mself\u001b[39m\u001b[38;5;241m.\u001b[39m_backward_pre_hooks \u001b[38;5;129;01mor\u001b[39;00m \u001b[38;5;28mself\u001b[39m\u001b[38;5;241m.\u001b[39m_forward_hooks \u001b[38;5;129;01mor\u001b[39;00m \u001b[38;5;28mself\u001b[39m\u001b[38;5;241m.\u001b[39m_forward_pre_hooks\n\u001b[1;32m   1539\u001b[0m         \u001b[38;5;129;01mor\u001b[39;00m _global_backward_pre_hooks \u001b[38;5;129;01mor\u001b[39;00m _global_backward_hooks\n\u001b[1;32m   1540\u001b[0m         \u001b[38;5;129;01mor\u001b[39;00m _global_forward_hooks \u001b[38;5;129;01mor\u001b[39;00m _global_forward_pre_hooks):\n\u001b[0;32m-> 1541\u001b[0m     \u001b[38;5;28;01mreturn\u001b[39;00m \u001b[43mforward_call\u001b[49m\u001b[43m(\u001b[49m\u001b[38;5;241;43m*\u001b[39;49m\u001b[43margs\u001b[49m\u001b[43m,\u001b[49m\u001b[43m \u001b[49m\u001b[38;5;241;43m*\u001b[39;49m\u001b[38;5;241;43m*\u001b[39;49m\u001b[43mkwargs\u001b[49m\u001b[43m)\u001b[49m\n\u001b[1;32m   1543\u001b[0m \u001b[38;5;28;01mtry\u001b[39;00m:\n\u001b[1;32m   1544\u001b[0m     result \u001b[38;5;241m=\u001b[39m \u001b[38;5;28;01mNone\u001b[39;00m\n",
      "File \u001b[0;32m~/miniconda3/envs/yjenv/lib/python3.11/site-packages/accelerate/hooks.py:176\u001b[0m, in \u001b[0;36madd_hook_to_module.<locals>.new_forward\u001b[0;34m(module, *args, **kwargs)\u001b[0m\n\u001b[1;32m    174\u001b[0m         output \u001b[38;5;241m=\u001b[39m module\u001b[38;5;241m.\u001b[39m_old_forward(\u001b[38;5;241m*\u001b[39margs, \u001b[38;5;241m*\u001b[39m\u001b[38;5;241m*\u001b[39mkwargs)\n\u001b[1;32m    175\u001b[0m \u001b[38;5;28;01melse\u001b[39;00m:\n\u001b[0;32m--> 176\u001b[0m     output \u001b[38;5;241m=\u001b[39m \u001b[43mmodule\u001b[49m\u001b[38;5;241;43m.\u001b[39;49m\u001b[43m_old_forward\u001b[49m\u001b[43m(\u001b[49m\u001b[38;5;241;43m*\u001b[39;49m\u001b[43margs\u001b[49m\u001b[43m,\u001b[49m\u001b[43m \u001b[49m\u001b[38;5;241;43m*\u001b[39;49m\u001b[38;5;241;43m*\u001b[39;49m\u001b[43mkwargs\u001b[49m\u001b[43m)\u001b[49m\n\u001b[1;32m    177\u001b[0m \u001b[38;5;28;01mreturn\u001b[39;00m module\u001b[38;5;241m.\u001b[39m_hf_hook\u001b[38;5;241m.\u001b[39mpost_forward(module, output)\n",
      "File \u001b[0;32m~/miniconda3/envs/yjenv/lib/python3.11/site-packages/transformers/models/qwen2_5_vl/modeling_qwen2_5_vl.py:639\u001b[0m, in \u001b[0;36mQwen2MLP.forward\u001b[0;34m(self, x)\u001b[0m\n\u001b[1;32m    638\u001b[0m \u001b[38;5;28;01mdef\u001b[39;00m \u001b[38;5;21mforward\u001b[39m(\u001b[38;5;28mself\u001b[39m, x):\n\u001b[0;32m--> 639\u001b[0m     down_proj \u001b[38;5;241m=\u001b[39m \u001b[38;5;28mself\u001b[39m\u001b[38;5;241m.\u001b[39mdown_proj(\u001b[38;5;28mself\u001b[39m\u001b[38;5;241m.\u001b[39mact_fn(\u001b[38;5;28;43mself\u001b[39;49m\u001b[38;5;241;43m.\u001b[39;49m\u001b[43mgate_proj\u001b[49m\u001b[43m(\u001b[49m\u001b[43mx\u001b[49m\u001b[43m)\u001b[49m) \u001b[38;5;241m*\u001b[39m \u001b[38;5;28mself\u001b[39m\u001b[38;5;241m.\u001b[39mup_proj(x))\n\u001b[1;32m    640\u001b[0m     \u001b[38;5;28;01mreturn\u001b[39;00m down_proj\n",
      "File \u001b[0;32m~/miniconda3/envs/yjenv/lib/python3.11/site-packages/torch/nn/modules/module.py:1532\u001b[0m, in \u001b[0;36mModule._wrapped_call_impl\u001b[0;34m(self, *args, **kwargs)\u001b[0m\n\u001b[1;32m   1530\u001b[0m     \u001b[38;5;28;01mreturn\u001b[39;00m \u001b[38;5;28mself\u001b[39m\u001b[38;5;241m.\u001b[39m_compiled_call_impl(\u001b[38;5;241m*\u001b[39margs, \u001b[38;5;241m*\u001b[39m\u001b[38;5;241m*\u001b[39mkwargs)  \u001b[38;5;66;03m# type: ignore[misc]\u001b[39;00m\n\u001b[1;32m   1531\u001b[0m \u001b[38;5;28;01melse\u001b[39;00m:\n\u001b[0;32m-> 1532\u001b[0m     \u001b[38;5;28;01mreturn\u001b[39;00m \u001b[38;5;28;43mself\u001b[39;49m\u001b[38;5;241;43m.\u001b[39;49m\u001b[43m_call_impl\u001b[49m\u001b[43m(\u001b[49m\u001b[38;5;241;43m*\u001b[39;49m\u001b[43margs\u001b[49m\u001b[43m,\u001b[49m\u001b[43m \u001b[49m\u001b[38;5;241;43m*\u001b[39;49m\u001b[38;5;241;43m*\u001b[39;49m\u001b[43mkwargs\u001b[49m\u001b[43m)\u001b[49m\n",
      "File \u001b[0;32m~/miniconda3/envs/yjenv/lib/python3.11/site-packages/torch/nn/modules/module.py:1541\u001b[0m, in \u001b[0;36mModule._call_impl\u001b[0;34m(self, *args, **kwargs)\u001b[0m\n\u001b[1;32m   1536\u001b[0m \u001b[38;5;66;03m# If we don't have any hooks, we want to skip the rest of the logic in\u001b[39;00m\n\u001b[1;32m   1537\u001b[0m \u001b[38;5;66;03m# this function, and just call forward.\u001b[39;00m\n\u001b[1;32m   1538\u001b[0m \u001b[38;5;28;01mif\u001b[39;00m \u001b[38;5;129;01mnot\u001b[39;00m (\u001b[38;5;28mself\u001b[39m\u001b[38;5;241m.\u001b[39m_backward_hooks \u001b[38;5;129;01mor\u001b[39;00m \u001b[38;5;28mself\u001b[39m\u001b[38;5;241m.\u001b[39m_backward_pre_hooks \u001b[38;5;129;01mor\u001b[39;00m \u001b[38;5;28mself\u001b[39m\u001b[38;5;241m.\u001b[39m_forward_hooks \u001b[38;5;129;01mor\u001b[39;00m \u001b[38;5;28mself\u001b[39m\u001b[38;5;241m.\u001b[39m_forward_pre_hooks\n\u001b[1;32m   1539\u001b[0m         \u001b[38;5;129;01mor\u001b[39;00m _global_backward_pre_hooks \u001b[38;5;129;01mor\u001b[39;00m _global_backward_hooks\n\u001b[1;32m   1540\u001b[0m         \u001b[38;5;129;01mor\u001b[39;00m _global_forward_hooks \u001b[38;5;129;01mor\u001b[39;00m _global_forward_pre_hooks):\n\u001b[0;32m-> 1541\u001b[0m     \u001b[38;5;28;01mreturn\u001b[39;00m \u001b[43mforward_call\u001b[49m\u001b[43m(\u001b[49m\u001b[38;5;241;43m*\u001b[39;49m\u001b[43margs\u001b[49m\u001b[43m,\u001b[49m\u001b[43m \u001b[49m\u001b[38;5;241;43m*\u001b[39;49m\u001b[38;5;241;43m*\u001b[39;49m\u001b[43mkwargs\u001b[49m\u001b[43m)\u001b[49m\n\u001b[1;32m   1543\u001b[0m \u001b[38;5;28;01mtry\u001b[39;00m:\n\u001b[1;32m   1544\u001b[0m     result \u001b[38;5;241m=\u001b[39m \u001b[38;5;28;01mNone\u001b[39;00m\n",
      "File \u001b[0;32m~/miniconda3/envs/yjenv/lib/python3.11/site-packages/accelerate/hooks.py:171\u001b[0m, in \u001b[0;36madd_hook_to_module.<locals>.new_forward\u001b[0;34m(module, *args, **kwargs)\u001b[0m\n\u001b[1;32m    170\u001b[0m \u001b[38;5;28;01mdef\u001b[39;00m \u001b[38;5;21mnew_forward\u001b[39m(module, \u001b[38;5;241m*\u001b[39margs, \u001b[38;5;241m*\u001b[39m\u001b[38;5;241m*\u001b[39mkwargs):\n\u001b[0;32m--> 171\u001b[0m     args, kwargs \u001b[38;5;241m=\u001b[39m \u001b[43mmodule\u001b[49m\u001b[38;5;241;43m.\u001b[39;49m\u001b[43m_hf_hook\u001b[49m\u001b[38;5;241;43m.\u001b[39;49m\u001b[43mpre_forward\u001b[49m\u001b[43m(\u001b[49m\u001b[43mmodule\u001b[49m\u001b[43m,\u001b[49m\u001b[43m \u001b[49m\u001b[38;5;241;43m*\u001b[39;49m\u001b[43margs\u001b[49m\u001b[43m,\u001b[49m\u001b[43m \u001b[49m\u001b[38;5;241;43m*\u001b[39;49m\u001b[38;5;241;43m*\u001b[39;49m\u001b[43mkwargs\u001b[49m\u001b[43m)\u001b[49m\n\u001b[1;32m    172\u001b[0m     \u001b[38;5;28;01mif\u001b[39;00m module\u001b[38;5;241m.\u001b[39m_hf_hook\u001b[38;5;241m.\u001b[39mno_grad:\n\u001b[1;32m    173\u001b[0m         \u001b[38;5;28;01mwith\u001b[39;00m torch\u001b[38;5;241m.\u001b[39mno_grad():\n",
      "File \u001b[0;32m~/miniconda3/envs/yjenv/lib/python3.11/site-packages/accelerate/hooks.py:361\u001b[0m, in \u001b[0;36mAlignDevicesHook.pre_forward\u001b[0;34m(self, module, *args, **kwargs)\u001b[0m\n\u001b[1;32m    353\u001b[0m         \u001b[38;5;28;01mif\u001b[39;00m (\n\u001b[1;32m    354\u001b[0m             value \u001b[38;5;129;01mis\u001b[39;00m \u001b[38;5;129;01mnot\u001b[39;00m \u001b[38;5;28;01mNone\u001b[39;00m\n\u001b[1;32m    355\u001b[0m             \u001b[38;5;129;01mand\u001b[39;00m \u001b[38;5;28mself\u001b[39m\u001b[38;5;241m.\u001b[39mtied_params_map \u001b[38;5;129;01mis\u001b[39;00m \u001b[38;5;129;01mnot\u001b[39;00m \u001b[38;5;28;01mNone\u001b[39;00m\n\u001b[1;32m    356\u001b[0m             \u001b[38;5;129;01mand\u001b[39;00m value\u001b[38;5;241m.\u001b[39mdata_ptr() \u001b[38;5;129;01min\u001b[39;00m \u001b[38;5;28mself\u001b[39m\u001b[38;5;241m.\u001b[39mtied_params_map\n\u001b[1;32m    357\u001b[0m             \u001b[38;5;129;01mand\u001b[39;00m \u001b[38;5;28mself\u001b[39m\u001b[38;5;241m.\u001b[39mexecution_device \u001b[38;5;129;01mnot\u001b[39;00m \u001b[38;5;129;01min\u001b[39;00m \u001b[38;5;28mself\u001b[39m\u001b[38;5;241m.\u001b[39mtied_params_map[value\u001b[38;5;241m.\u001b[39mdata_ptr()]\n\u001b[1;32m    358\u001b[0m         ):\n\u001b[1;32m    359\u001b[0m             \u001b[38;5;28mself\u001b[39m\u001b[38;5;241m.\u001b[39mtied_pointers_to_remove\u001b[38;5;241m.\u001b[39madd((value\u001b[38;5;241m.\u001b[39mdata_ptr(), \u001b[38;5;28mself\u001b[39m\u001b[38;5;241m.\u001b[39mexecution_device))\n\u001b[0;32m--> 361\u001b[0m         \u001b[43mset_module_tensor_to_device\u001b[49m\u001b[43m(\u001b[49m\n\u001b[1;32m    362\u001b[0m \u001b[43m            \u001b[49m\u001b[43mmodule\u001b[49m\u001b[43m,\u001b[49m\n\u001b[1;32m    363\u001b[0m \u001b[43m            \u001b[49m\u001b[43mname\u001b[49m\u001b[43m,\u001b[49m\n\u001b[1;32m    364\u001b[0m \u001b[43m            \u001b[49m\u001b[38;5;28;43mself\u001b[39;49m\u001b[38;5;241;43m.\u001b[39;49m\u001b[43mexecution_device\u001b[49m\u001b[43m,\u001b[49m\n\u001b[1;32m    365\u001b[0m \u001b[43m            \u001b[49m\u001b[43mvalue\u001b[49m\u001b[38;5;241;43m=\u001b[39;49m\u001b[43mvalue\u001b[49m\u001b[43m,\u001b[49m\n\u001b[1;32m    366\u001b[0m \u001b[43m            \u001b[49m\u001b[43mfp16_statistics\u001b[49m\u001b[38;5;241;43m=\u001b[39;49m\u001b[43mfp16_statistics\u001b[49m\u001b[43m,\u001b[49m\n\u001b[1;32m    367\u001b[0m \u001b[43m            \u001b[49m\u001b[43mtied_params_map\u001b[49m\u001b[38;5;241;43m=\u001b[39;49m\u001b[38;5;28;43mself\u001b[39;49m\u001b[38;5;241;43m.\u001b[39;49m\u001b[43mtied_params_map\u001b[49m\u001b[43m,\u001b[49m\n\u001b[1;32m    368\u001b[0m \u001b[43m        \u001b[49m\u001b[43m)\u001b[49m\n\u001b[1;32m    370\u001b[0m \u001b[38;5;28;01mreturn\u001b[39;00m send_to_device(args, \u001b[38;5;28mself\u001b[39m\u001b[38;5;241m.\u001b[39mexecution_device), send_to_device(\n\u001b[1;32m    371\u001b[0m     kwargs, \u001b[38;5;28mself\u001b[39m\u001b[38;5;241m.\u001b[39mexecution_device, skip_keys\u001b[38;5;241m=\u001b[39m\u001b[38;5;28mself\u001b[39m\u001b[38;5;241m.\u001b[39mskip_keys\n\u001b[1;32m    372\u001b[0m )\n",
      "File \u001b[0;32m~/miniconda3/envs/yjenv/lib/python3.11/site-packages/accelerate/utils/modeling.py:330\u001b[0m, in \u001b[0;36mset_module_tensor_to_device\u001b[0;34m(module, tensor_name, device, value, dtype, fp16_statistics, tied_params_map)\u001b[0m\n\u001b[1;32m    328\u001b[0m             module\u001b[38;5;241m.\u001b[39m_parameters[tensor_name] \u001b[38;5;241m=\u001b[39m param_cls(new_value, requires_grad\u001b[38;5;241m=\u001b[39mold_value\u001b[38;5;241m.\u001b[39mrequires_grad)\n\u001b[1;32m    329\u001b[0m \u001b[38;5;28;01melif\u001b[39;00m \u001b[38;5;28misinstance\u001b[39m(value, torch\u001b[38;5;241m.\u001b[39mTensor):\n\u001b[0;32m--> 330\u001b[0m     new_value \u001b[38;5;241m=\u001b[39m \u001b[43mvalue\u001b[49m\u001b[38;5;241;43m.\u001b[39;49m\u001b[43mto\u001b[49m\u001b[43m(\u001b[49m\u001b[43mdevice\u001b[49m\u001b[43m)\u001b[49m\n\u001b[1;32m    331\u001b[0m \u001b[38;5;28;01melse\u001b[39;00m:\n\u001b[1;32m    332\u001b[0m     new_value \u001b[38;5;241m=\u001b[39m torch\u001b[38;5;241m.\u001b[39mtensor(value, device\u001b[38;5;241m=\u001b[39mdevice)\n",
      "\u001b[0;31mKeyboardInterrupt\u001b[0m: "
     ]
    }
   ],
   "source": [
    "# 用于存储 Qwen 得分\n",
    "scores_original_1 = []\n",
    "running_sum = 0\n",
    "valid_count = 0\n",
    "pbar = tqdm(sampled_files_1, desc=\"Processing AE Images\")\n",
    "for image_name in pbar:\n",
    "    image_path = os.path.join(image_dir_1, image_name)\n",
    "    try:\n",
    "        score = evaluate_image(image_path,image_size)\n",
    "    except Exception as e:\n",
    "        print(f\"Error evaluating original image {image_name}: {e}\")\n",
    "        score = None\n",
    "\n",
    "    if score is not None:\n",
    "        running_sum += score\n",
    "        valid_count += 1\n",
    "\n",
    "    scores_original_1.append(score)\n",
    "    print(\"AE image scores:\", scores_original_1)\n",
    "    avg_score = running_sum / valid_count if valid_count > 0 else 0\n",
    "    pbar.set_postfix(avg_score=f\"{avg_score:.4f}\")\n",
    "print(\"AE image scores:\", scores_original_1)\n",
    "# [2,]"
   ]
  },
  {
   "cell_type": "code",
   "execution_count": 27,
   "metadata": {},
   "outputs": [
    {
     "name": "stderr",
     "output_type": "stream",
     "text": [
      "Processing AE-JEPA Images:   0%|          | 0/10 [00:01<?, ?it/s]\n"
     ]
    },
    {
     "ename": "KeyboardInterrupt",
     "evalue": "",
     "output_type": "error",
     "traceback": [
      "\u001b[0;31m---------------------------------------------------------------------------\u001b[0m",
      "\u001b[0;31mKeyboardInterrupt\u001b[0m                         Traceback (most recent call last)",
      "Cell \u001b[0;32mIn[27], line 8\u001b[0m\n\u001b[1;32m      6\u001b[0m image_path \u001b[38;5;241m=\u001b[39m os\u001b[38;5;241m.\u001b[39mpath\u001b[38;5;241m.\u001b[39mjoin(image_dir_2, image_name)\n\u001b[1;32m      7\u001b[0m \u001b[38;5;28;01mtry\u001b[39;00m:\n\u001b[0;32m----> 8\u001b[0m     score \u001b[38;5;241m=\u001b[39m \u001b[43mevaluate_image\u001b[49m\u001b[43m(\u001b[49m\u001b[43mimage_path\u001b[49m\u001b[43m,\u001b[49m\u001b[43mimage_size\u001b[49m\u001b[43m)\u001b[49m\n\u001b[1;32m      9\u001b[0m \u001b[38;5;28;01mexcept\u001b[39;00m \u001b[38;5;167;01mException\u001b[39;00m \u001b[38;5;28;01mas\u001b[39;00m e:\n\u001b[1;32m     10\u001b[0m     \u001b[38;5;28mprint\u001b[39m(\u001b[38;5;124mf\u001b[39m\u001b[38;5;124m\"\u001b[39m\u001b[38;5;124mError evaluating original image \u001b[39m\u001b[38;5;132;01m{\u001b[39;00mimage_name\u001b[38;5;132;01m}\u001b[39;00m\u001b[38;5;124m: \u001b[39m\u001b[38;5;132;01m{\u001b[39;00me\u001b[38;5;132;01m}\u001b[39;00m\u001b[38;5;124m\"\u001b[39m)\n",
      "Cell \u001b[0;32mIn[20], line 60\u001b[0m, in \u001b[0;36mevaluate_image\u001b[0;34m(image_path, image_size)\u001b[0m\n\u001b[1;32m     57\u001b[0m inputs \u001b[38;5;241m=\u001b[39m inputs\u001b[38;5;241m.\u001b[39mto(\u001b[38;5;124m\"\u001b[39m\u001b[38;5;124mcuda\u001b[39m\u001b[38;5;124m\"\u001b[39m)\n\u001b[1;32m     59\u001b[0m \u001b[38;5;66;03m# Inference: Generation of the output\u001b[39;00m\n\u001b[0;32m---> 60\u001b[0m generated_ids \u001b[38;5;241m=\u001b[39m \u001b[43mmodel\u001b[49m\u001b[38;5;241;43m.\u001b[39;49m\u001b[43mgenerate\u001b[49m\u001b[43m(\u001b[49m\u001b[38;5;241;43m*\u001b[39;49m\u001b[38;5;241;43m*\u001b[39;49m\u001b[43minputs\u001b[49m\u001b[43m,\u001b[49m\u001b[43m \u001b[49m\u001b[43mmax_new_tokens\u001b[49m\u001b[38;5;241;43m=\u001b[39;49m\u001b[38;5;241;43m9000\u001b[39;49m\u001b[43m)\u001b[49m\n\u001b[1;32m     61\u001b[0m generated_ids_trimmed \u001b[38;5;241m=\u001b[39m [\n\u001b[1;32m     62\u001b[0m     out_ids[\u001b[38;5;28mlen\u001b[39m(in_ids) :] \u001b[38;5;28;01mfor\u001b[39;00m in_ids, out_ids \u001b[38;5;129;01min\u001b[39;00m \u001b[38;5;28mzip\u001b[39m(inputs\u001b[38;5;241m.\u001b[39minput_ids, generated_ids)\n\u001b[1;32m     63\u001b[0m ]\n\u001b[1;32m     64\u001b[0m output_text \u001b[38;5;241m=\u001b[39m processor\u001b[38;5;241m.\u001b[39mbatch_decode(\n\u001b[1;32m     65\u001b[0m     generated_ids_trimmed, skip_special_tokens\u001b[38;5;241m=\u001b[39m\u001b[38;5;28;01mTrue\u001b[39;00m, clean_up_tokenization_spaces\u001b[38;5;241m=\u001b[39m\u001b[38;5;28;01mFalse\u001b[39;00m\n\u001b[1;32m     66\u001b[0m )\n",
      "File \u001b[0;32m~/miniconda3/envs/yjenv/lib/python3.11/site-packages/torch/utils/_contextlib.py:115\u001b[0m, in \u001b[0;36mcontext_decorator.<locals>.decorate_context\u001b[0;34m(*args, **kwargs)\u001b[0m\n\u001b[1;32m    112\u001b[0m \u001b[38;5;129m@functools\u001b[39m\u001b[38;5;241m.\u001b[39mwraps(func)\n\u001b[1;32m    113\u001b[0m \u001b[38;5;28;01mdef\u001b[39;00m \u001b[38;5;21mdecorate_context\u001b[39m(\u001b[38;5;241m*\u001b[39margs, \u001b[38;5;241m*\u001b[39m\u001b[38;5;241m*\u001b[39mkwargs):\n\u001b[1;32m    114\u001b[0m     \u001b[38;5;28;01mwith\u001b[39;00m ctx_factory():\n\u001b[0;32m--> 115\u001b[0m         \u001b[38;5;28;01mreturn\u001b[39;00m \u001b[43mfunc\u001b[49m\u001b[43m(\u001b[49m\u001b[38;5;241;43m*\u001b[39;49m\u001b[43margs\u001b[49m\u001b[43m,\u001b[49m\u001b[43m \u001b[49m\u001b[38;5;241;43m*\u001b[39;49m\u001b[38;5;241;43m*\u001b[39;49m\u001b[43mkwargs\u001b[49m\u001b[43m)\u001b[49m\n",
      "File \u001b[0;32m~/miniconda3/envs/yjenv/lib/python3.11/site-packages/transformers/generation/utils.py:2326\u001b[0m, in \u001b[0;36mGenerationMixin.generate\u001b[0;34m(self, inputs, generation_config, logits_processor, stopping_criteria, prefix_allowed_tokens_fn, synced_gpus, assistant_model, streamer, negative_prompt_ids, negative_prompt_attention_mask, use_model_defaults, **kwargs)\u001b[0m\n\u001b[1;32m   2318\u001b[0m     input_ids, model_kwargs \u001b[38;5;241m=\u001b[39m \u001b[38;5;28mself\u001b[39m\u001b[38;5;241m.\u001b[39m_expand_inputs_for_generation(\n\u001b[1;32m   2319\u001b[0m         input_ids\u001b[38;5;241m=\u001b[39minput_ids,\n\u001b[1;32m   2320\u001b[0m         expand_size\u001b[38;5;241m=\u001b[39mgeneration_config\u001b[38;5;241m.\u001b[39mnum_return_sequences,\n\u001b[1;32m   2321\u001b[0m         is_encoder_decoder\u001b[38;5;241m=\u001b[39m\u001b[38;5;28mself\u001b[39m\u001b[38;5;241m.\u001b[39mconfig\u001b[38;5;241m.\u001b[39mis_encoder_decoder,\n\u001b[1;32m   2322\u001b[0m         \u001b[38;5;241m*\u001b[39m\u001b[38;5;241m*\u001b[39mmodel_kwargs,\n\u001b[1;32m   2323\u001b[0m     )\n\u001b[1;32m   2325\u001b[0m     \u001b[38;5;66;03m# 12. run sample (it degenerates to greedy search when `generation_config.do_sample=False`)\u001b[39;00m\n\u001b[0;32m-> 2326\u001b[0m     result \u001b[38;5;241m=\u001b[39m \u001b[38;5;28;43mself\u001b[39;49m\u001b[38;5;241;43m.\u001b[39;49m\u001b[43m_sample\u001b[49m\u001b[43m(\u001b[49m\n\u001b[1;32m   2327\u001b[0m \u001b[43m        \u001b[49m\u001b[43minput_ids\u001b[49m\u001b[43m,\u001b[49m\n\u001b[1;32m   2328\u001b[0m \u001b[43m        \u001b[49m\u001b[43mlogits_processor\u001b[49m\u001b[38;5;241;43m=\u001b[39;49m\u001b[43mprepared_logits_processor\u001b[49m\u001b[43m,\u001b[49m\n\u001b[1;32m   2329\u001b[0m \u001b[43m        \u001b[49m\u001b[43mstopping_criteria\u001b[49m\u001b[38;5;241;43m=\u001b[39;49m\u001b[43mprepared_stopping_criteria\u001b[49m\u001b[43m,\u001b[49m\n\u001b[1;32m   2330\u001b[0m \u001b[43m        \u001b[49m\u001b[43mgeneration_config\u001b[49m\u001b[38;5;241;43m=\u001b[39;49m\u001b[43mgeneration_config\u001b[49m\u001b[43m,\u001b[49m\n\u001b[1;32m   2331\u001b[0m \u001b[43m        \u001b[49m\u001b[43msynced_gpus\u001b[49m\u001b[38;5;241;43m=\u001b[39;49m\u001b[43msynced_gpus\u001b[49m\u001b[43m,\u001b[49m\n\u001b[1;32m   2332\u001b[0m \u001b[43m        \u001b[49m\u001b[43mstreamer\u001b[49m\u001b[38;5;241;43m=\u001b[39;49m\u001b[43mstreamer\u001b[49m\u001b[43m,\u001b[49m\n\u001b[1;32m   2333\u001b[0m \u001b[43m        \u001b[49m\u001b[38;5;241;43m*\u001b[39;49m\u001b[38;5;241;43m*\u001b[39;49m\u001b[43mmodel_kwargs\u001b[49m\u001b[43m,\u001b[49m\n\u001b[1;32m   2334\u001b[0m \u001b[43m    \u001b[49m\u001b[43m)\u001b[49m\n\u001b[1;32m   2336\u001b[0m \u001b[38;5;28;01melif\u001b[39;00m generation_mode \u001b[38;5;129;01min\u001b[39;00m (GenerationMode\u001b[38;5;241m.\u001b[39mBEAM_SAMPLE, GenerationMode\u001b[38;5;241m.\u001b[39mBEAM_SEARCH):\n\u001b[1;32m   2337\u001b[0m     \u001b[38;5;66;03m# 11. interleave input_ids with `num_beams` additional sequences per batch\u001b[39;00m\n\u001b[1;32m   2338\u001b[0m     input_ids, model_kwargs \u001b[38;5;241m=\u001b[39m \u001b[38;5;28mself\u001b[39m\u001b[38;5;241m.\u001b[39m_expand_inputs_for_generation(\n\u001b[1;32m   2339\u001b[0m         input_ids\u001b[38;5;241m=\u001b[39minput_ids,\n\u001b[1;32m   2340\u001b[0m         expand_size\u001b[38;5;241m=\u001b[39mgeneration_config\u001b[38;5;241m.\u001b[39mnum_beams,\n\u001b[1;32m   2341\u001b[0m         is_encoder_decoder\u001b[38;5;241m=\u001b[39m\u001b[38;5;28mself\u001b[39m\u001b[38;5;241m.\u001b[39mconfig\u001b[38;5;241m.\u001b[39mis_encoder_decoder,\n\u001b[1;32m   2342\u001b[0m         \u001b[38;5;241m*\u001b[39m\u001b[38;5;241m*\u001b[39mmodel_kwargs,\n\u001b[1;32m   2343\u001b[0m     )\n",
      "File \u001b[0;32m~/miniconda3/envs/yjenv/lib/python3.11/site-packages/transformers/generation/utils.py:3289\u001b[0m, in \u001b[0;36mGenerationMixin._sample\u001b[0;34m(self, input_ids, logits_processor, stopping_criteria, generation_config, synced_gpus, streamer, **model_kwargs)\u001b[0m\n\u001b[1;32m   3287\u001b[0m     is_prefill \u001b[38;5;241m=\u001b[39m \u001b[38;5;28;01mFalse\u001b[39;00m\n\u001b[1;32m   3288\u001b[0m \u001b[38;5;28;01melse\u001b[39;00m:\n\u001b[0;32m-> 3289\u001b[0m     outputs \u001b[38;5;241m=\u001b[39m \u001b[43mmodel_forward\u001b[49m\u001b[43m(\u001b[49m\u001b[38;5;241;43m*\u001b[39;49m\u001b[38;5;241;43m*\u001b[39;49m\u001b[43mmodel_inputs\u001b[49m\u001b[43m,\u001b[49m\u001b[43m \u001b[49m\u001b[43mreturn_dict\u001b[49m\u001b[38;5;241;43m=\u001b[39;49m\u001b[38;5;28;43;01mTrue\u001b[39;49;00m\u001b[43m)\u001b[49m\n\u001b[1;32m   3291\u001b[0m \u001b[38;5;66;03m# synced_gpus: don't waste resources running the code we don't need; kwargs must be updated before skipping\u001b[39;00m\n\u001b[1;32m   3292\u001b[0m model_kwargs \u001b[38;5;241m=\u001b[39m \u001b[38;5;28mself\u001b[39m\u001b[38;5;241m.\u001b[39m_update_model_kwargs_for_generation(\n\u001b[1;32m   3293\u001b[0m     outputs,\n\u001b[1;32m   3294\u001b[0m     model_kwargs,\n\u001b[1;32m   3295\u001b[0m     is_encoder_decoder\u001b[38;5;241m=\u001b[39m\u001b[38;5;28mself\u001b[39m\u001b[38;5;241m.\u001b[39mconfig\u001b[38;5;241m.\u001b[39mis_encoder_decoder,\n\u001b[1;32m   3296\u001b[0m )\n",
      "File \u001b[0;32m~/miniconda3/envs/yjenv/lib/python3.11/site-packages/torch/nn/modules/module.py:1532\u001b[0m, in \u001b[0;36mModule._wrapped_call_impl\u001b[0;34m(self, *args, **kwargs)\u001b[0m\n\u001b[1;32m   1530\u001b[0m     \u001b[38;5;28;01mreturn\u001b[39;00m \u001b[38;5;28mself\u001b[39m\u001b[38;5;241m.\u001b[39m_compiled_call_impl(\u001b[38;5;241m*\u001b[39margs, \u001b[38;5;241m*\u001b[39m\u001b[38;5;241m*\u001b[39mkwargs)  \u001b[38;5;66;03m# type: ignore[misc]\u001b[39;00m\n\u001b[1;32m   1531\u001b[0m \u001b[38;5;28;01melse\u001b[39;00m:\n\u001b[0;32m-> 1532\u001b[0m     \u001b[38;5;28;01mreturn\u001b[39;00m \u001b[38;5;28;43mself\u001b[39;49m\u001b[38;5;241;43m.\u001b[39;49m\u001b[43m_call_impl\u001b[49m\u001b[43m(\u001b[49m\u001b[38;5;241;43m*\u001b[39;49m\u001b[43margs\u001b[49m\u001b[43m,\u001b[49m\u001b[43m \u001b[49m\u001b[38;5;241;43m*\u001b[39;49m\u001b[38;5;241;43m*\u001b[39;49m\u001b[43mkwargs\u001b[49m\u001b[43m)\u001b[49m\n",
      "File \u001b[0;32m~/miniconda3/envs/yjenv/lib/python3.11/site-packages/torch/nn/modules/module.py:1541\u001b[0m, in \u001b[0;36mModule._call_impl\u001b[0;34m(self, *args, **kwargs)\u001b[0m\n\u001b[1;32m   1536\u001b[0m \u001b[38;5;66;03m# If we don't have any hooks, we want to skip the rest of the logic in\u001b[39;00m\n\u001b[1;32m   1537\u001b[0m \u001b[38;5;66;03m# this function, and just call forward.\u001b[39;00m\n\u001b[1;32m   1538\u001b[0m \u001b[38;5;28;01mif\u001b[39;00m \u001b[38;5;129;01mnot\u001b[39;00m (\u001b[38;5;28mself\u001b[39m\u001b[38;5;241m.\u001b[39m_backward_hooks \u001b[38;5;129;01mor\u001b[39;00m \u001b[38;5;28mself\u001b[39m\u001b[38;5;241m.\u001b[39m_backward_pre_hooks \u001b[38;5;129;01mor\u001b[39;00m \u001b[38;5;28mself\u001b[39m\u001b[38;5;241m.\u001b[39m_forward_hooks \u001b[38;5;129;01mor\u001b[39;00m \u001b[38;5;28mself\u001b[39m\u001b[38;5;241m.\u001b[39m_forward_pre_hooks\n\u001b[1;32m   1539\u001b[0m         \u001b[38;5;129;01mor\u001b[39;00m _global_backward_pre_hooks \u001b[38;5;129;01mor\u001b[39;00m _global_backward_hooks\n\u001b[1;32m   1540\u001b[0m         \u001b[38;5;129;01mor\u001b[39;00m _global_forward_hooks \u001b[38;5;129;01mor\u001b[39;00m _global_forward_pre_hooks):\n\u001b[0;32m-> 1541\u001b[0m     \u001b[38;5;28;01mreturn\u001b[39;00m \u001b[43mforward_call\u001b[49m\u001b[43m(\u001b[49m\u001b[38;5;241;43m*\u001b[39;49m\u001b[43margs\u001b[49m\u001b[43m,\u001b[49m\u001b[43m \u001b[49m\u001b[38;5;241;43m*\u001b[39;49m\u001b[38;5;241;43m*\u001b[39;49m\u001b[43mkwargs\u001b[49m\u001b[43m)\u001b[49m\n\u001b[1;32m   1543\u001b[0m \u001b[38;5;28;01mtry\u001b[39;00m:\n\u001b[1;32m   1544\u001b[0m     result \u001b[38;5;241m=\u001b[39m \u001b[38;5;28;01mNone\u001b[39;00m\n",
      "File \u001b[0;32m~/miniconda3/envs/yjenv/lib/python3.11/site-packages/accelerate/hooks.py:176\u001b[0m, in \u001b[0;36madd_hook_to_module.<locals>.new_forward\u001b[0;34m(module, *args, **kwargs)\u001b[0m\n\u001b[1;32m    174\u001b[0m         output \u001b[38;5;241m=\u001b[39m module\u001b[38;5;241m.\u001b[39m_old_forward(\u001b[38;5;241m*\u001b[39margs, \u001b[38;5;241m*\u001b[39m\u001b[38;5;241m*\u001b[39mkwargs)\n\u001b[1;32m    175\u001b[0m \u001b[38;5;28;01melse\u001b[39;00m:\n\u001b[0;32m--> 176\u001b[0m     output \u001b[38;5;241m=\u001b[39m \u001b[43mmodule\u001b[49m\u001b[38;5;241;43m.\u001b[39;49m\u001b[43m_old_forward\u001b[49m\u001b[43m(\u001b[49m\u001b[38;5;241;43m*\u001b[39;49m\u001b[43margs\u001b[49m\u001b[43m,\u001b[49m\u001b[43m \u001b[49m\u001b[38;5;241;43m*\u001b[39;49m\u001b[38;5;241;43m*\u001b[39;49m\u001b[43mkwargs\u001b[49m\u001b[43m)\u001b[49m\n\u001b[1;32m    177\u001b[0m \u001b[38;5;28;01mreturn\u001b[39;00m module\u001b[38;5;241m.\u001b[39m_hf_hook\u001b[38;5;241m.\u001b[39mpost_forward(module, output)\n",
      "File \u001b[0;32m~/miniconda3/envs/yjenv/lib/python3.11/site-packages/transformers/models/qwen2_5_vl/modeling_qwen2_5_vl.py:1861\u001b[0m, in \u001b[0;36mQwen2_5_VLForConditionalGeneration.forward\u001b[0;34m(self, input_ids, attention_mask, position_ids, past_key_values, inputs_embeds, labels, use_cache, output_attentions, output_hidden_states, return_dict, pixel_values, pixel_values_videos, image_grid_thw, video_grid_thw, rope_deltas, cache_position, second_per_grid_ts)\u001b[0m\n\u001b[1;32m   1858\u001b[0m         position_ids \u001b[38;5;241m=\u001b[39m position_ids\u001b[38;5;241m.\u001b[39madd(delta)\n\u001b[1;32m   1859\u001b[0m         position_ids \u001b[38;5;241m=\u001b[39m position_ids\u001b[38;5;241m.\u001b[39munsqueeze(\u001b[38;5;241m0\u001b[39m)\u001b[38;5;241m.\u001b[39mexpand(\u001b[38;5;241m3\u001b[39m, \u001b[38;5;241m-\u001b[39m\u001b[38;5;241m1\u001b[39m, \u001b[38;5;241m-\u001b[39m\u001b[38;5;241m1\u001b[39m)\n\u001b[0;32m-> 1861\u001b[0m outputs \u001b[38;5;241m=\u001b[39m \u001b[38;5;28;43mself\u001b[39;49m\u001b[38;5;241;43m.\u001b[39;49m\u001b[43mmodel\u001b[49m\u001b[43m(\u001b[49m\n\u001b[1;32m   1862\u001b[0m \u001b[43m    \u001b[49m\u001b[43minput_ids\u001b[49m\u001b[38;5;241;43m=\u001b[39;49m\u001b[38;5;28;43;01mNone\u001b[39;49;00m\u001b[43m,\u001b[49m\n\u001b[1;32m   1863\u001b[0m \u001b[43m    \u001b[49m\u001b[43mposition_ids\u001b[49m\u001b[38;5;241;43m=\u001b[39;49m\u001b[43mposition_ids\u001b[49m\u001b[43m,\u001b[49m\n\u001b[1;32m   1864\u001b[0m \u001b[43m    \u001b[49m\u001b[43mattention_mask\u001b[49m\u001b[38;5;241;43m=\u001b[39;49m\u001b[43mattention_mask\u001b[49m\u001b[43m,\u001b[49m\n\u001b[1;32m   1865\u001b[0m \u001b[43m    \u001b[49m\u001b[43mpast_key_values\u001b[49m\u001b[38;5;241;43m=\u001b[39;49m\u001b[43mpast_key_values\u001b[49m\u001b[43m,\u001b[49m\n\u001b[1;32m   1866\u001b[0m \u001b[43m    \u001b[49m\u001b[43minputs_embeds\u001b[49m\u001b[38;5;241;43m=\u001b[39;49m\u001b[43minputs_embeds\u001b[49m\u001b[43m,\u001b[49m\n\u001b[1;32m   1867\u001b[0m \u001b[43m    \u001b[49m\u001b[43muse_cache\u001b[49m\u001b[38;5;241;43m=\u001b[39;49m\u001b[43muse_cache\u001b[49m\u001b[43m,\u001b[49m\n\u001b[1;32m   1868\u001b[0m \u001b[43m    \u001b[49m\u001b[43moutput_attentions\u001b[49m\u001b[38;5;241;43m=\u001b[39;49m\u001b[43moutput_attentions\u001b[49m\u001b[43m,\u001b[49m\n\u001b[1;32m   1869\u001b[0m \u001b[43m    \u001b[49m\u001b[43moutput_hidden_states\u001b[49m\u001b[38;5;241;43m=\u001b[39;49m\u001b[43moutput_hidden_states\u001b[49m\u001b[43m,\u001b[49m\n\u001b[1;32m   1870\u001b[0m \u001b[43m    \u001b[49m\u001b[43mreturn_dict\u001b[49m\u001b[38;5;241;43m=\u001b[39;49m\u001b[43mreturn_dict\u001b[49m\u001b[43m,\u001b[49m\n\u001b[1;32m   1871\u001b[0m \u001b[43m    \u001b[49m\u001b[43mcache_position\u001b[49m\u001b[38;5;241;43m=\u001b[39;49m\u001b[43mcache_position\u001b[49m\u001b[43m,\u001b[49m\n\u001b[1;32m   1872\u001b[0m \u001b[43m\u001b[49m\u001b[43m)\u001b[49m\n\u001b[1;32m   1874\u001b[0m hidden_states \u001b[38;5;241m=\u001b[39m outputs[\u001b[38;5;241m0\u001b[39m]\n\u001b[1;32m   1875\u001b[0m logits \u001b[38;5;241m=\u001b[39m \u001b[38;5;28mself\u001b[39m\u001b[38;5;241m.\u001b[39mlm_head(hidden_states)\n",
      "File \u001b[0;32m~/miniconda3/envs/yjenv/lib/python3.11/site-packages/torch/nn/modules/module.py:1532\u001b[0m, in \u001b[0;36mModule._wrapped_call_impl\u001b[0;34m(self, *args, **kwargs)\u001b[0m\n\u001b[1;32m   1530\u001b[0m     \u001b[38;5;28;01mreturn\u001b[39;00m \u001b[38;5;28mself\u001b[39m\u001b[38;5;241m.\u001b[39m_compiled_call_impl(\u001b[38;5;241m*\u001b[39margs, \u001b[38;5;241m*\u001b[39m\u001b[38;5;241m*\u001b[39mkwargs)  \u001b[38;5;66;03m# type: ignore[misc]\u001b[39;00m\n\u001b[1;32m   1531\u001b[0m \u001b[38;5;28;01melse\u001b[39;00m:\n\u001b[0;32m-> 1532\u001b[0m     \u001b[38;5;28;01mreturn\u001b[39;00m \u001b[38;5;28;43mself\u001b[39;49m\u001b[38;5;241;43m.\u001b[39;49m\u001b[43m_call_impl\u001b[49m\u001b[43m(\u001b[49m\u001b[38;5;241;43m*\u001b[39;49m\u001b[43margs\u001b[49m\u001b[43m,\u001b[49m\u001b[43m \u001b[49m\u001b[38;5;241;43m*\u001b[39;49m\u001b[38;5;241;43m*\u001b[39;49m\u001b[43mkwargs\u001b[49m\u001b[43m)\u001b[49m\n",
      "File \u001b[0;32m~/miniconda3/envs/yjenv/lib/python3.11/site-packages/torch/nn/modules/module.py:1541\u001b[0m, in \u001b[0;36mModule._call_impl\u001b[0;34m(self, *args, **kwargs)\u001b[0m\n\u001b[1;32m   1536\u001b[0m \u001b[38;5;66;03m# If we don't have any hooks, we want to skip the rest of the logic in\u001b[39;00m\n\u001b[1;32m   1537\u001b[0m \u001b[38;5;66;03m# this function, and just call forward.\u001b[39;00m\n\u001b[1;32m   1538\u001b[0m \u001b[38;5;28;01mif\u001b[39;00m \u001b[38;5;129;01mnot\u001b[39;00m (\u001b[38;5;28mself\u001b[39m\u001b[38;5;241m.\u001b[39m_backward_hooks \u001b[38;5;129;01mor\u001b[39;00m \u001b[38;5;28mself\u001b[39m\u001b[38;5;241m.\u001b[39m_backward_pre_hooks \u001b[38;5;129;01mor\u001b[39;00m \u001b[38;5;28mself\u001b[39m\u001b[38;5;241m.\u001b[39m_forward_hooks \u001b[38;5;129;01mor\u001b[39;00m \u001b[38;5;28mself\u001b[39m\u001b[38;5;241m.\u001b[39m_forward_pre_hooks\n\u001b[1;32m   1539\u001b[0m         \u001b[38;5;129;01mor\u001b[39;00m _global_backward_pre_hooks \u001b[38;5;129;01mor\u001b[39;00m _global_backward_hooks\n\u001b[1;32m   1540\u001b[0m         \u001b[38;5;129;01mor\u001b[39;00m _global_forward_hooks \u001b[38;5;129;01mor\u001b[39;00m _global_forward_pre_hooks):\n\u001b[0;32m-> 1541\u001b[0m     \u001b[38;5;28;01mreturn\u001b[39;00m \u001b[43mforward_call\u001b[49m\u001b[43m(\u001b[49m\u001b[38;5;241;43m*\u001b[39;49m\u001b[43margs\u001b[49m\u001b[43m,\u001b[49m\u001b[43m \u001b[49m\u001b[38;5;241;43m*\u001b[39;49m\u001b[38;5;241;43m*\u001b[39;49m\u001b[43mkwargs\u001b[49m\u001b[43m)\u001b[49m\n\u001b[1;32m   1543\u001b[0m \u001b[38;5;28;01mtry\u001b[39;00m:\n\u001b[1;32m   1544\u001b[0m     result \u001b[38;5;241m=\u001b[39m \u001b[38;5;28;01mNone\u001b[39;00m\n",
      "File \u001b[0;32m~/miniconda3/envs/yjenv/lib/python3.11/site-packages/transformers/models/qwen2_5_vl/modeling_qwen2_5_vl.py:1207\u001b[0m, in \u001b[0;36mQwen2_5_VLModel.forward\u001b[0;34m(self, input_ids, attention_mask, position_ids, past_key_values, inputs_embeds, use_cache, output_attentions, output_hidden_states, return_dict, cache_position)\u001b[0m\n\u001b[1;32m   1195\u001b[0m     layer_outputs \u001b[38;5;241m=\u001b[39m \u001b[38;5;28mself\u001b[39m\u001b[38;5;241m.\u001b[39m_gradient_checkpointing_func(\n\u001b[1;32m   1196\u001b[0m         decoder_layer\u001b[38;5;241m.\u001b[39m\u001b[38;5;21m__call__\u001b[39m,\n\u001b[1;32m   1197\u001b[0m         hidden_states,\n\u001b[0;32m   (...)\u001b[0m\n\u001b[1;32m   1204\u001b[0m         position_embeddings,\n\u001b[1;32m   1205\u001b[0m     )\n\u001b[1;32m   1206\u001b[0m \u001b[38;5;28;01melse\u001b[39;00m:\n\u001b[0;32m-> 1207\u001b[0m     layer_outputs \u001b[38;5;241m=\u001b[39m \u001b[43mdecoder_layer\u001b[49m\u001b[43m(\u001b[49m\n\u001b[1;32m   1208\u001b[0m \u001b[43m        \u001b[49m\u001b[43mhidden_states\u001b[49m\u001b[43m,\u001b[49m\n\u001b[1;32m   1209\u001b[0m \u001b[43m        \u001b[49m\u001b[43mattention_mask\u001b[49m\u001b[38;5;241;43m=\u001b[39;49m\u001b[43mcausal_mask\u001b[49m\u001b[43m,\u001b[49m\n\u001b[1;32m   1210\u001b[0m \u001b[43m        \u001b[49m\u001b[43mposition_ids\u001b[49m\u001b[38;5;241;43m=\u001b[39;49m\u001b[43mposition_ids\u001b[49m\u001b[43m,\u001b[49m\n\u001b[1;32m   1211\u001b[0m \u001b[43m        \u001b[49m\u001b[43mpast_key_value\u001b[49m\u001b[38;5;241;43m=\u001b[39;49m\u001b[43mpast_key_values\u001b[49m\u001b[43m,\u001b[49m\n\u001b[1;32m   1212\u001b[0m \u001b[43m        \u001b[49m\u001b[43moutput_attentions\u001b[49m\u001b[38;5;241;43m=\u001b[39;49m\u001b[43moutput_attentions\u001b[49m\u001b[43m,\u001b[49m\n\u001b[1;32m   1213\u001b[0m \u001b[43m        \u001b[49m\u001b[43muse_cache\u001b[49m\u001b[38;5;241;43m=\u001b[39;49m\u001b[43muse_cache\u001b[49m\u001b[43m,\u001b[49m\n\u001b[1;32m   1214\u001b[0m \u001b[43m        \u001b[49m\u001b[43mcache_position\u001b[49m\u001b[38;5;241;43m=\u001b[39;49m\u001b[43mcache_position\u001b[49m\u001b[43m,\u001b[49m\n\u001b[1;32m   1215\u001b[0m \u001b[43m        \u001b[49m\u001b[43mposition_embeddings\u001b[49m\u001b[38;5;241;43m=\u001b[39;49m\u001b[43mposition_embeddings\u001b[49m\u001b[43m,\u001b[49m\n\u001b[1;32m   1216\u001b[0m \u001b[43m    \u001b[49m\u001b[43m)\u001b[49m\n\u001b[1;32m   1218\u001b[0m hidden_states \u001b[38;5;241m=\u001b[39m layer_outputs[\u001b[38;5;241m0\u001b[39m]\n\u001b[1;32m   1220\u001b[0m \u001b[38;5;28;01mif\u001b[39;00m use_cache:\n",
      "File \u001b[0;32m~/miniconda3/envs/yjenv/lib/python3.11/site-packages/torch/nn/modules/module.py:1532\u001b[0m, in \u001b[0;36mModule._wrapped_call_impl\u001b[0;34m(self, *args, **kwargs)\u001b[0m\n\u001b[1;32m   1530\u001b[0m     \u001b[38;5;28;01mreturn\u001b[39;00m \u001b[38;5;28mself\u001b[39m\u001b[38;5;241m.\u001b[39m_compiled_call_impl(\u001b[38;5;241m*\u001b[39margs, \u001b[38;5;241m*\u001b[39m\u001b[38;5;241m*\u001b[39mkwargs)  \u001b[38;5;66;03m# type: ignore[misc]\u001b[39;00m\n\u001b[1;32m   1531\u001b[0m \u001b[38;5;28;01melse\u001b[39;00m:\n\u001b[0;32m-> 1532\u001b[0m     \u001b[38;5;28;01mreturn\u001b[39;00m \u001b[38;5;28;43mself\u001b[39;49m\u001b[38;5;241;43m.\u001b[39;49m\u001b[43m_call_impl\u001b[49m\u001b[43m(\u001b[49m\u001b[38;5;241;43m*\u001b[39;49m\u001b[43margs\u001b[49m\u001b[43m,\u001b[49m\u001b[43m \u001b[49m\u001b[38;5;241;43m*\u001b[39;49m\u001b[38;5;241;43m*\u001b[39;49m\u001b[43mkwargs\u001b[49m\u001b[43m)\u001b[49m\n",
      "File \u001b[0;32m~/miniconda3/envs/yjenv/lib/python3.11/site-packages/torch/nn/modules/module.py:1541\u001b[0m, in \u001b[0;36mModule._call_impl\u001b[0;34m(self, *args, **kwargs)\u001b[0m\n\u001b[1;32m   1536\u001b[0m \u001b[38;5;66;03m# If we don't have any hooks, we want to skip the rest of the logic in\u001b[39;00m\n\u001b[1;32m   1537\u001b[0m \u001b[38;5;66;03m# this function, and just call forward.\u001b[39;00m\n\u001b[1;32m   1538\u001b[0m \u001b[38;5;28;01mif\u001b[39;00m \u001b[38;5;129;01mnot\u001b[39;00m (\u001b[38;5;28mself\u001b[39m\u001b[38;5;241m.\u001b[39m_backward_hooks \u001b[38;5;129;01mor\u001b[39;00m \u001b[38;5;28mself\u001b[39m\u001b[38;5;241m.\u001b[39m_backward_pre_hooks \u001b[38;5;129;01mor\u001b[39;00m \u001b[38;5;28mself\u001b[39m\u001b[38;5;241m.\u001b[39m_forward_hooks \u001b[38;5;129;01mor\u001b[39;00m \u001b[38;5;28mself\u001b[39m\u001b[38;5;241m.\u001b[39m_forward_pre_hooks\n\u001b[1;32m   1539\u001b[0m         \u001b[38;5;129;01mor\u001b[39;00m _global_backward_pre_hooks \u001b[38;5;129;01mor\u001b[39;00m _global_backward_hooks\n\u001b[1;32m   1540\u001b[0m         \u001b[38;5;129;01mor\u001b[39;00m _global_forward_hooks \u001b[38;5;129;01mor\u001b[39;00m _global_forward_pre_hooks):\n\u001b[0;32m-> 1541\u001b[0m     \u001b[38;5;28;01mreturn\u001b[39;00m \u001b[43mforward_call\u001b[49m\u001b[43m(\u001b[49m\u001b[38;5;241;43m*\u001b[39;49m\u001b[43margs\u001b[49m\u001b[43m,\u001b[49m\u001b[43m \u001b[49m\u001b[38;5;241;43m*\u001b[39;49m\u001b[38;5;241;43m*\u001b[39;49m\u001b[43mkwargs\u001b[49m\u001b[43m)\u001b[49m\n\u001b[1;32m   1543\u001b[0m \u001b[38;5;28;01mtry\u001b[39;00m:\n\u001b[1;32m   1544\u001b[0m     result \u001b[38;5;241m=\u001b[39m \u001b[38;5;28;01mNone\u001b[39;00m\n",
      "File \u001b[0;32m~/miniconda3/envs/yjenv/lib/python3.11/site-packages/accelerate/hooks.py:176\u001b[0m, in \u001b[0;36madd_hook_to_module.<locals>.new_forward\u001b[0;34m(module, *args, **kwargs)\u001b[0m\n\u001b[1;32m    174\u001b[0m         output \u001b[38;5;241m=\u001b[39m module\u001b[38;5;241m.\u001b[39m_old_forward(\u001b[38;5;241m*\u001b[39margs, \u001b[38;5;241m*\u001b[39m\u001b[38;5;241m*\u001b[39mkwargs)\n\u001b[1;32m    175\u001b[0m \u001b[38;5;28;01melse\u001b[39;00m:\n\u001b[0;32m--> 176\u001b[0m     output \u001b[38;5;241m=\u001b[39m \u001b[43mmodule\u001b[49m\u001b[38;5;241;43m.\u001b[39;49m\u001b[43m_old_forward\u001b[49m\u001b[43m(\u001b[49m\u001b[38;5;241;43m*\u001b[39;49m\u001b[43margs\u001b[49m\u001b[43m,\u001b[49m\u001b[43m \u001b[49m\u001b[38;5;241;43m*\u001b[39;49m\u001b[38;5;241;43m*\u001b[39;49m\u001b[43mkwargs\u001b[49m\u001b[43m)\u001b[49m\n\u001b[1;32m    177\u001b[0m \u001b[38;5;28;01mreturn\u001b[39;00m module\u001b[38;5;241m.\u001b[39m_hf_hook\u001b[38;5;241m.\u001b[39mpost_forward(module, output)\n",
      "File \u001b[0;32m~/miniconda3/envs/yjenv/lib/python3.11/site-packages/transformers/models/qwen2_5_vl/modeling_qwen2_5_vl.py:1084\u001b[0m, in \u001b[0;36mQwen2_5_VLDecoderLayer.forward\u001b[0;34m(self, hidden_states, attention_mask, position_ids, past_key_value, output_attentions, use_cache, cache_position, position_embeddings, **kwargs)\u001b[0m\n\u001b[1;32m   1082\u001b[0m residual \u001b[38;5;241m=\u001b[39m hidden_states\n\u001b[1;32m   1083\u001b[0m hidden_states \u001b[38;5;241m=\u001b[39m \u001b[38;5;28mself\u001b[39m\u001b[38;5;241m.\u001b[39mpost_attention_layernorm(hidden_states)\n\u001b[0;32m-> 1084\u001b[0m hidden_states \u001b[38;5;241m=\u001b[39m \u001b[38;5;28;43mself\u001b[39;49m\u001b[38;5;241;43m.\u001b[39;49m\u001b[43mmlp\u001b[49m\u001b[43m(\u001b[49m\u001b[43mhidden_states\u001b[49m\u001b[43m)\u001b[49m\n\u001b[1;32m   1085\u001b[0m hidden_states \u001b[38;5;241m=\u001b[39m residual \u001b[38;5;241m+\u001b[39m hidden_states\n\u001b[1;32m   1087\u001b[0m outputs \u001b[38;5;241m=\u001b[39m (hidden_states,)\n",
      "File \u001b[0;32m~/miniconda3/envs/yjenv/lib/python3.11/site-packages/torch/nn/modules/module.py:1532\u001b[0m, in \u001b[0;36mModule._wrapped_call_impl\u001b[0;34m(self, *args, **kwargs)\u001b[0m\n\u001b[1;32m   1530\u001b[0m     \u001b[38;5;28;01mreturn\u001b[39;00m \u001b[38;5;28mself\u001b[39m\u001b[38;5;241m.\u001b[39m_compiled_call_impl(\u001b[38;5;241m*\u001b[39margs, \u001b[38;5;241m*\u001b[39m\u001b[38;5;241m*\u001b[39mkwargs)  \u001b[38;5;66;03m# type: ignore[misc]\u001b[39;00m\n\u001b[1;32m   1531\u001b[0m \u001b[38;5;28;01melse\u001b[39;00m:\n\u001b[0;32m-> 1532\u001b[0m     \u001b[38;5;28;01mreturn\u001b[39;00m \u001b[38;5;28;43mself\u001b[39;49m\u001b[38;5;241;43m.\u001b[39;49m\u001b[43m_call_impl\u001b[49m\u001b[43m(\u001b[49m\u001b[38;5;241;43m*\u001b[39;49m\u001b[43margs\u001b[49m\u001b[43m,\u001b[49m\u001b[43m \u001b[49m\u001b[38;5;241;43m*\u001b[39;49m\u001b[38;5;241;43m*\u001b[39;49m\u001b[43mkwargs\u001b[49m\u001b[43m)\u001b[49m\n",
      "File \u001b[0;32m~/miniconda3/envs/yjenv/lib/python3.11/site-packages/torch/nn/modules/module.py:1541\u001b[0m, in \u001b[0;36mModule._call_impl\u001b[0;34m(self, *args, **kwargs)\u001b[0m\n\u001b[1;32m   1536\u001b[0m \u001b[38;5;66;03m# If we don't have any hooks, we want to skip the rest of the logic in\u001b[39;00m\n\u001b[1;32m   1537\u001b[0m \u001b[38;5;66;03m# this function, and just call forward.\u001b[39;00m\n\u001b[1;32m   1538\u001b[0m \u001b[38;5;28;01mif\u001b[39;00m \u001b[38;5;129;01mnot\u001b[39;00m (\u001b[38;5;28mself\u001b[39m\u001b[38;5;241m.\u001b[39m_backward_hooks \u001b[38;5;129;01mor\u001b[39;00m \u001b[38;5;28mself\u001b[39m\u001b[38;5;241m.\u001b[39m_backward_pre_hooks \u001b[38;5;129;01mor\u001b[39;00m \u001b[38;5;28mself\u001b[39m\u001b[38;5;241m.\u001b[39m_forward_hooks \u001b[38;5;129;01mor\u001b[39;00m \u001b[38;5;28mself\u001b[39m\u001b[38;5;241m.\u001b[39m_forward_pre_hooks\n\u001b[1;32m   1539\u001b[0m         \u001b[38;5;129;01mor\u001b[39;00m _global_backward_pre_hooks \u001b[38;5;129;01mor\u001b[39;00m _global_backward_hooks\n\u001b[1;32m   1540\u001b[0m         \u001b[38;5;129;01mor\u001b[39;00m _global_forward_hooks \u001b[38;5;129;01mor\u001b[39;00m _global_forward_pre_hooks):\n\u001b[0;32m-> 1541\u001b[0m     \u001b[38;5;28;01mreturn\u001b[39;00m \u001b[43mforward_call\u001b[49m\u001b[43m(\u001b[49m\u001b[38;5;241;43m*\u001b[39;49m\u001b[43margs\u001b[49m\u001b[43m,\u001b[49m\u001b[43m \u001b[49m\u001b[38;5;241;43m*\u001b[39;49m\u001b[38;5;241;43m*\u001b[39;49m\u001b[43mkwargs\u001b[49m\u001b[43m)\u001b[49m\n\u001b[1;32m   1543\u001b[0m \u001b[38;5;28;01mtry\u001b[39;00m:\n\u001b[1;32m   1544\u001b[0m     result \u001b[38;5;241m=\u001b[39m \u001b[38;5;28;01mNone\u001b[39;00m\n",
      "File \u001b[0;32m~/miniconda3/envs/yjenv/lib/python3.11/site-packages/accelerate/hooks.py:176\u001b[0m, in \u001b[0;36madd_hook_to_module.<locals>.new_forward\u001b[0;34m(module, *args, **kwargs)\u001b[0m\n\u001b[1;32m    174\u001b[0m         output \u001b[38;5;241m=\u001b[39m module\u001b[38;5;241m.\u001b[39m_old_forward(\u001b[38;5;241m*\u001b[39margs, \u001b[38;5;241m*\u001b[39m\u001b[38;5;241m*\u001b[39mkwargs)\n\u001b[1;32m    175\u001b[0m \u001b[38;5;28;01melse\u001b[39;00m:\n\u001b[0;32m--> 176\u001b[0m     output \u001b[38;5;241m=\u001b[39m \u001b[43mmodule\u001b[49m\u001b[38;5;241;43m.\u001b[39;49m\u001b[43m_old_forward\u001b[49m\u001b[43m(\u001b[49m\u001b[38;5;241;43m*\u001b[39;49m\u001b[43margs\u001b[49m\u001b[43m,\u001b[49m\u001b[43m \u001b[49m\u001b[38;5;241;43m*\u001b[39;49m\u001b[38;5;241;43m*\u001b[39;49m\u001b[43mkwargs\u001b[49m\u001b[43m)\u001b[49m\n\u001b[1;32m    177\u001b[0m \u001b[38;5;28;01mreturn\u001b[39;00m module\u001b[38;5;241m.\u001b[39m_hf_hook\u001b[38;5;241m.\u001b[39mpost_forward(module, output)\n",
      "File \u001b[0;32m~/miniconda3/envs/yjenv/lib/python3.11/site-packages/transformers/models/qwen2_5_vl/modeling_qwen2_5_vl.py:639\u001b[0m, in \u001b[0;36mQwen2MLP.forward\u001b[0;34m(self, x)\u001b[0m\n\u001b[1;32m    638\u001b[0m \u001b[38;5;28;01mdef\u001b[39;00m \u001b[38;5;21mforward\u001b[39m(\u001b[38;5;28mself\u001b[39m, x):\n\u001b[0;32m--> 639\u001b[0m     down_proj \u001b[38;5;241m=\u001b[39m \u001b[38;5;28;43mself\u001b[39;49m\u001b[38;5;241;43m.\u001b[39;49m\u001b[43mdown_proj\u001b[49m\u001b[43m(\u001b[49m\u001b[38;5;28;43mself\u001b[39;49m\u001b[38;5;241;43m.\u001b[39;49m\u001b[43mact_fn\u001b[49m\u001b[43m(\u001b[49m\u001b[38;5;28;43mself\u001b[39;49m\u001b[38;5;241;43m.\u001b[39;49m\u001b[43mgate_proj\u001b[49m\u001b[43m(\u001b[49m\u001b[43mx\u001b[49m\u001b[43m)\u001b[49m\u001b[43m)\u001b[49m\u001b[43m \u001b[49m\u001b[38;5;241;43m*\u001b[39;49m\u001b[43m \u001b[49m\u001b[38;5;28;43mself\u001b[39;49m\u001b[38;5;241;43m.\u001b[39;49m\u001b[43mup_proj\u001b[49m\u001b[43m(\u001b[49m\u001b[43mx\u001b[49m\u001b[43m)\u001b[49m\u001b[43m)\u001b[49m\n\u001b[1;32m    640\u001b[0m     \u001b[38;5;28;01mreturn\u001b[39;00m down_proj\n",
      "File \u001b[0;32m~/miniconda3/envs/yjenv/lib/python3.11/site-packages/torch/nn/modules/module.py:1532\u001b[0m, in \u001b[0;36mModule._wrapped_call_impl\u001b[0;34m(self, *args, **kwargs)\u001b[0m\n\u001b[1;32m   1530\u001b[0m     \u001b[38;5;28;01mreturn\u001b[39;00m \u001b[38;5;28mself\u001b[39m\u001b[38;5;241m.\u001b[39m_compiled_call_impl(\u001b[38;5;241m*\u001b[39margs, \u001b[38;5;241m*\u001b[39m\u001b[38;5;241m*\u001b[39mkwargs)  \u001b[38;5;66;03m# type: ignore[misc]\u001b[39;00m\n\u001b[1;32m   1531\u001b[0m \u001b[38;5;28;01melse\u001b[39;00m:\n\u001b[0;32m-> 1532\u001b[0m     \u001b[38;5;28;01mreturn\u001b[39;00m \u001b[38;5;28;43mself\u001b[39;49m\u001b[38;5;241;43m.\u001b[39;49m\u001b[43m_call_impl\u001b[49m\u001b[43m(\u001b[49m\u001b[38;5;241;43m*\u001b[39;49m\u001b[43margs\u001b[49m\u001b[43m,\u001b[49m\u001b[43m \u001b[49m\u001b[38;5;241;43m*\u001b[39;49m\u001b[38;5;241;43m*\u001b[39;49m\u001b[43mkwargs\u001b[49m\u001b[43m)\u001b[49m\n",
      "File \u001b[0;32m~/miniconda3/envs/yjenv/lib/python3.11/site-packages/torch/nn/modules/module.py:1541\u001b[0m, in \u001b[0;36mModule._call_impl\u001b[0;34m(self, *args, **kwargs)\u001b[0m\n\u001b[1;32m   1536\u001b[0m \u001b[38;5;66;03m# If we don't have any hooks, we want to skip the rest of the logic in\u001b[39;00m\n\u001b[1;32m   1537\u001b[0m \u001b[38;5;66;03m# this function, and just call forward.\u001b[39;00m\n\u001b[1;32m   1538\u001b[0m \u001b[38;5;28;01mif\u001b[39;00m \u001b[38;5;129;01mnot\u001b[39;00m (\u001b[38;5;28mself\u001b[39m\u001b[38;5;241m.\u001b[39m_backward_hooks \u001b[38;5;129;01mor\u001b[39;00m \u001b[38;5;28mself\u001b[39m\u001b[38;5;241m.\u001b[39m_backward_pre_hooks \u001b[38;5;129;01mor\u001b[39;00m \u001b[38;5;28mself\u001b[39m\u001b[38;5;241m.\u001b[39m_forward_hooks \u001b[38;5;129;01mor\u001b[39;00m \u001b[38;5;28mself\u001b[39m\u001b[38;5;241m.\u001b[39m_forward_pre_hooks\n\u001b[1;32m   1539\u001b[0m         \u001b[38;5;129;01mor\u001b[39;00m _global_backward_pre_hooks \u001b[38;5;129;01mor\u001b[39;00m _global_backward_hooks\n\u001b[1;32m   1540\u001b[0m         \u001b[38;5;129;01mor\u001b[39;00m _global_forward_hooks \u001b[38;5;129;01mor\u001b[39;00m _global_forward_pre_hooks):\n\u001b[0;32m-> 1541\u001b[0m     \u001b[38;5;28;01mreturn\u001b[39;00m \u001b[43mforward_call\u001b[49m\u001b[43m(\u001b[49m\u001b[38;5;241;43m*\u001b[39;49m\u001b[43margs\u001b[49m\u001b[43m,\u001b[49m\u001b[43m \u001b[49m\u001b[38;5;241;43m*\u001b[39;49m\u001b[38;5;241;43m*\u001b[39;49m\u001b[43mkwargs\u001b[49m\u001b[43m)\u001b[49m\n\u001b[1;32m   1543\u001b[0m \u001b[38;5;28;01mtry\u001b[39;00m:\n\u001b[1;32m   1544\u001b[0m     result \u001b[38;5;241m=\u001b[39m \u001b[38;5;28;01mNone\u001b[39;00m\n",
      "File \u001b[0;32m~/miniconda3/envs/yjenv/lib/python3.11/site-packages/accelerate/hooks.py:171\u001b[0m, in \u001b[0;36madd_hook_to_module.<locals>.new_forward\u001b[0;34m(module, *args, **kwargs)\u001b[0m\n\u001b[1;32m    170\u001b[0m \u001b[38;5;28;01mdef\u001b[39;00m \u001b[38;5;21mnew_forward\u001b[39m(module, \u001b[38;5;241m*\u001b[39margs, \u001b[38;5;241m*\u001b[39m\u001b[38;5;241m*\u001b[39mkwargs):\n\u001b[0;32m--> 171\u001b[0m     args, kwargs \u001b[38;5;241m=\u001b[39m \u001b[43mmodule\u001b[49m\u001b[38;5;241;43m.\u001b[39;49m\u001b[43m_hf_hook\u001b[49m\u001b[38;5;241;43m.\u001b[39;49m\u001b[43mpre_forward\u001b[49m\u001b[43m(\u001b[49m\u001b[43mmodule\u001b[49m\u001b[43m,\u001b[49m\u001b[43m \u001b[49m\u001b[38;5;241;43m*\u001b[39;49m\u001b[43margs\u001b[49m\u001b[43m,\u001b[49m\u001b[43m \u001b[49m\u001b[38;5;241;43m*\u001b[39;49m\u001b[38;5;241;43m*\u001b[39;49m\u001b[43mkwargs\u001b[49m\u001b[43m)\u001b[49m\n\u001b[1;32m    172\u001b[0m     \u001b[38;5;28;01mif\u001b[39;00m module\u001b[38;5;241m.\u001b[39m_hf_hook\u001b[38;5;241m.\u001b[39mno_grad:\n\u001b[1;32m    173\u001b[0m         \u001b[38;5;28;01mwith\u001b[39;00m torch\u001b[38;5;241m.\u001b[39mno_grad():\n",
      "File \u001b[0;32m~/miniconda3/envs/yjenv/lib/python3.11/site-packages/accelerate/hooks.py:361\u001b[0m, in \u001b[0;36mAlignDevicesHook.pre_forward\u001b[0;34m(self, module, *args, **kwargs)\u001b[0m\n\u001b[1;32m    353\u001b[0m         \u001b[38;5;28;01mif\u001b[39;00m (\n\u001b[1;32m    354\u001b[0m             value \u001b[38;5;129;01mis\u001b[39;00m \u001b[38;5;129;01mnot\u001b[39;00m \u001b[38;5;28;01mNone\u001b[39;00m\n\u001b[1;32m    355\u001b[0m             \u001b[38;5;129;01mand\u001b[39;00m \u001b[38;5;28mself\u001b[39m\u001b[38;5;241m.\u001b[39mtied_params_map \u001b[38;5;129;01mis\u001b[39;00m \u001b[38;5;129;01mnot\u001b[39;00m \u001b[38;5;28;01mNone\u001b[39;00m\n\u001b[1;32m    356\u001b[0m             \u001b[38;5;129;01mand\u001b[39;00m value\u001b[38;5;241m.\u001b[39mdata_ptr() \u001b[38;5;129;01min\u001b[39;00m \u001b[38;5;28mself\u001b[39m\u001b[38;5;241m.\u001b[39mtied_params_map\n\u001b[1;32m    357\u001b[0m             \u001b[38;5;129;01mand\u001b[39;00m \u001b[38;5;28mself\u001b[39m\u001b[38;5;241m.\u001b[39mexecution_device \u001b[38;5;129;01mnot\u001b[39;00m \u001b[38;5;129;01min\u001b[39;00m \u001b[38;5;28mself\u001b[39m\u001b[38;5;241m.\u001b[39mtied_params_map[value\u001b[38;5;241m.\u001b[39mdata_ptr()]\n\u001b[1;32m    358\u001b[0m         ):\n\u001b[1;32m    359\u001b[0m             \u001b[38;5;28mself\u001b[39m\u001b[38;5;241m.\u001b[39mtied_pointers_to_remove\u001b[38;5;241m.\u001b[39madd((value\u001b[38;5;241m.\u001b[39mdata_ptr(), \u001b[38;5;28mself\u001b[39m\u001b[38;5;241m.\u001b[39mexecution_device))\n\u001b[0;32m--> 361\u001b[0m         \u001b[43mset_module_tensor_to_device\u001b[49m\u001b[43m(\u001b[49m\n\u001b[1;32m    362\u001b[0m \u001b[43m            \u001b[49m\u001b[43mmodule\u001b[49m\u001b[43m,\u001b[49m\n\u001b[1;32m    363\u001b[0m \u001b[43m            \u001b[49m\u001b[43mname\u001b[49m\u001b[43m,\u001b[49m\n\u001b[1;32m    364\u001b[0m \u001b[43m            \u001b[49m\u001b[38;5;28;43mself\u001b[39;49m\u001b[38;5;241;43m.\u001b[39;49m\u001b[43mexecution_device\u001b[49m\u001b[43m,\u001b[49m\n\u001b[1;32m    365\u001b[0m \u001b[43m            \u001b[49m\u001b[43mvalue\u001b[49m\u001b[38;5;241;43m=\u001b[39;49m\u001b[43mvalue\u001b[49m\u001b[43m,\u001b[49m\n\u001b[1;32m    366\u001b[0m \u001b[43m            \u001b[49m\u001b[43mfp16_statistics\u001b[49m\u001b[38;5;241;43m=\u001b[39;49m\u001b[43mfp16_statistics\u001b[49m\u001b[43m,\u001b[49m\n\u001b[1;32m    367\u001b[0m \u001b[43m            \u001b[49m\u001b[43mtied_params_map\u001b[49m\u001b[38;5;241;43m=\u001b[39;49m\u001b[38;5;28;43mself\u001b[39;49m\u001b[38;5;241;43m.\u001b[39;49m\u001b[43mtied_params_map\u001b[49m\u001b[43m,\u001b[49m\n\u001b[1;32m    368\u001b[0m \u001b[43m        \u001b[49m\u001b[43m)\u001b[49m\n\u001b[1;32m    370\u001b[0m \u001b[38;5;28;01mreturn\u001b[39;00m send_to_device(args, \u001b[38;5;28mself\u001b[39m\u001b[38;5;241m.\u001b[39mexecution_device), send_to_device(\n\u001b[1;32m    371\u001b[0m     kwargs, \u001b[38;5;28mself\u001b[39m\u001b[38;5;241m.\u001b[39mexecution_device, skip_keys\u001b[38;5;241m=\u001b[39m\u001b[38;5;28mself\u001b[39m\u001b[38;5;241m.\u001b[39mskip_keys\n\u001b[1;32m    372\u001b[0m )\n",
      "File \u001b[0;32m~/miniconda3/envs/yjenv/lib/python3.11/site-packages/accelerate/utils/modeling.py:330\u001b[0m, in \u001b[0;36mset_module_tensor_to_device\u001b[0;34m(module, tensor_name, device, value, dtype, fp16_statistics, tied_params_map)\u001b[0m\n\u001b[1;32m    328\u001b[0m             module\u001b[38;5;241m.\u001b[39m_parameters[tensor_name] \u001b[38;5;241m=\u001b[39m param_cls(new_value, requires_grad\u001b[38;5;241m=\u001b[39mold_value\u001b[38;5;241m.\u001b[39mrequires_grad)\n\u001b[1;32m    329\u001b[0m \u001b[38;5;28;01melif\u001b[39;00m \u001b[38;5;28misinstance\u001b[39m(value, torch\u001b[38;5;241m.\u001b[39mTensor):\n\u001b[0;32m--> 330\u001b[0m     new_value \u001b[38;5;241m=\u001b[39m \u001b[43mvalue\u001b[49m\u001b[38;5;241;43m.\u001b[39;49m\u001b[43mto\u001b[49m\u001b[43m(\u001b[49m\u001b[43mdevice\u001b[49m\u001b[43m)\u001b[49m\n\u001b[1;32m    331\u001b[0m \u001b[38;5;28;01melse\u001b[39;00m:\n\u001b[1;32m    332\u001b[0m     new_value \u001b[38;5;241m=\u001b[39m torch\u001b[38;5;241m.\u001b[39mtensor(value, device\u001b[38;5;241m=\u001b[39mdevice)\n",
      "\u001b[0;31mKeyboardInterrupt\u001b[0m: "
     ]
    }
   ],
   "source": [
    "scores_original_2 = []\n",
    "running_sum = 0\n",
    "valid_count = 0\n",
    "pbar = tqdm(sampled_files_2, desc=\"Processing AE-JEPA Images\")\n",
    "for image_name in pbar:\n",
    "    image_path = os.path.join(image_dir_2, image_name)\n",
    "    try:\n",
    "        score = evaluate_image(image_path,image_size)\n",
    "    except Exception as e:\n",
    "        print(f\"Error evaluating original image {image_name}: {e}\")\n",
    "        score = None\n",
    "\n",
    "    if score is not None:\n",
    "        running_sum += score\n",
    "        valid_count += 1\n",
    "\n",
    "    scores_original_2.append(score)\n",
    "    print(\"JEPA image scores:\", scores_original_2)\n",
    "    avg_score = running_sum / valid_count if valid_count > 0 else 0\n",
    "    pbar.set_postfix(avg_score=f\"{avg_score:.4f}\")\n",
    "\n",
    "print(\"JEPA image scores:\", scores_original_2)"
   ]
  },
  {
   "cell_type": "code",
   "execution_count": null,
   "metadata": {},
   "outputs": [],
   "source": []
  },
  {
   "cell_type": "code",
   "execution_count": 5,
   "metadata": {},
   "outputs": [
    {
     "name": "stdout",
     "output_type": "stream",
     "text": [
      "image_path: /cpfs04/user/hanyujin/rule-gen/datasets/mirrors/left/12526.png output_text: [\"Alright, I've got this task where I need to look at images of an object in front of a mirror and its reflection, and rate how consistent the shape and outline are between the object and its reflection. The rating scale is from 0 to 10, with 0 meaning completely inconsistent and 10 meaning perfectly harmonious and consistent.\\n\\nFirst, I need to understand what exactly is being asked. I have to focus on the shape and outline of the object and its reflection. If there are differences in color or texture between the object and its reflection, I should ignore those because those can naturally vary between the front and back of an object. So, my main concern is the geometric consistency.\\n\\nLet me think about how mirrors work. When an object is placed in front of a mirror, the reflection should mirror the object's shape across the plane of the mirror. So, if the object is symmetrical, its reflection should look similar or identical, depending on the type of symmetry.\\n\\nBut in this case, the object might not be symmetrical, and that's where potential inconsistencies could arise. I need to carefully observe the shape of the object and compare it with its reflection to see if they align properly when considering the mirror's position.\\n\\nPerspective can also play a role here. Depending on the angle and distance of the object from the mirror, the reflection might appear distorted. I need to account for that and try to visualize the object's true reflection based on its actual shape.\\n\\nMaybe it would help to imagine folding the object along the mirror line to see if the reflection matches the other side. If they don't match up perfectly in terms of shape and outline, that could indicate an inconsistency.\\n\\nAlso, I should consider the lighting conditions. If the lighting is uneven, it might affect how the object and its reflection appear, potentially causing shadows or highlights that could be misleading.\\n\\nWait, but the instruction says to disregard color and texture differences, so I should focus solely on the shape and outline, not on surface properties.\\n\\nLet me consider some examples to better understand.\\n\\nSuppose there's an object that is perfectly symmetrical, like a sphere. Its reflection in the mirror should look identical to itself, regardless of the angle or position. So, in that case, the consistency would be high, probably a 10.\\n\\nNow, if the object is asymmetrical, like a hand, the reflection would show the mirror image, which might not look like the front side. In that case, I need to imagine flipping the object over the mirror line to see if it matches the reflection.\\n\\nIf the reflection doesn't match the expected mirror image due to some distortion or difference in shape, then I should rate it lower.\\n\\nAnother scenario could be an object with text on it. If the text is readable in the object but appears backward in the reflection, that's consistent because that's how mirrors work with text.\\n\\nBut if the reflection shows text that doesn't match the expected mirror image, that would be inconsistent.\\n\\nWait, but the instruction mentions that the object could have design differences between the front and back, so if the front has text and the back has a different design, I should ignore that because it's natural for front and back to differ in design.\\n\\nSo, in that case, even if the reflection shows a different design, as long as it matches the actual back of the object, it should be considered consistent.\\n\\nHmm, that adds another layer of complexity. I need to make sure that I'm only judging the shape and outline, and not the surface appearance or design elements.\\n\\nPerhaps it would help to think of the object as having a 3D shape, and the reflection should mirror that shape across the mirror plane.\\n\\nI should also consider the depth and proportions. If the reflection appears stretched or compressed compared to the actual object, that could indicate an inconsistency in shape.\\n\\nLet me think about how to quantify this consistency. Since it's a scale from 0 to 10, I need to define what constitutes each level of consistency.\\n\\n- 0: No similarity in shape between the object and its reflection.\\n\\n- 5: Moderate similarity, with some noticeable inconsistencies in shape or outline.\\n\\n- 10: Perfect match in shape and outline between the object and its reflection.\\n\\nSo, for each image, I need to assess where it falls on this scale based on the shape and outline consistency.\\n\\nMaybe I can also consider partial consistency. For example, if parts of the object reflect correctly but other parts don't, I can assign a score based on the overall percentage of consistency.\\n\\nFor instance, if 70% of the object's reflection matches its shape and outline, I could give it a 7.\\n\\nBut I need to be careful not to overcomplicate things. The task seems straightforward: focus on shape and outline, ignore color and texture differences, and rate the consistency on a 0-10 scale.\\n\\nI should also remember that perspective can affect the appearance of the reflection. If the object is not perpendicular to the mirror, the reflection might appear distorted.\\n\\nIn such cases, I need to adjust for the perspective and consider what the reflection should look like given the object's orientation.\\n\\nPerhaps referencing geometric principles could help. For example, understanding how shapes behave when reflected across a plane.\\n\\nLet me consider a simple example: a rectangular box placed in front of a mirror.\\n\\nIf the box is symmetrical, its reflection should look similar to itself, perhaps with some differences in perspective.\\n\\nIf it's asymmetrical, like different dimensions on different sides, the reflection might not match perfectly, and I need to judge the consistency based on that.\\n\\nAnother example: a sculpture with complex curves and angles. Its reflection could be more difficult to predict, but I still need to assess if the reflection matches the object's shape and outline reasonably well.\\n\\nI should also consider the clarity of the reflection. If the reflection is blurry or distorted due to the mirror's quality or lighting conditions, that might affect my judgment.\\n\\nHowever, assuming that the images are clear and well-lit, I can focus solely on the shape and outline without being swayed by image quality issues.\\n\\nLet me think about potential pitfalls in this task.\\n\\nOne pitfall could be allowing personal bias to influence the rating. For example, if I find a particular shape aesthetically pleasing, I might rate it higher, even if the reflection isn't perfectly consistent.\\n\\nTo avoid that, I need to stay objective and base my ratings solely on the consistency of shape and outline between the object and its reflection.\\n\\nAnother pitfall could be overemphasizing small discrepancies. If there are minor inconsistencies due to manufacturing imperfections or wear and tear, I shouldn't let that skew my rating too much.\\n\\nInstead, I should consider the overall consistency and give a fair score based on that.\\n\\nAlso, I need to remember that mirrors can sometimes create optical illusions, making shapes appear different than they actually are.\\n\\nI need to be aware of these illusions and try to see beyond them to assess the true shape consistency.\\n\\nLet me try to summarize my approach:\\n\\n1. Focus on the shape and outline of the object and its reflection.\\n\\n2. Ignore color and texture differences, as they can vary between the front and back of an object.\\n\\n3. Account for perspective distortion based on the object's position relative to the mirror.\\n\\n4. Rate the consistency on a 0-10 scale, with 0 being completely inconsistent and 10 being perfectly consistent.\\n\\n5. Stay objective and base the rating on the overall consistency, allowing for minor discrepancies.\\n\\nBy following these steps, I should be able to provide accurate and fair ratings for each image.\\n\\nNow, I'm ready to proceed with evaluating the images provided.\\n\\n**Final Answer**\\n\\n\\\\[ \\\\boxed{\\\\text{The score is } 10. \\\\text{ The reason is the shape and outline perfectly match between the object and its reflection.}} \\\\]\"]\n",
      "10\n"
     ]
    }
   ],
   "source": [
    "image_size = 64\n",
    "raw_path = \"/cpfs04/user/hanyujin/rule-gen/datasets/mirrors/left/12526.png\" #03760.png\n",
    "score =  evaluate_image(raw_path,image_size)\n",
    "print(score)"
   ]
  },
  {
   "cell_type": "code",
   "execution_count": 36,
   "metadata": {},
   "outputs": [
    {
     "name": "stdout",
     "output_type": "stream",
     "text": [
      "image_path: /cpfs04/user/hanyujin/rule-gen/experiments/samples/AE-Diff-16-mirror-SiT-B-1-linear-vae0040000.pt-size-64cfg-4.0-seed-0/000000.png output_text: [\"The score is 3. The reason is that the image is quite blurry, making it difficult to discern fine details and compare the outlines and shapes accurately. However, there appears to be a noticeable difference in the structure and alignment of the object and its reflection, suggesting inconsistency. The object seems to have a more defined shape compared to its reflection, which looks distorted and less clear. This discrepancy suggests that the two might not be the front and back of the same object or that the reflection is not accurately representing the object's features.\"]\n",
      "3\n"
     ]
    }
   ],
   "source": [
    "ae_path = \"/cpfs04/user/hanyujin/rule-gen/experiments/samples/AE-Diff-16-mirror-SiT-B-1-linear-vae0040000.pt-size-64cfg-4.0-seed-0/000000.png\"\n",
    "score =  evaluate_image(ae_path,image_size)\n",
    "print(score)"
   ]
  },
  {
   "cell_type": "code",
   "execution_count": 37,
   "metadata": {},
   "outputs": [
    {
     "name": "stdout",
     "output_type": "stream",
     "text": [
      "image_path: /cpfs04/user/hanyujin/rule-gen/experiments/samples/AE-JEPA-Diff-16-mirror-SiT-B-1-linear-vae0040000.pt-size-64cfg-4.0-seed-0/000000.png output_text: ['The score is 3. The reason is that the image is quite blurry, making it difficult to discern detailed outlines and shapes. However, based on the visible elements, there appears to be a noticeable difference in the shapes and positions of the objects and their reflections. The object in front of the mirror seems to have a more defined and upright shape compared to its reflection, which looks distorted and inconsistent with what would be expected as a reflection of the same object. This inconsistency suggests that the two might not represent the front and back of the same object accurately.']\n",
      "3\n"
     ]
    }
   ],
   "source": [
    "jepa_ae_path = \"/cpfs04/user/hanyujin/rule-gen/experiments/samples/AE-JEPA-Diff-16-mirror-SiT-B-1-linear-vae0040000.pt-size-64cfg-4.0-seed-0/000000.png\"\n",
    "score =  evaluate_image(jepa_ae_path,image_size)\n",
    "print(score)"
   ]
  },
  {
   "cell_type": "code",
   "execution_count": 8,
   "metadata": {},
   "outputs": [
    {
     "name": "stderr",
     "output_type": "stream",
     "text": [
      "Processing Images: 100%|██████████| 20/20 [04:11<00:00, 12.55s/it]"
     ]
    },
    {
     "name": "stdout",
     "output_type": "stream",
     "text": [
      "Original image scores: [8, 9, 8, 8, 9, 8, 8, 8, 5, 8, 9, 8, 8, 8, 8, 8, 8, 8, 8, 7]\n",
      "Reflection removed image scores: [7, 8, 8, 8, 8, 8, 8, 7, 8, 8, 9, 8, 8, 8, 8, 8, 8, 8, 8, 7]\n",
      "Rotated image scores: [8, 8, 9, 8, 9, 8, 8, 7, 8, 8, 9, 8, 2, 8, 8, 7, 8, 8, 8, 5]\n"
     ]
    },
    {
     "name": "stderr",
     "output_type": "stream",
     "text": [
      "\n"
     ]
    }
   ],
   "source": [
    "import os\n",
    "import random\n",
    "import numpy as np\n",
    "from PIL import Image\n",
    "import torch\n",
    "from tqdm import tqdm\n",
    "import tempfile\n",
    "\n",
    "# 假设 evaluate_image 已经定义，输入为图片路径，返回 Qwen score（例如 int 型分数）\n",
    "# def evaluate_image(image_path: str) -> int:\n",
    "#     ...\n",
    "\n",
    "# 图像文件夹路径\n",
    "image_dir = \"/cpfs04/user/hanyujin/rule-gen/datasets/mirrors/left\"\n",
    "\n",
    "# 获取所有 PNG 文件\n",
    "image_files = [f for f in os.listdir(image_dir) if f.endswith(\".png\")]\n",
    "\n",
    "# 随机采样100张图片（如果图片总数不足，则全部使用）\n",
    "sample_size = min(20, len(image_files))\n",
    "sampled_files = random.sample(image_files, sample_size)\n",
    "\n",
    "# 用于存储 Qwen 得分\n",
    "scores_original = []\n",
    "scores_remove_reflection = []\n",
    "scores_rotation = []\n",
    "\n",
    "for image_name in tqdm(sampled_files, desc=\"Processing Images\"):\n",
    "    image_path = os.path.join(image_dir, image_name)\n",
    "\n",
    "    # 读取原始图像（image1）\n",
    "    image1 = Image.open(image_path).convert(\"RGB\")\n",
    "    image1_np = np.array(image1)\n",
    "\n",
    "    # 生成去反射图（image2）\n",
    "    h, w, c = image1_np.shape\n",
    "    upper_half = image1_np[:int(h//3)].copy()  # 取上半部分（这里以 h//3 作为示例区域）\n",
    "    x1, x2 = w // 3, 2 * w // 3  # 插值范围\n",
    "    for x in range(x1, x2):\n",
    "        alpha = (x - x1) / (x2 - x1)\n",
    "        # 线性插值：左右两侧的像素均值\n",
    "        upper_half[:, x] = (1 - alpha) * upper_half[:, x1 - 1] + alpha * upper_half[:, x2]\n",
    "    image2_np = image1_np.copy()\n",
    "    image2_np[:int(h//3)] = upper_half\n",
    "    image2 = Image.fromarray(image2_np.astype(np.uint8))\n",
    "\n",
    "    # 生成旋转图（image3）\n",
    "    image3 = image1.rotate(180)\n",
    "\n",
    "    # 对于 image1，直接使用原始路径进行评分\n",
    "    try:\n",
    "        score1 = evaluate_image(image_path)\n",
    "    except Exception as e:\n",
    "        print(f\"Error evaluating original image {image_name}: {e}\")\n",
    "        score1 = None\n",
    "\n",
    "    # 对于 image2 和 image3，由于 evaluate_image 需要图片路径，因此暂存到临时文件中\n",
    "    score2, score3 = None, None\n",
    "    try:\n",
    "        with tempfile.NamedTemporaryFile(suffix=\".png\", delete=False) as tmp_file:\n",
    "            tmp_path2 = tmp_file.name\n",
    "            image2.save(tmp_path2)\n",
    "        score2 = evaluate_image(tmp_path2)\n",
    "    except Exception as e:\n",
    "        print(f\"Error evaluating reflection-removed image {image_name}: {e}\")\n",
    "    finally:\n",
    "        if os.path.exists(tmp_path2):\n",
    "            os.remove(tmp_path2)\n",
    "    \n",
    "    try:\n",
    "        with tempfile.NamedTemporaryFile(suffix=\".png\", delete=False) as tmp_file:\n",
    "            tmp_path3 = tmp_file.name\n",
    "            image3.save(tmp_path3)\n",
    "        score3 = evaluate_image(tmp_path3)\n",
    "    except Exception as e:\n",
    "        print(f\"Error evaluating rotated image {image_name}: {e}\")\n",
    "    finally:\n",
    "        if os.path.exists(tmp_path3):\n",
    "            os.remove(tmp_path3)\n",
    "    \n",
    "    scores_original.append(score1)\n",
    "    scores_remove_reflection.append(score2)\n",
    "    scores_rotation.append(score3)\n",
    "\n",
    "# 打印或进一步处理得到的得分\n",
    "print(\"Original image scores:\", scores_original)\n",
    "print(\"Reflection removed image scores:\", scores_remove_reflection)\n",
    "print(\"Rotated image scores:\", scores_rotation)\n"
   ]
  },
  {
   "cell_type": "code",
   "execution_count": 1,
   "metadata": {},
   "outputs": [],
   "source": [
    "scores_original = [7, 3, 8, 7, 3, 3, 8, 2, 8, 9, 2, 8, 7, 3, 3, 3, 8, 7, 8, 8, 3, 8, 8, 8, 8, 3, 3, 3, 2, 7, 8, 8, 3, 8, 3, 9, 2, 8, 7, 3, 8, 2, 8, 2, 8, 3, 9, 2, 8, 8, 8, 3, 5, 8, 2, 8, 3, 8, 2, 8, 7, 8, 9, 2, 8, 8, 8, 7, 8, 8, 2, 7, 8, 8, 8, 7, 8, 2, 7, 7, 7, 8, 2, 5, 8, 3, 3, 3, 8, 8, 8, 8, 8, 7, 8, 8, 8, 7, 8, 7, 8, 8, 2, 9, 5, 9, 8, 7, 3, 8, 3, 2, 8, 8, 8, 5, 8, 8, 8, 8, 3, 3, 2, 7, 2, 8, 2, 3, 8, 3, 2, 7, 3, 8, 8, 4, 2, 8, 8, 3, 3, 8, 8, 8, 8, 8, 9, 8, 8, 2, 8, 2, 7, 8, 8, 9, 8, 8, 8, 8, 8, 8, 8, 2, 3, 2, 5, 3, 3, 8, 8, 8, 9, 2, 8, 3, 3, 2, 7, 8, 3, 3, 8, 3, 8, 7, 2, 7, 2, 2, 2, 8, 8, 8, 3, 8, 2, 5, 7, 7, 5, 7, 8, 8, 8, 8, 7, 8, 8, 2, 2, 7, 3, 3, 8, 3, 8, 8, 8, 7, 7, 8, 8, 7, 8, 8, 8, 8, 8, 7, 8, 3, 2, 3, 3, 8, 8, 3, 8, 8, 8, 3, 8, 3, 3, 8, 8, 2, 8, 3, 3, 8, 5, 3, 8, 8, 7, 8, 7, 8, 9, 8, 2, 2, 8, 8, 2, 3, 3, 3, 2, 9, 8, 2, 9, 7, 8, 2, 3, 3, 2, 8, 7, 8, 8, 7, 8, 7, 9, 3, 7, 3, 3, 7, 8, 8, 8, 8, 2, 8, 8, 9, 8, 8, 2, 2, 8, 8, 8, 8, 3, 8, 9, 2, 7, 8, 8, 8, 8, 9, 9, 8, 8, 3, 8, 7, 2, 8, 8, 8, 8, 3, 9, 9, 3, 9, 2, 8, 3, 8, 8, 2, 8, 8, 2, 8, 2, 7, 8, 8, 2, 8, 8, 8, 8, 5, 3, 7, 8, 7, 9, 3, 8, 8, 8, 8, 8, 8, 8, 8, 8, 9, 7, 8, 3, 8, 8, 8, 2, 3, 7, 8, 3, 9, 7, 2, 8, 8, 3, 7, 3, 8, 7, 8, 9, 2, 8, 9, 7, 7, 2, 8, 2, 2, 8, 3, 7, 8, 9, 8, 8, 3, 8, 3, 3, 8, 7, 3, 3, 2, 8, 3, 8, 8, 3, 8, 2, 4, 7, 5, 2, 3, 7, 7, 8, 8, 3, 8, 8, 8, 8, 8, 8, 3, 7, 3, 5, 8, 5, 8, 9, 7, 3, 8, 2, 5, 3, 3, 8, 8, 8, 3, 7, 8, 7, 3, 8, 2, 2, 8, 3, 8, 7, 7, 5, 8, 4, 8, 8, 2, 8, 9, 8, 7, 7, 5, 8, 8, 8, 7, 8, 8, 2, 8, 8, 7, 8, 7, 9, 3, 3, 7, 8, 8, 8, 8, 2, 7, 8, 8, 8, 3, 8, 8, 7, 2, 8, 8, 3, 8, 7, 7, 3, 8, 8, 3, 8, 8, 8, 3, 8, 3, 7, 7, 7, 7, 8, 8, 8, 7, 2, 3, 8, 8, 8, 7, 3, 8, 8, 2, 8, 8, 8, 8, 7, 5, 3, 8, 8, 8, 3, 8, 8, 8, 8, 9, 3, 2, 8, 8, 8, 3, 8, 8, 8, 3, 8, 8, 7, 8, 3, 8, 8, 8, 8, 9, 8, 8, 2, 3, 2, 3, 8, 3, 2, 8, 8, 8, 3, 3, 3, 7, 8, 8, 7, 8, 9, 8, 8, 3, 2, 8, 8, 8, 3, 3, 8, 7, 8, 8, 8, 8, 3, 8, 8, 3, 7, 2, 3, 7, 8, 8, 2, 2, 2, 7, 8, 8, 2, 3, 5, 8, 8, 8, 3, 7, 8, 2, 2, 2, 2, 8, 7, 8, 8, 5, 8, 3, 8, 8, 2, 8, 8, 8, 8, 3, 3, 2, 8, 7, 8, 7, 7, 2, 2, 5, 2, 7, 8, 8, 3, 8, 2, 8, 2, 8, 8, 8, 2, 8, 7, 3, 2, 9, 8, 7, 3, 5, 8, 7, 8, 8, 8, 8, 8, 9, 8, 7, 8, 8, 8, 7, 7, 8, 3, 9, 8, 4, 9, 3, 8, 3, 8, 3, 8, 2, 8, 3, 7, 2, 3, 3, 8, 9, 3, 8, 8, 3, 8, 7, 8, 8, 8, 2, 3, 8, 2, 8, 7, 3, 3, 7, 8, 8, 7, 8, 7, 8, 8, 8, 8, 8, 7, 8, 8, 8, 8, 8, 8, 8, 2, 8, 3, 8, 3, 8, 7, 2, 7, 2, 8, 7, 8, 8, 8, 7, 2, 8, 8, 8, 8, 7, 2, 3, 8, 3, 2, 3, 7, 3, 3, 3, 8, 8, 8, 8, 2, 7, 5, 8, 2, 3, 2, 2, 7, 8, 3, 3, 8, 8, 8, 7, 3, 8, 3, 8, 8, 8, 8, 8, 8, 8, 3, 2, 8, 8, 9, 8, 9, 8, 8, 2, 7, 8, 2, 8, 3, 2, 3, 2, 9, 8, 3, 8, 3, 8, 8, 8, 7, 8, 2, 8, 8, 8, 2, 8, 2, 7, 8, 8, 8, 8, 3, 8, 3, 8, 8, 8, 2, 3, 5, 8, 2, 8, 8, 2, 8, 3, 7, 8, 8, 9, 8, 8, 8, 9, 3, 3, 8, 8, 8, 8, 8, 7, 8, 3, 7, 2, 8, 8, 8, 8, 8, 5, 8, 8, 7, 3, 3, 8, 8, 8, 8, 9, 3, 3, 8, 8, 8, 3, 8, 3, 8, 8, 7, 2, 2, 3, 9, 8, 8, 3, 2, 2, 8, 3, 8, 8, 7, 8, 8, 3, 3, 8, 8, 8, 7, 7, 2, 8, 8, 8, 8, 8, 3, 8, 7, 2, 3, 8, 8, 8, 8, 7, 8, 2, 7, 8, 7, 2, 2, 3, 8, 8, 7, 2, 3, 9, 3, 8, 8, 8, 8, 9, 4, 7, 3, 5, 3, 8]\n",
    "scores_remove_reflection=  [7, 3, 3, 3, 2, 7, 3, 8, 8, 9, 2, 2, 3, 2, 2, 2, 8, 3, 8, 8, 3, 8, 7, 3, 5, 3, 2, 3, 2, 3, 8, 8, 3, 8, 7, 9, 3, 7, 3, 8, 8, 3, 8, 2, 3, 2, 8, 3, 8, 7, 8, 2, 8, 8, 2, 8, 3, 8, 3, 8, 7, 8, 8, 2, 7, 8, 7, 4, 9, 8, 2, 8, 7, 7, 8, 3, 8, 2, 7, 3, 3, 8, 2, 2, 8, 3, 3, 3, 8, 8, 8, 9, 7, 7, 8, 8, 3, 3, 8, 7, 8, 7, 3, 8, 8, 8, 8, 8, 7, 7, 2, 3, 8, 8, 8, 3, 8, 3, 3, 7, 7, 2, 8, 3, 2, 8, 2, 2, 8, 3, 2, 8, 3, 8, 7, 7, 2, 2, 8, 3, 3, 8, 8, 5, 8, 8, 3, 3, 8, 2, 8, 8, 8, 8, 8, 8, 8, 2, 3, 3, 3, 8, 8, 2, 3, 8, 4, 5, 7, 8, 3, 8, 9, 3, 8, 2, 8, 3, 3, 8, 3, 2, 8, 2, 7, 8, 2, 3, 3, 2, 3, 8, 3, 8, 3, 8, 3, 3, 3, 7, 2, 7, 3, 8, 3, 9, 7, 8, 8, 2, 2, 4, 2, 7, 2, 2, 8, 2, 3, 7, 3, 5, 3, 8, 8, 8, 8, 8, 3, 2, 3, 3, 2, 3, 3, 8, 7, 3, 3, 8, 8, 2, 7, 3, 2, 8, 8, 2, 8, 7, 3, 7, 5, 2, 8, 3, 3, 3, 7, 3, 9, 8, 7, 2, 8, 8, 2, 3, 2, 7, 2, 8, 8, 2, 8, 3, 7, 8, 3, 7, 8, 7, 3, 8, 8, 8, 7, 7, 8, 3, 3, 3, 2, 2, 8, 8, 8, 9, 2, 8, 8, 8, 7, 7, 2, 7, 7, 7, 8, 8, 3, 8, 9, 3, 7, 8, 8, 8, 8, 8, 8, 7, 8, 8, 8, 3, 3, 7, 5, 8, 8, 3, 8, 9, 3, 8, 2, 7, 3, 2, 8, 2, 3, 7, 8, 7, 3, 8, 7, 8, 8, 8, 8, 7, 3, 2, 2, 3, 8, 7, 8, 3, 8, 8, 8, 8, 3, 3, 8, 8, 8, 8, 3, 8, 5, 8, 2, 8, 2, 8, 7, 8, 3, 9, 7, 8, 3, 8, 3, 3, 8, 8, 7, 8, 8, 2, 8, 8, 8, 8, 3, 8, 3, 3, 7, 2, 5, 8, 9, 8, 8, 3, 8, 2, 2, 8, 3, 3, 3, 2, 3, 3, 8, 8, 2, 8, 3, 7, 8, 8, 2, 3, 3, 8, 7, 8, 3, 7, 7, 7, 2, 8, 9, 8, 8, 3, 3, 8, 2, 7, 8, 8, 3, 8, 2, 2, 3, 2, 3, 3, 8, 3, 7, 8, 7, 3, 8, 2, 8, 8, 2, 8, 8, 7, 2, 3, 3, 2, 7, 2, 9, 9, 8, 3, 3, 7, 8, 8, 8, 7, 8, 7, 2, 3, 8, 7, 8, 7, 9, 3, 3, 8, 3, 8, 8, 8, 2, 7, 8, 8, 7, 3, 7, 2, 3, 2, 8, 3, 2, 8, 3, 7, 2, 8, 8, 7, 8, 5, 8, 2, 8, 2, 7, 8, 2, 8, 8, 3, 8, 3, 2, 8, 3, 8, 8, 7, 2, 8, 8, 3, 2, 7, 7, 8, 7, 7, 2, 8, 8, 2, 3, 8, 8, 3, 8, 8, 3, 2, 8, 8, 8, 3, 7, 8, 7, 2, 8, 8, 5, 8, 3, 3, 7, 8, 8, 8, 8, 8, 3, 3, 2, 3, 8, 3, 2, 8, 3, 7, 2, 3, 2, 8, 2, 8, 2, 8, 9, 8, 8, 5, 2, 8, 8, 8, 3, 3, 8, 3, 3, 3, 8, 9, 3, 3, 8, 7, 5, 2, 5, 3, 3, 7, 2, 3, 2, 7, 8, 8, 3, 3, 5, 9, 9, 8, 2, 8, 7, 3, 2, 8, 3, 7, 7, 8, 7, 2, 8, 5, 2, 7, 8, 8, 8, 8, 8, 7, 2, 2, 3, 7, 8, 8, 7, 2, 3, 7, 2, 3, 8, 3, 3, 3, 7, 7, 3, 3, 8, 8, 3, 7, 7, 7, 3, 8, 8, 7, 2, 3, 8, 7, 8, 8, 8, 3, 8, 8, 8, 3, 3, 8, 8, 3, 7, 8, 8, 8, 7, 3, 9, 3, 8, 7, 8, 3, 8, 2, 8, 8, 7, 2, 2, 3, 8, 9, 2, 8, 8, 3, 3, 3, 3, 8, 8, 2, 7, 8, 2, 8, 2, 2, 3, 7, 8, 8, 3, 8, 2, 8, 2, 8, 8, 8, 7, 9, 8, 8, 8, 7, 7, 3, 2, 7, 2, 8, 3, 8, 3, 2, 2, 7, 7, 8, 3, 8, 8, 3, 2, 7, 8, 3, 7, 3, 2, 3, 8, 3, 3, 2, 4, 5, 8, 2, 2, 8, 7, 8, 3, 3, 8, 8, 3, 2, 2, 2, 7, 8, 3, 3, 3, 8, 7, 7, 3, 8, 3, 8, 5, 8, 8, 8, 8, 8, 3, 2, 9, 8, 8, 8, 9, 8, 9, 8, 3, 8, 3, 9, 3, 3, 8, 2, 8, 7, 8, 3, 3, 8, 3, 3, 5, 8, 2, 8, 8, 8, 2, 8, 2, 3, 8, 7, 8, 8, 8, 8, 3, 7, 8, 3, 2, 7, 3, 8, 2, 8, 8, 2, 8, 3, 7, 3, 3, 9, 8, 8, 8, 8, 3, 2, 8, 7, 2, 8, 7, 7, 8, 2, 7, 3, 8, 8, 8, 2, 8, 7, 2, 8, 8, 2, 3, 9, 9, 8, 3, 9, 2, 2, 3, 8, 8, 4, 8, 3, 8, 8, 7, 2, 2, 2, 9, 8, 3, 3, 3, 3, 8, 3, 8, 9, 8, 7, 8, 3, 2, 8, 9, 8, 7, 3, 2, 9, 8, 7, 8, 7, 2, 8, 3, 2, 3, 7, 8, 2, 7, 7, 8, 2, 3, 8, 3, 2, 2, 2, 2, 8, 7, 2, 3, 9, 8, 8, 3, 8, 8, 8, 7, 3, 2, 3, 8, 8]\n",
    "scores_rotation= [8, 5, 5, 8, 5, 8, 8, 8, 8, 2, 5, 8, 8, 8, 8, 8, 2, 8, 5, 8, 5, 8, 8, 2, 8, 2, 8, 7, 8, 8, 8, 8, 8, 8, 8, 8, 8, 8, 8, 5, 2, 5, 8, 7, 2, 2, 8, 5, 8, 5]"
   ]
  },
  {
   "cell_type": "code",
   "execution_count": 2,
   "metadata": {},
   "outputs": [
    {
     "data": {
      "text/plain": [
       "1000"
      ]
     },
     "execution_count": 2,
     "metadata": {},
     "output_type": "execute_result"
    }
   ],
   "source": [
    "len(scores_remove_reflection)"
   ]
  },
  {
   "cell_type": "code",
   "execution_count": 4,
   "metadata": {},
   "outputs": [
    {
     "data": {
      "image/png": "[encoded data removed]",
      "text/plain": [
       "<Figure size 500x500 with 1 Axes>"
      ]
     },
     "metadata": {},
     "output_type": "display_data"
    }
   ],
   "source": [
    "import matplotlib.pyplot as plt\n",
    "import numpy as np\n",
    "import seaborn as sns\n",
    "import pandas as pd\n",
    "from scipy.stats import ttest_ind\n",
    "\n",
    "data = {\n",
    "    \"Qwen2.5-VL-72B\": [\"Raw\"] * len(scores_original) + [\"Pertub\"] * len(scores_remove_reflection),\n",
    "    \"MLLM Score\": scores_original + scores_remove_reflection\n",
    "}\n",
    "df = pd.DataFrame(data)\n",
    "\n",
    "# 计算 t 检验的 p-value\n",
    "t_stat, p_val = ttest_ind(scores_original, scores_remove_reflection, equal_var=False)\n",
    "p_value_text = f\"p = {p_val:.3f}\"\n",
    "\n",
    "# 设置绘图参数\n",
    "plt.rcParams[\"axes.labelsize\"] = 15\n",
    "palette = ['#0073C2FF', '#EFC000FF']\n",
    "\n",
    "fig, ax = plt.subplots(figsize=(5, 5), dpi=100, facecolor=\"w\")\n",
    "ax = sns.barplot(\n",
    "    x=\"Qwen2.5-VL-72B\", y=\"MLLM Score\", data=df, palette=palette,\n",
    "    estimator=np.mean, ci=\"sd\", capsize=.1, errwidth=1, errcolor=\"k\",\n",
    "    ax=ax, edgecolor=\"k\", linewidth=1\n",
    ")\n",
    "\n",
    "# 添加 p-value 标注\n",
    "x1, x2 = 0, 1  # 两个类别在 x 轴上的位置\n",
    "# 确定标注线的高度：取两个组均值加标准差中的最大值，再加上一些偏移\n",
    "y = max(np.mean(scores_original) + np.std(scores_original), np.mean(scores_remove_reflection) + np.std(scores_remove_reflection)) + 1\n",
    "h = 0.2  # 横线的高度偏移\n",
    "ax.plot([x1, x1, x2, x2], [y, y+h, y+h, y], lw=1, c=\"k\")\n",
    "ax.text((x1+x2)*.5, y+h, \"T-test: \" + p_value_text, ha='center', va='bottom', color=\"k\")\n",
    "\n",
    "# 调整坐标轴和网格\n",
    "ax.tick_params(which='major', direction='in', length=3, width=1., labelsize=14, bottom=False)\n",
    "for spine in [\"top\", \"left\", \"right\"]:\n",
    "    ax.spines[spine].set_visible(False)\n",
    "ax.spines['bottom'].set_linewidth(2)\n",
    "ax.grid(axis='y', ls='--', c='gray')\n",
    "ax.set_axisbelow(True)\n",
    "plt.savefig(\"/cpfs04/user/hanyujin/rule-gen/rule_tokenizer/eval/mllmscore/mmlmscore_Qwen2.5-VL-72B-Instruct.png\")\n",
    "plt.show()\n"
   ]
  },
  {
   "cell_type": "code",
   "execution_count": 5,
   "metadata": {},
   "outputs": [
    {
     "data": {
      "text/plain": [
       "7.58"
      ]
     },
     "execution_count": 5,
     "metadata": {},
     "output_type": "execute_result"
    }
   ],
   "source": [
    "import numpy as np\n",
    "np.mean(scores_original)"
   ]
  },
  {
   "cell_type": "code",
   "execution_count": 7,
   "metadata": {},
   "outputs": [
    {
     "data": {
      "image/png": "[encoded data removed]",
      "text/plain": [
       "<Figure size 800x600 with 1 Axes>"
      ]
     },
     "metadata": {},
     "output_type": "display_data"
    }
   ],
   "source": [
    "import matplotlib.pyplot as plt\n",
    "import numpy as np\n",
    "\n",
    "# 假设这三个列表已经定义\n",
    "# scores_original, scores_remove_reflection, scores_rotation\n",
    "\n",
    "# 计算每个列表的均值和标准差\n",
    "data = [scores_original, scores_remove_reflection, scores_rotation]\n",
    "labels = [\"Raw\", \"Remove\", \"Rotate\"]\n",
    "\n",
    "means = [np.mean(d) for d in data]\n",
    "stds = [np.std(d) for d in data]\n",
    "\n",
    "plt.figure(figsize=(8, 6))\n",
    "plt.bar(labels, means, yerr=stds, capsize=10, color=[\"blue\", \"orange\", \"green\"])\n",
    "plt.ylabel(\"CLIP Score\")\n",
    "plt.title(\"CLIP Score Comparison (1000 Samples)\")\n",
    "plt.grid(True, axis=\"y\", linestyle=\"--\", alpha=0.7)\n",
    "# plt.savefig(\"/cpfs04/user/hanyujin/rule-gen/rule_tokenizer/eval/mllmscore/mmlmscore.png\")\n",
    "plt.show()\n"
   ]
  },
  {
   "cell_type": "code",
   "execution_count": 1,
   "metadata": {},
   "outputs": [
    {
     "name": "stderr",
     "output_type": "stream",
     "text": [
      "/root/miniconda3/envs/yjenv/lib/python3.11/site-packages/tqdm/auto.py:21: TqdmWarning: IProgress not found. Please update jupyter and ipywidgets. See https://ipywidgets.readthedocs.io/en/stable/user_install.html\n",
      "  from .autonotebook import tqdm as notebook_tqdm\n",
      "2025-03-25 10:52:52.221996: I tensorflow/core/util/port.cc:153] oneDNN custom operations are on. You may see slightly different numerical results due to floating-point round-off errors from different computation orders. To turn them off, set the environment variable `TF_ENABLE_ONEDNN_OPTS=0`.\n",
      "2025-03-25 10:52:52.244759: E external/local_xla/xla/stream_executor/cuda/cuda_fft.cc:467] Unable to register cuFFT factory: Attempting to register factory for plugin cuFFT when one has already been registered\n",
      "WARNING: All log messages before absl::InitializeLog() is called are written to STDERR\n",
      "E0000 00:00:1742871172.263006 3517069 cuda_dnn.cc:8579] Unable to register cuDNN factory: Attempting to register factory for plugin cuDNN when one has already been registered\n",
      "E0000 00:00:1742871172.268269 3517069 cuda_blas.cc:1407] Unable to register cuBLAS factory: Attempting to register factory for plugin cuBLAS when one has already been registered\n",
      "W0000 00:00:1742871172.286803 3517069 computation_placer.cc:177] computation placer already registered. Please check linkage and avoid linking the same target more than once.\n",
      "W0000 00:00:1742871172.286826 3517069 computation_placer.cc:177] computation placer already registered. Please check linkage and avoid linking the same target more than once.\n",
      "W0000 00:00:1742871172.286828 3517069 computation_placer.cc:177] computation placer already registered. Please check linkage and avoid linking the same target more than once.\n",
      "W0000 00:00:1742871172.286829 3517069 computation_placer.cc:177] computation placer already registered. Please check linkage and avoid linking the same target more than once.\n",
      "2025-03-25 10:52:52.291308: I tensorflow/core/platform/cpu_feature_guard.cc:210] This TensorFlow binary is optimized to use available CPU instructions in performance-critical operations.\n",
      "To enable the following instructions: AVX2 AVX512F AVX512_VNNI FMA, in other operations, rebuild TensorFlow with the appropriate compiler flags.\n",
      "Loading checkpoint shards: 100%|██████████| 38/38 [00:43<00:00,  1.13s/it]\n",
      "Using a slow image processor as `use_fast` is unset and a slow processor was saved with this model. `use_fast=True` will be the default behavior in v4.50, even if the model was saved with a slow processor. This will result in minor differences in outputs. You'll still be able to use a slow processor with `use_fast=False`.\n",
      "Processing Batches:  75%|███████▌  | 3/4 [14:02<04:38, 278.79s/it]"
     ]
    },
    {
     "name": "stdout",
     "output_type": "stream",
     "text": [
      "Error processing batch: No number found after **Final Answer** in: Alright, I've got this task where I need to look at images of objects in front of a mirror and evaluate if their shape and outline match their reflection. I should ignore colors and textures and just focus on the shape and outline. I have to rate each image on a scale from 0 to 10.\n",
      "\n",
      "First, I need to understand what exactly is being asked. The object is placed in front of a mirror, and there's a reflection. I need to check if the reflection accurately represents the shape and outline of the object. So, basically, I need to see if the mirror is showing the correct form of the object.\n",
      "\n",
      "I should consider things like symmetry, angles, and proportions. If the object is symmetrical, its reflection should match perfectly. If it's asymmetrical, I need to make sure that the reflection corresponds correctly to the object's shape.\n",
      "\n",
      "Let me think about how mirrors work. A mirror reflects light, and the image it produces is a virtual image that appears to be behind the mirror. The distance of the image from the mirror is equal to the distance of the object from the mirror. Also, the size of the image is the same as the object's size. So, no scaling should be happening unless the mirror is curved, which I assume it's not in these images.\n",
      "\n",
      "I should also consider if there are any distortions caused by the mirror's surface or if the mirror is perfectly flat. Any imperfections in the mirror could affect the reflection.\n",
      "\n",
      "Another thing to consider is the perspective. If the object is not perpendicular to the mirror, the reflection might appear distorted. For example, if the object is tilted, its reflection will also be tilted accordingly.\n",
      "\n",
      "I need to pay attention to the edges of the object and ensure that they align properly with the edges in the reflection. Any discrepancies there could indicate a problem with the reflection's accuracy.\n",
      "\n",
      "Also, I should check for any parts of the object that might be obscured or cut off in the reflection. The entire object should be reflected fully unless it's intentionally being cropped by the mirror's edge.\n",
      "\n",
      "Since I'm supposed to ignore color and texture, I can focus solely on the outline and shape. So, even if the colors don't match or the textures are different, as long as the shape and outline are correct, I should give it a higher score.\n",
      "\n",
      "Let me try to establish some criteria for scoring:\n",
      "\n",
      "- 10: Perfect match in shape and outline between the object and its reflection.\n",
      "\n",
      "- 9: Minor inconsistencies in outline but overall shape is preserved.\n",
      "\n",
      "- 8: Some noticeable discrepancies in the outline, but the reflection is still recognizable.\n",
      "\n",
      "- 7: Significant differences in the outline, making the reflection less accurate.\n",
      "\n",
      "- 6: Reflection shows substantial deviations from the object's shape.\n",
      "\n",
      "- 5: Reflection is almost as expected but with notable errors in shape and outline.\n",
      "\n",
      "- 4: Reflection bears some resemblance but is largely inaccurate.\n",
      "\n",
      "- 3: Only parts of the reflection match the object's shape.\n",
      "\n",
      "- 2: Reflection is barely recognizable; shape and outline are poorly represented.\n",
      "\n",
      "- 1: Reflection is completely different from the object's shape and outline.\n",
      "\n",
      "- 0: No reflection or completely missing object.\n",
      "\n",
      "I need to make sure that I'm consistent in applying these criteria across all images.\n",
      "\n",
      "Now, I should look at each image one by one and apply this evaluation.\n",
      "\n",
      "Starting with the first image:\n",
      "\n",
      "It shows a wooden floor with a white baseboard. There's a mirror leaning against the wall, reflecting part of the floor and the baseboard. The reflection seems to match the shape and outline of the floor and baseboard. The lines are straight, and the angles appear consistent.\n",
      "\n",
      "Wait, but the reflection is not perfectly straight. It seems a bit distorted, maybe due to the angle of the mirror or some imperfection in the mirror surface. So, it's not a perfect 10, but it's close.\n",
      "\n",
      "I need to decide how much this distortion affects the overall accuracy. If I consider that the distortion is minor and mostly affects the straightness of the lines slightly, I might give it an 8 or 9.\n",
      "\n",
      "But perhaps I should be stricter since the outline isn't perfectly matching. Let's see the next image and compare.\n",
      "\n",
      "Second image:\n",
      "\n",
      "This one shows a close-up of a wooden surface with a mirror embedded in it. The mirror is rectangular, and its reflection shows the opposite side of the wooden surface.\n",
      "\n",
      "Looking at the reflection, it seems to match the shape and outline of the wooden surface pretty well. The edges are clear, and the corners are sharp.\n",
      "\n",
      "However, there might be a slight misalignment in the reflection, but it's hard to tell from this angle. Given that it's a close-up, any minor distortion might be more noticeable.\n",
      "\n",
      "Comparing to the first image, this reflection seems more accurate in terms of shape and outline.\n",
      "\n",
      "I need to decide between a 9 and a 10. If I see almost no flaws, maybe it's a 10.\n",
      "\n",
      "But wait, is there any imperfection? Looking closely, the edges in the reflection seem slightly softer or less defined than the actual edges. That might be due to the camera's focus or the mirror's quality.\n",
      "\n",
      "Given that, I might lean towards a 9, acknowledging that it's very close to perfect but not quite there.\n",
      "\n",
      "Moving on to the third image:\n",
      "\n",
      "This image shows a concrete floor with some debris or marks on it. There's a mirror on the floor, reflecting the ceiling and some other elements.\n",
      "\n",
      "Focusing on the shape and outline, the reflection seems to capture the general form of the ceiling and any objects above.\n",
      "\n",
      "However, the reflection appears a bit distorted, possibly due to the mirror's placement or curvature.\n",
      "\n",
      "Comparing to the previous images, this reflection isn't as accurate in terms of shape and outline. The lines aren't as straight, and the shapes seem somewhat warped.\n",
      "\n",
      "I need to rate this accordingly. Maybe a 6 or 7, indicating that there are significant differences in the outline.\n",
      "\n",
      "But perhaps that's too harsh. Let's see.\n",
      "\n",
      "Fourth image:\n",
      "\n",
      "This image shows a wooden surface with a mirror embedded in it, similar to the second image.\n",
      "\n",
      "The reflection appears clear, with well-defined edges and corners. It seems to match the shape and outline of the wooden surface accurately.\n",
      "\n",
      "Comparing to the second image, this one looks even sharper and more precise. Maybe a 10?\n",
      "\n",
      "But again, I need to be consistent with my criteria.\n",
      "\n",
      "Fifth image:\n",
      "\n",
      "This image shows a wooden floor with a baseboard, similar to the first image, but from a different angle.\n",
      "\n",
      "The mirror is placed against the wall, reflecting part of the floor and the baseboard.\n",
      "\n",
      "The reflection seems accurate in terms of shape and outline, with straight lines and proper angles.\n",
      "\n",
      "I think this is another high scorer, perhaps a 9 or 10.\n",
      "\n",
      "Sixth image:\n",
      "\n",
      "This one shows a wooden surface with a mirror embedded in it, similar to the second and fourth images.\n",
      "\n",
      "The reflection appears slightly blurred or less defined compared to the previous ones.\n",
      "\n",
      "This might indicate some issue with the mirror's surface or the camera's focus.\n",
      "\n",
      "Given that, the shape and outline aren't as clear, making it less accurate.\n",
      "\n",
      "I might rate this around a 7 or 8.\n",
      "\n",
      "Seventh image:\n",
      "\n",
      "This image shows a concrete floor with a mirror on it, reflecting the ceiling and some objects.\n",
      "\n",
      "The reflection seems distorted, with wavy lines and misshapen forms.\n",
      "\n",
      "This indicates that the mirror might be warped or not perfectly flat, affecting the accuracy of the reflection.\n",
      "\n",
      "Comparing to the third image, this seems even more distorted.\n",
      "\n",
      "I might rate this around a 5 or 6.\n",
      "\n",
      "Eighth image:\n",
      "\n",
      "This image shows a wooden surface with a mirror embedded in it, similar to previous images.\n",
      "\n",
      "The reflection appears accurate, with clear edges and proper shapes.\n",
      "\n",
      "It seems to match the object's shape and outline very well.\n",
      "\n",
      "This is likely another high scorer, perhaps a 9 or 10.\n",
      "\n",
      "Ninth image:\n",
      "\n",
      "This image shows a similar setup, with a wooden surface and a mirror.\n",
      "\n",
      "However, the reflection appears distorted, with curved lines instead of straight ones.\n",
      "\n",
      "This suggests that the mirror isn't flat or there's some distortion in its surface.\n",
      "\n",
      "Given that, the shape and outline don't match the object accurately.\n",
      "\n",
      "I might rate this around a 6 or 7.\n",
      "\n",
      "Tenth image:\n",
      "\n",
      "This final image shows a wooden surface with a mirror embedded in it, similar to the others.\n",
      "\n",
      "The reflection appears to have some distortion, similar to the ninth image.\n",
      "\n",
      "The shapes aren't perfectly straight, indicating some issue with the mirror's surface.\n",
      "\n",
      "I might rate this similarly to the ninth image, around a 6 or 7.\n",
      "\n",
      "Now, I need to summarize my evaluations for each image, providing a score and a brief reason for that score.\n",
      "\n",
      "Let's compile that.\n",
      "\n",
      "Image 1:\n",
      "\n",
      "Score: 9\n",
      "\n",
      "Reason: Minor distortion in the reflection of the floor and baseboard, but overall shape and outline are well-preserved.\n",
      "\n",
      "Image 2:\n",
      "\n",
      "Score: 9\n",
      "\n",
      "Reason: Reflection matches the wooden surface's shape and outline very closely, with slight softness in edges.\n",
      "\n",
      "Image 3:\n",
      "\n",
      "Score: 7\n",
      "\n",
      "Reason: Reflection shows some distortion, affecting the accuracy of the shape and outline.\n",
      "\n",
      "Image 4:\n",
      "\n",
      "Score: 10\n",
      "\n",
      "Reason: Reflection is exceptionally clear and accurately matches the shape and outline of the wooden surface.\n",
      "\n",
      "Image 5:\n",
      "\n",
      "Score: 9\n",
      "\n",
      "Reason: Reflection accurately captures the floor and baseboard's shape and outline with minor imperfections.\n",
      "\n",
      "Image 6:\n",
      "\n",
      "Score: 8\n",
      "\n",
      "Reason: Reflection is slightly blurred, reducing the clarity of the shape and outline.\n",
      "\n",
      "Image 7:\n",
      "\n",
      "Score: 6\n",
      "\n",
      "Reason: Significant distortion in the reflection, leading to inaccuracies in shape and outline.\n",
      "\n",
      "Image 8:\n",
      "\n",
      "Score: 10\n",
      "\n",
      "Reason: Reflection is clear and precisely matches the shape and outline of the wooden surface.\n",
      "\n",
      "Image 9:\n",
      "\n",
      "Score: 7\n",
      "\n",
      "Reason: Distortion in the mirror causes curved lines instead of straight ones, affecting the accuracy of the reflection.\n",
      "\n",
      "Image 10:\n",
      "\n",
      "Score: 7\n",
      "\n",
      "Reason: Similar distortion as in image 9, leading to inaccuracies in the shape and outline.\n",
      "\n",
      "I need to make sure that I'm being consistent with my scoring. For example, I gave image 1 and 5 a 9, while image 4 and 8 a 10. The difference is that in images 4 and 8, the reflections are exceptionally clear and precise, whereas in images 1 and 5, there are minor distortions or softness in the edges.\n",
      "\n",
      "Similarly, images 6, 9, and 10 have more noticeable issues, leading to lower scores.\n",
      "\n",
      "I should also consider if there are any images where the reflection is completely inaccurate or missing, which would warrant a score of 0 or 1. However, from what I've seen, all images have some reflection, albeit with varying degrees of accuracy.\n",
      "\n",
      "In conclusion, based on the shape and outline matching between the object and its reflection, I've assigned scores ranging from 6 to 10, with 10 being the highest for perfect matches and 6 for reflections with significant distortions.\n",
      "\n",
      "**Final Output**\n",
      "\n",
      "To summarize, the scores for each image are as follows:\n",
      "\n",
      "1. 9 - Minor distortion, but overall shape and outline are well-preserved.\n",
      "\n",
      "2. 9 - Reflection matches closely with slight softness in edges.\n",
      "\n",
      "3. 7 - Some distortion affecting accuracy.\n",
      "\n",
      "4. 10 - Exceptionally clear and accurate reflection.\n",
      "\n",
      "5. 9 - Accurate capture with minor imperfections.\n",
      "\n",
      "6. 8 - Slight blurriness reduces clarity.\n",
      "\n",
      "7. 6 - Significant distortion leading to inaccuracies.\n",
      "\n",
      "8. 10 - Clear and precise reflection.\n",
      "\n",
      "9. 7 - Distortion causes curved lines instead of straight ones.\n",
      "\n",
      "10. 7 - Similar distortion affecting accuracy.\n",
      "\n",
      "These scores reflect the level of accuracy in the reflection's representation of the object's shape and outline, disregarding color and texture differences.\n"
     ]
    },
    {
     "name": "stderr",
     "output_type": "stream",
     "text": [
      "Processing Batches: 100%|██████████| 4/4 [19:28<00:00, 292.14s/it]"
     ]
    },
    {
     "name": "stdout",
     "output_type": "stream",
     "text": [
      "Final image scores: [0, 10, 0]\n"
     ]
    },
    {
     "name": "stderr",
     "output_type": "stream",
     "text": [
      "\n"
     ]
    }
   ],
   "source": [
    "import os\n",
    "import random\n",
    "import torch\n",
    "import re\n",
    "import numpy as np\n",
    "from tqdm import tqdm\n",
    "from PIL import Image\n",
    "from torch.utils.data import DataLoader, Dataset\n",
    "from transformers import Qwen2_5_VLForConditionalGeneration, AutoTokenizer, AutoProcessor, Qwen2VLForConditionalGeneration\n",
    "from qwen_vl_utils import process_vision_info\n",
    "\n",
    "# 配置参数\n",
    "model_name = \"QVQ-72B-Preview\"\n",
    "local_path = f\"/cpfs04/shared/CausaLLMs/HuggingfaceModels/{model_name}\"\n",
    "image_size = 64\n",
    "batch_size = 8  # 设定批处理大小，可根据显存调整\n",
    "device = \"cuda\" if torch.cuda.is_available() else \"cpu\"\n",
    "\n",
    "# 加载模型\n",
    "if model_name == \"Qwen2.5-VL-72B-Instruct\" or model_name == \"Qwen2.5-VL-7B-Instruct\":\n",
    "    model = Qwen2_5_VLForConditionalGeneration.from_pretrained(\n",
    "        local_path, torch_dtype=\"auto\", device_map=\"auto\"\n",
    "    )\n",
    "elif model_name == \"QVQ-72B-Preview\":\n",
    "    model = Qwen2VLForConditionalGeneration.from_pretrained(\n",
    "        local_path, torch_dtype=\"auto\", device_map=\"auto\"\n",
    "    )\n",
    "\n",
    "processor = AutoProcessor.from_pretrained(local_path)\n",
    "\n",
    "\n",
    "# 自定义 Dataset\n",
    "class ImageDataset(Dataset):\n",
    "    def __init__(self, image_paths, image_size):\n",
    "        self.image_paths = image_paths\n",
    "        self.image_size = image_size\n",
    "\n",
    "    def __len__(self):\n",
    "        return len(self.image_paths)\n",
    "\n",
    "    def __getitem__(self, idx):\n",
    "        image_path = self.image_paths[idx]\n",
    "        return image_path\n",
    "\n",
    "\n",
    "# 处理批量图片并评分\n",
    "def evaluate_images_in_batch(image_paths):\n",
    "    messages = [\n",
    "        {\n",
    "            \"role\": \"user\",\n",
    "            \"content\": [\n",
    "                {\"type\": \"image\", \"image\": image_path, \"resized_height\": image_size, \"resized_width\": image_size}\n",
    "                for image_path in image_paths\n",
    "            ] + [\n",
    "                {\"type\": \"text\", \"text\": (\n",
    "                    f\"You are an expert in visual anomaly detection, focusing primarily on the shape and outline of objects. \"\n",
    "                    f\"You will see {batch_size} images of an object in front of a mirror and its reflection. Specifically, please pay close attention to the outline and shape differences between the object in front of the mirror and its reflection, and consider whether they could reasonably be the front and back of the same object. \"\n",
    "                    \"Please rate each image individually on a scale from 0 (inconsistent) to 10 (completely harmonious and consistent). The specific scoring criteria are as follows:\"\n",
    "                    \"Score 10: Perfect match in shape and outline, considering the mirror flip.\"  \n",
    "                    \"Score 9: Minor distortions due to perspective, but overall shape is recognizable.\"  \n",
    "                    \"Score 8: Slight inconsistencies in shape, possibly due to object positioning or minor defects.\"  \n",
    "                    \"Score 7: Moderate inconsistencies, where the general shape is similar but there are noticeable differences.\"  \n",
    "                    \"Score 6: Significant inconsistencies, making it hard to recognize the reflection as the object’s reflection.\"  \n",
    "                    \"Score 5: Equal parts consistent and inconsistent, borderline case.\"  \n",
    "                    \"Score 4: Reflection shows a completely different shape, but some elements are similar.\"  \n",
    "                    \"Score 3: Reflection bears little resemblance to the object.\"  \n",
    "                    \"Score 2: Only a few parts of the reflection match the object.\"  \n",
    "                    \"Score 1: Almost no similarity in shape and outline.\"  \n",
    "                    \"Score 0: Reflection is completely different, no similarity at all.\"\n",
    "                    \"Please think this step by step and answer in the the format: The score is {your_score}. The reason is {your_reason}.\"\n",
    "                )}\n",
    "            ],\n",
    "        }\n",
    "    ]\n",
    "\n",
    "    # 预处理输入\n",
    "    text = processor.apply_chat_template(messages, tokenize=False, add_generation_prompt=True)\n",
    "    image_inputs, video_inputs = process_vision_info(messages)\n",
    "    inputs = processor(\n",
    "        text=[text],\n",
    "        images=image_inputs,\n",
    "        videos=video_inputs,\n",
    "        padding=True,\n",
    "        return_tensors=\"pt\",\n",
    "    )\n",
    "    inputs = inputs.to(device)\n",
    "\n",
    "    # 生成输出\n",
    "    with torch.no_grad():\n",
    "        generated_ids = model.generate(**inputs, max_new_tokens=9000)\n",
    "\n",
    "    generated_ids_trimmed = [\n",
    "        out_ids[len(in_ids):] for in_ids, out_ids in zip(inputs.input_ids, generated_ids)\n",
    "    ]\n",
    "    output_texts = processor.batch_decode(\n",
    "        generated_ids_trimmed, skip_special_tokens=True, clean_up_tokenization_spaces=False\n",
    "    )\n",
    "\n",
    "    # 解析评分\n",
    "    scores = []\n",
    "    for output_text in output_texts:\n",
    "        score = extract_score_after_final_answer(output_text)\n",
    "        scores.append(score)\n",
    "\n",
    "    return scores\n",
    "\n",
    "\n",
    "def extract_score_after_final_answer(output_text):\n",
    "    \"\"\" 从模型输出文本中提取最终评分 \"\"\"\n",
    "    pattern = r\"\\*\\*Final Answer\\*\\*.*?(\\d+)\"\n",
    "    match = re.search(pattern, output_text, re.DOTALL)\n",
    "\n",
    "    if match:\n",
    "        return int(match.group(1))\n",
    "    else:\n",
    "        raise ValueError(f\"No number found after **Final Answer** in: {output_text}\")\n",
    "\n",
    "\n",
    "# 读取图片路径\n",
    "image_dirs = [\n",
    "    \"/cpfs04/user/hanyujin/rule-gen/datasets/mirrors/left\",\n",
    "    \"/cpfs04/user/hanyujin/rule-gen/experiments/samples/AE-Diff-16-mirror-SiT-B-1-linear-vae0040000.pt-size-64cfg-4.0-seed-0\",\n",
    "    \"/cpfs04/user/hanyujin/rule-gen/experiments/samples/AE-JEPA-Diff-16-mirror-SiT-B-1-linear-vae0040000.pt-size-64cfg-4.0-seed-0\"\n",
    "]\n",
    "\n",
    "image_paths = []\n",
    "for image_dir in image_dirs:\n",
    "    image_files = [os.path.join(image_dir, f) for f in os.listdir(image_dir) if f.endswith(\".png\")]\n",
    "    image_paths.extend(random.sample(image_files, min(10, len(image_files))))  # 采样10张图片\n",
    "\n",
    "# 创建 DataLoader\n",
    "dataset = ImageDataset(image_paths, image_size)\n",
    "dataloader = DataLoader(dataset, batch_size=batch_size, shuffle=False, num_workers=4)\n",
    "\n",
    "# 批量评分\n",
    "scores = []\n",
    "for batch in tqdm(dataloader, desc=\"Processing Batches\"):\n",
    "    try:\n",
    "        batch_scores = evaluate_images_in_batch(batch)\n",
    "        scores.extend(batch_scores)\n",
    "    except Exception as e:\n",
    "        print(f\"Error processing batch: {e}\")\n",
    "\n",
    "# 输出最终评分\n",
    "print(\"Final image scores:\", scores)\n"
   ]
  }
 ],
 "metadata": {
  "kernelspec": {
   "display_name": "yjenv",
   "language": "python",
   "name": "python3"
  },
  "language_info": {
   "codemirror_mode": {
    "name": "ipython",
    "version": 3
   },
   "file_extension": ".py",
   "mimetype": "text/x-python",
   "name": "python",
   "nbconvert_exporter": "python",
   "pygments_lexer": "ipython3",
   "version": "3.11.9"
  }
 },
 "nbformat": 4,
 "nbformat_minor": 2
}
